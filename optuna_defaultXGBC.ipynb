{
 "cells": [
  {
   "cell_type": "markdown",
   "metadata": {},
   "source": [
    "default XGBClassifier model"
   ]
  },
  {
   "cell_type": "code",
   "execution_count": 9,
   "metadata": {},
   "outputs": [],
   "source": [
    "import optuna\n",
    "import numpy as np\n",
    "import pandas as pd\n",
    "import xgboost as xgb\n",
    "from xgboost import XGBClassifier\n",
    "from sklearn.model_selection import train_test_split\n",
    "from sklearn.metrics import accuracy_score, classification_report"
   ]
  },
  {
   "cell_type": "code",
   "execution_count": 10,
   "metadata": {},
   "outputs": [],
   "source": [
    "#import cleaned data set\n",
    "df = pd.read_csv(\"clean_dataset.csv\")"
   ]
  },
  {
   "cell_type": "code",
   "execution_count": 11,
   "metadata": {},
   "outputs": [],
   "source": [
    "#hide warnings so they do not affect the functionality of the package\n",
    "import warnings\n",
    "warnings.filterwarnings('ignore')"
   ]
  },
  {
   "cell_type": "code",
   "execution_count": 12,
   "metadata": {},
   "outputs": [],
   "source": [
    "features_list = ['Maritalstatus', 'Applicationmode', 'Applicationorder', 'Course',\n",
    "       'Daytimeeveningattendance', 'Previousqualification', 'Nationality',\n",
    "       'Mothersqualification', 'Fathersqualification', 'Mothersoccupation',\n",
    "       'Fathersoccupation', 'Displaced', 'Educationalspecialneeds', 'Debtor',\n",
    "       'Tuitionfeesuptodate', 'Gender', 'Scholarshipholder', 'Ageatenrollment',\n",
    "       'International', 'Curricularunits1stsem(credited)',\n",
    "       'Curricularunits1stsem(enrolled)', 'Curricularunits1stsem(evaluations)',\n",
    "       'Curricularunits1stsem(approved)', 'Curricularunits1stsem(grade)',\n",
    "       'Curricularunits1stsem(withoutevaluations)',\n",
    "       'Curricularunits2ndsem(credited)', 'Curricularunits2ndsem(enrolled)',\n",
    "       'Curricularunits2ndsem(evaluations)', 'Curricularunits2ndsem(approved)',\n",
    "       'Curricularunits2ndsem(grade)',\n",
    "       'Curricularunits2ndsem(withoutevaluations)', 'Unemploymentrate',\n",
    "       'Inflationrate', 'GDP']\n",
    "\n",
    "forecast_var = [\"Target\"]"
   ]
  },
  {
   "cell_type": "code",
   "execution_count": 13,
   "metadata": {},
   "outputs": [],
   "source": [
    "from sklearn.preprocessing import LabelEncoder\n",
    "\n",
    "X = df[features_list]\n",
    "y = df[forecast_var] \n",
    "\n",
    "# Encode categorical features\n",
    "y = y.astype(\"category\")\n",
    "le = LabelEncoder()\n",
    "y = le.fit_transform(np.ravel(y))\n",
    "\n",
    "#Normalise numerical features\n",
    "X_train, X_test, y_train, y_test = train_test_split(X, y, train_size=0.9)"
   ]
  },
  {
   "cell_type": "code",
   "execution_count": 14,
   "metadata": {},
   "outputs": [],
   "source": [
    "from sklearn.metrics import accuracy_score\n",
    "from sklearn.metrics import mean_squared_error\n",
    "\n",
    "def objective(trial):\n",
    "    #define the hyperparameters to optimize\n",
    "    param = {\n",
    "        'max_depth': trial.suggest_int('max_depth', 2, 15),\n",
    "        'subsample': trial.suggest_discrete_uniform('subsample', 0.6, 1.0, 0.05),\n",
    "        'n_estimators': trial.suggest_int('n_estimators', 1000, 10000, 100),\n",
    "        'eta': trial.suggest_discrete_uniform('eta', 0.01, 0.1, 0.01),\n",
    "        'reg_alpha': trial.suggest_int('reg_alpha', 1, 50),\n",
    "        'reg_lambda': trial.suggest_int('reg_lambda', 5, 100),\n",
    "        'min_child_weight': trial.suggest_int('min_child_weight', 2, 20),\n",
    "        \"colsample_bytree\": trial.suggest_float(\"colsample_bytree\", 0.1, 1.0)}\n",
    "\n",
    "    #define model\n",
    "    model = XGBClassifier(use_label_encoder=False, eval_metric='mlogloss')\n",
    "    model.fit(X_train, y_train)\n",
    "    preds = model.predict(X_test)\n",
    "    acc = accuracy_score(y_test, preds)\n",
    "    return acc"
   ]
  },
  {
   "cell_type": "code",
   "execution_count": 15,
   "metadata": {},
   "outputs": [
    {
     "name": "stderr",
     "output_type": "stream",
     "text": [
      "\u001b[32m[I 2023-03-27 14:45:37,705]\u001b[0m A new study created in memory with name: no-name-4b950129-453d-4ecc-8d75-2c272aef5d43\u001b[0m\n",
      "\u001b[32m[I 2023-03-27 14:45:38,248]\u001b[0m Trial 0 finished with value: 0.781038374717833 and parameters: {'max_depth': 7, 'subsample': 0.75, 'n_estimators': 2000, 'eta': 0.03, 'reg_alpha': 4, 'reg_lambda': 37, 'min_child_weight': 5, 'colsample_bytree': 0.7092788877133263}. Best is trial 0 with value: 0.781038374717833.\u001b[0m\n",
      "\u001b[32m[I 2023-03-27 14:45:38,753]\u001b[0m Trial 1 finished with value: 0.781038374717833 and parameters: {'max_depth': 2, 'subsample': 0.7, 'n_estimators': 2200, 'eta': 0.09, 'reg_alpha': 17, 'reg_lambda': 86, 'min_child_weight': 20, 'colsample_bytree': 0.1606148798116948}. Best is trial 0 with value: 0.781038374717833.\u001b[0m\n",
      "\u001b[32m[I 2023-03-27 14:45:39,292]\u001b[0m Trial 2 finished with value: 0.781038374717833 and parameters: {'max_depth': 8, 'subsample': 0.9, 'n_estimators': 6700, 'eta': 0.060000000000000005, 'reg_alpha': 12, 'reg_lambda': 19, 'min_child_weight': 10, 'colsample_bytree': 0.3253568412992962}. Best is trial 0 with value: 0.781038374717833.\u001b[0m\n",
      "\u001b[32m[I 2023-03-27 14:45:39,805]\u001b[0m Trial 3 finished with value: 0.781038374717833 and parameters: {'max_depth': 13, 'subsample': 1.0, 'n_estimators': 3200, 'eta': 0.01, 'reg_alpha': 24, 'reg_lambda': 40, 'min_child_weight': 14, 'colsample_bytree': 0.10699113638422936}. Best is trial 0 with value: 0.781038374717833.\u001b[0m\n",
      "\u001b[32m[I 2023-03-27 14:45:40,345]\u001b[0m Trial 4 finished with value: 0.781038374717833 and parameters: {'max_depth': 3, 'subsample': 0.85, 'n_estimators': 7200, 'eta': 0.08, 'reg_alpha': 17, 'reg_lambda': 18, 'min_child_weight': 2, 'colsample_bytree': 0.9212202160300845}. Best is trial 0 with value: 0.781038374717833.\u001b[0m\n",
      "\u001b[32m[I 2023-03-27 14:45:40,847]\u001b[0m Trial 5 finished with value: 0.781038374717833 and parameters: {'max_depth': 12, 'subsample': 0.8, 'n_estimators': 3800, 'eta': 0.02, 'reg_alpha': 6, 'reg_lambda': 35, 'min_child_weight': 14, 'colsample_bytree': 0.2966695721214858}. Best is trial 0 with value: 0.781038374717833.\u001b[0m\n",
      "\u001b[32m[I 2023-03-27 14:45:41,359]\u001b[0m Trial 6 finished with value: 0.781038374717833 and parameters: {'max_depth': 6, 'subsample': 0.95, 'n_estimators': 4800, 'eta': 0.03, 'reg_alpha': 27, 'reg_lambda': 78, 'min_child_weight': 6, 'colsample_bytree': 0.38583727818290303}. Best is trial 0 with value: 0.781038374717833.\u001b[0m\n",
      "\u001b[32m[I 2023-03-27 14:45:41,869]\u001b[0m Trial 7 finished with value: 0.781038374717833 and parameters: {'max_depth': 7, 'subsample': 0.8, 'n_estimators': 4900, 'eta': 0.060000000000000005, 'reg_alpha': 22, 'reg_lambda': 97, 'min_child_weight': 2, 'colsample_bytree': 0.45817416882059003}. Best is trial 0 with value: 0.781038374717833.\u001b[0m\n",
      "\u001b[32m[I 2023-03-27 14:45:42,363]\u001b[0m Trial 8 finished with value: 0.781038374717833 and parameters: {'max_depth': 4, 'subsample': 0.8, 'n_estimators': 1600, 'eta': 0.01, 'reg_alpha': 37, 'reg_lambda': 88, 'min_child_weight': 8, 'colsample_bytree': 0.6993470281211043}. Best is trial 0 with value: 0.781038374717833.\u001b[0m\n",
      "\u001b[32m[I 2023-03-27 14:45:42,868]\u001b[0m Trial 9 finished with value: 0.781038374717833 and parameters: {'max_depth': 6, 'subsample': 0.9, 'n_estimators': 3000, 'eta': 0.04, 'reg_alpha': 22, 'reg_lambda': 34, 'min_child_weight': 14, 'colsample_bytree': 0.2420916169481579}. Best is trial 0 with value: 0.781038374717833.\u001b[0m\n",
      "\u001b[32m[I 2023-03-27 14:45:43,392]\u001b[0m Trial 10 finished with value: 0.781038374717833 and parameters: {'max_depth': 10, 'subsample': 0.6, 'n_estimators': 10000, 'eta': 0.04, 'reg_alpha': 50, 'reg_lambda': 63, 'min_child_weight': 5, 'colsample_bytree': 0.6415330664405681}. Best is trial 0 with value: 0.781038374717833.\u001b[0m\n",
      "\u001b[32m[I 2023-03-27 14:45:43,907]\u001b[0m Trial 11 finished with value: 0.781038374717833 and parameters: {'max_depth': 15, 'subsample': 0.65, 'n_estimators': 1300, 'eta': 0.09999999999999999, 'reg_alpha': 4, 'reg_lambda': 63, 'min_child_weight': 20, 'colsample_bytree': 0.599073512758963}. Best is trial 0 with value: 0.781038374717833.\u001b[0m\n",
      "\u001b[32m[I 2023-03-27 14:45:44,421]\u001b[0m Trial 12 finished with value: 0.781038374717833 and parameters: {'max_depth': 2, 'subsample': 0.7, 'n_estimators': 2000, 'eta': 0.09999999999999999, 'reg_alpha': 1, 'reg_lambda': 53, 'min_child_weight': 20, 'colsample_bytree': 0.7754641784935934}. Best is trial 0 with value: 0.781038374717833.\u001b[0m\n",
      "\u001b[32m[I 2023-03-27 14:45:44,937]\u001b[0m Trial 13 finished with value: 0.781038374717833 and parameters: {'max_depth': 4, 'subsample': 0.7, 'n_estimators': 1100, 'eta': 0.08, 'reg_alpha': 10, 'reg_lambda': 5, 'min_child_weight': 17, 'colsample_bytree': 0.49475164740567823}. Best is trial 0 with value: 0.781038374717833.\u001b[0m\n",
      "\u001b[32m[I 2023-03-27 14:45:45,459]\u001b[0m Trial 14 finished with value: 0.781038374717833 and parameters: {'max_depth': 10, 'subsample': 0.7, 'n_estimators': 2700, 'eta': 0.08, 'reg_alpha': 33, 'reg_lambda': 66, 'min_child_weight': 10, 'colsample_bytree': 0.1182873420325316}. Best is trial 0 with value: 0.781038374717833.\u001b[0m\n",
      "\u001b[32m[I 2023-03-27 14:45:46,029]\u001b[0m Trial 15 finished with value: 0.781038374717833 and parameters: {'max_depth': 5, 'subsample': 0.75, 'n_estimators': 4200, 'eta': 0.04, 'reg_alpha': 14, 'reg_lambda': 47, 'min_child_weight': 17, 'colsample_bytree': 0.5571453751622817}. Best is trial 0 with value: 0.781038374717833.\u001b[0m\n",
      "\u001b[32m[I 2023-03-27 14:45:46,624]\u001b[0m Trial 16 finished with value: 0.781038374717833 and parameters: {'max_depth': 2, 'subsample': 0.6, 'n_estimators': 6500, 'eta': 0.05, 'reg_alpha': 7, 'reg_lambda': 80, 'min_child_weight': 6, 'colsample_bytree': 0.7507809038768938}. Best is trial 0 with value: 0.781038374717833.\u001b[0m\n",
      "\u001b[32m[I 2023-03-27 14:45:47,342]\u001b[0m Trial 17 finished with value: 0.781038374717833 and parameters: {'max_depth': 9, 'subsample': 0.75, 'n_estimators': 8400, 'eta': 0.06999999999999999, 'reg_alpha': 16, 'reg_lambda': 24, 'min_child_weight': 12, 'colsample_bytree': 0.47893659853423143}. Best is trial 0 with value: 0.781038374717833.\u001b[0m\n",
      "\u001b[32m[I 2023-03-27 14:45:47,955]\u001b[0m Trial 18 finished with value: 0.781038374717833 and parameters: {'max_depth': 12, 'subsample': 0.65, 'n_estimators': 2600, 'eta': 0.09, 'reg_alpha': 1, 'reg_lambda': 52, 'min_child_weight': 4, 'colsample_bytree': 0.8786890540899521}. Best is trial 0 with value: 0.781038374717833.\u001b[0m\n",
      "\u001b[32m[I 2023-03-27 14:45:48,533]\u001b[0m Trial 19 finished with value: 0.781038374717833 and parameters: {'max_depth': 8, 'subsample': 0.75, 'n_estimators': 5600, 'eta': 0.03, 'reg_alpha': 31, 'reg_lambda': 79, 'min_child_weight': 8, 'colsample_bytree': 0.9677836118093388}. Best is trial 0 with value: 0.781038374717833.\u001b[0m\n"
     ]
    }
   ],
   "source": [
    "study = optuna.create_study(direction='maximize')\n",
    "study.optimize(objective, n_trials=20) #change number of trials later"
   ]
  },
  {
   "cell_type": "code",
   "execution_count": 16,
   "metadata": {},
   "outputs": [
    {
     "name": "stdout",
     "output_type": "stream",
     "text": [
      "Number of finished trials: 20\n",
      "Best trial:\n",
      "  Value: 0.781038374717833\n",
      "  Params: \n",
      "    max_depth: 7\n",
      "    subsample: 0.75\n",
      "    n_estimators: 2000\n",
      "    eta: 0.03\n",
      "    reg_alpha: 4\n",
      "    reg_lambda: 37\n",
      "    min_child_weight: 5\n",
      "    colsample_bytree: 0.7092788877133263\n"
     ]
    }
   ],
   "source": [
    "print('Number of finished trials: {}'.format(len(study.trials)))\n",
    "print('Best trial:')\n",
    "trial = study.best_trial\n",
    "\n",
    "print('  Value: {}'.format(trial.value))\n",
    "print('  Params: ')\n",
    "\n",
    "for key, value in trial.params.items():\n",
    "    print('    {}: {}'.format(key, value))"
   ]
  },
  {
   "cell_type": "code",
   "execution_count": 17,
   "metadata": {},
   "outputs": [
    {
     "name": "stdout",
     "output_type": "stream",
     "text": [
      "Test accuracy: 0.781038374717833\n",
      "              precision    recall  f1-score   support\n",
      "\n",
      "           0       0.79      0.79      0.79       142\n",
      "           1       0.64      0.46      0.53        85\n",
      "           2       0.81      0.90      0.86       216\n",
      "\n",
      "    accuracy                           0.78       443\n",
      "   macro avg       0.75      0.72      0.73       443\n",
      "weighted avg       0.77      0.78      0.77       443\n",
      "\n"
     ]
    }
   ],
   "source": [
    "#get the best parameters and train and evaluate the RFC model with the best parameters\n",
    "best_params = study.best_params\n",
    "model = XGBClassifier(**best_params)\n",
    "model.fit(X_train, y_train)\n",
    "y_pred = model.predict(X_test)\n",
    "accuracy = accuracy_score(y_test, y_pred)\n",
    "print(\"Accuracy after tuning: %.2f%%\" % (accuracy * 100.0))\n",
    "print(classification_report(y_test, y_pred))"
   ]
  }
 ],
 "metadata": {
  "kernelspec": {
   "display_name": "Python 3.10.6 64-bit",
   "language": "python",
   "name": "python3"
  },
  "language_info": {
   "codemirror_mode": {
    "name": "ipython",
    "version": 3
   },
   "file_extension": ".py",
   "mimetype": "text/x-python",
   "name": "python",
   "nbconvert_exporter": "python",
   "pygments_lexer": "ipython3",
   "version": "3.10.6"
  },
  "orig_nbformat": 4,
  "vscode": {
   "interpreter": {
    "hash": "aee8b7b246df8f9039afb4144a1f6fd8d2ca17a180786b69acc140d282b71a49"
   }
  }
 },
 "nbformat": 4,
 "nbformat_minor": 2
}
