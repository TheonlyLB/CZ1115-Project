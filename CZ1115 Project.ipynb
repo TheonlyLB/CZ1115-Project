{
 "cells": [
  {
   "cell_type": "markdown",
   "id": "6a9a9b79",
   "metadata": {},
   "source": [
    "# **Dataset**"
   ]
  },
  {
   "cell_type": "markdown",
   "id": "1816d77f",
   "metadata": {},
   "source": [
    "Marital status: The marital status of the student. (Categorical) <br>\n",
    "Application mode: The method of application used by the student. (Categorical)<br>\n",
    "Application order: The order in which the student applied. (Numerical)<br>\n",
    "Course: The course taken by the student. (Categorical)<br>\n",
    "Daytime/evening attendance: Whether the student attends classes during the day or in the evening. (Categorical)<br>\n",
    "Previous qualification: The qualification obtained by the student before enrolling in higher education. (Categorical)<br>\n",
    "Nacionality: The nationality of the student. (Categorical)<br>\n",
    "Mother's qualification: The qualification of the student's mother. (Categorical)<br>\n",
    "Father's qualification: The qualification of the student's father. (Categorical)<br>\n",
    "Mother's occupation: The occupation of the student's mother. (Categorical)<br>\n",
    "Father's occupation: The occupation of the student's father. (Categorical)<br>\n",
    "Displaced: Whether the student is a displaced person. (Categorical)<br>\n",
    "Educational special needs: Whether the student has any special educational needs. (Categorical)<br>\n",
    "Debtor: Whether the student is a debtor. (Categorical)<br>\n",
    "Tuition fees up to date: Whether the student's tuition fees are up to date. (Categorical)<br>\n",
    "Gender: The gender of the student. (Categorical)<br>\n",
    "Scholarship holder: Whether the student is a scholarship holder. (Categorical)<br>\n",
    "Age at enrollment: The age of the student at the time of enrollment. (Numerical)<br>\n",
    "International: Whether the student is an international student. (Categorical)<br>\n",
    "Curricular units 1st sem (credited): The number of curricular units credited by the student in the first semester. (Numerical)<br>\n",
    "Curricular units 1st sem (enrolled): The number of curricular units enrolled by the student in the first semester. (Numerical)<br>\n",
    "Curricular units 1st sem (evaluations): The number of curricular units evaluated by the student in the first semester. (Numerical)<br>\n",
    "Curricular units 1st sem (approved): The number of curricular units approved by the student in the first semester. (Numerical)<br>"
   ]
  },
  {
   "cell_type": "markdown",
   "id": "0904bfae",
   "metadata": {},
   "source": [
    "# **Install Libraries**"
   ]
  },
  {
   "cell_type": "code",
   "execution_count": null,
   "id": "ebaa1b14",
   "metadata": {},
   "outputs": [],
   "source": [
    "!pip install scikit-learn\n",
    "!pip install xgboost\n",
    "!pip install featuretools\n",
    "!pip install optuna"
   ]
  },
  {
   "cell_type": "markdown",
   "id": "6bacd25a",
   "metadata": {},
   "source": [
    "# **Import Packages**"
   ]
  },
  {
   "cell_type": "code",
   "execution_count": 1,
   "id": "d474b578",
   "metadata": {},
   "outputs": [],
   "source": [
    "import sys\n",
    "import os\n",
    "import pandas as pd\n",
    "import numpy as np\n",
    "import seaborn as sb\n",
    "import sklearn as sk\n",
    "from sklearn.model_selection import train_test_split\n",
    "from sklearn.metrics import confusion_matrix, f1_score,classification_report,accuracy_score\n",
    "from sklearn.preprocessing import LabelEncoder\n",
    "import xgboost as xgb\n",
    "import featuretools as ft\n",
    "import optuna\n",
    "import matplotlib.pyplot as plt"
   ]
  },
  {
   "cell_type": "markdown",
   "id": "522c6819",
   "metadata": {},
   "source": [
    "# __Exploratory Data Analysis__"
   ]
  },
  {
   "cell_type": "code",
   "execution_count": 2,
   "id": "2b50ad6c",
   "metadata": {},
   "outputs": [
    {
     "data": {
      "text/plain": [
       "Index(['Marital status', 'Application mode', 'Application order', 'Course',\n",
       "       'Daytime/evening attendance', 'Previous qualification', 'Nacionality',\n",
       "       'Mother's qualification', 'Father's qualification',\n",
       "       'Mother's occupation', 'Father's occupation', 'Displaced',\n",
       "       'Educational special needs', 'Debtor', 'Tuition fees up to date',\n",
       "       'Gender', 'Scholarship holder', 'Age at enrollment', 'International',\n",
       "       'Curricular units 1st sem (credited)',\n",
       "       'Curricular units 1st sem (enrolled)',\n",
       "       'Curricular units 1st sem (evaluations)',\n",
       "       'Curricular units 1st sem (approved)',\n",
       "       'Curricular units 1st sem (grade)',\n",
       "       'Curricular units 1st sem (without evaluations)',\n",
       "       'Curricular units 2nd sem (credited)',\n",
       "       'Curricular units 2nd sem (enrolled)',\n",
       "       'Curricular units 2nd sem (evaluations)',\n",
       "       'Curricular units 2nd sem (approved)',\n",
       "       'Curricular units 2nd sem (grade)',\n",
       "       'Curricular units 2nd sem (without evaluations)', 'Unemployment rate',\n",
       "       'Inflation rate', 'GDP', 'Target'],\n",
       "      dtype='object')"
      ]
     },
     "execution_count": 2,
     "metadata": {},
     "output_type": "execute_result"
    }
   ],
   "source": [
    "df = pd.read_csv('dataset.csv')\n",
    "df.columns"
   ]
  },
  {
   "cell_type": "code",
   "execution_count": 3,
   "id": "4de6d597",
   "metadata": {},
   "outputs": [
    {
     "name": "stdout",
     "output_type": "stream",
     "text": [
      "<class 'pandas.core.frame.DataFrame'>\n",
      "RangeIndex: 4424 entries, 0 to 4423\n",
      "Data columns (total 35 columns):\n",
      " #   Column                                          Non-Null Count  Dtype  \n",
      "---  ------                                          --------------  -----  \n",
      " 0   Marital status                                  4424 non-null   int64  \n",
      " 1   Application mode                                4424 non-null   int64  \n",
      " 2   Application order                               4424 non-null   int64  \n",
      " 3   Course                                          4424 non-null   int64  \n",
      " 4   Daytime/evening attendance                      4424 non-null   int64  \n",
      " 5   Previous qualification                          4424 non-null   int64  \n",
      " 6   Nacionality                                     4424 non-null   int64  \n",
      " 7   Mother's qualification                          4424 non-null   int64  \n",
      " 8   Father's qualification                          4424 non-null   int64  \n",
      " 9   Mother's occupation                             4424 non-null   int64  \n",
      " 10  Father's occupation                             4424 non-null   int64  \n",
      " 11  Displaced                                       4424 non-null   int64  \n",
      " 12  Educational special needs                       4424 non-null   int64  \n",
      " 13  Debtor                                          4424 non-null   int64  \n",
      " 14  Tuition fees up to date                         4424 non-null   int64  \n",
      " 15  Gender                                          4424 non-null   int64  \n",
      " 16  Scholarship holder                              4424 non-null   int64  \n",
      " 17  Age at enrollment                               4424 non-null   int64  \n",
      " 18  International                                   4424 non-null   int64  \n",
      " 19  Curricular units 1st sem (credited)             4424 non-null   int64  \n",
      " 20  Curricular units 1st sem (enrolled)             4424 non-null   int64  \n",
      " 21  Curricular units 1st sem (evaluations)          4424 non-null   int64  \n",
      " 22  Curricular units 1st sem (approved)             4424 non-null   int64  \n",
      " 23  Curricular units 1st sem (grade)                4424 non-null   float64\n",
      " 24  Curricular units 1st sem (without evaluations)  4424 non-null   int64  \n",
      " 25  Curricular units 2nd sem (credited)             4424 non-null   int64  \n",
      " 26  Curricular units 2nd sem (enrolled)             4424 non-null   int64  \n",
      " 27  Curricular units 2nd sem (evaluations)          4424 non-null   int64  \n",
      " 28  Curricular units 2nd sem (approved)             4424 non-null   int64  \n",
      " 29  Curricular units 2nd sem (grade)                4424 non-null   float64\n",
      " 30  Curricular units 2nd sem (without evaluations)  4424 non-null   int64  \n",
      " 31  Unemployment rate                               4424 non-null   float64\n",
      " 32  Inflation rate                                  4424 non-null   float64\n",
      " 33  GDP                                             4424 non-null   float64\n",
      " 34  Target                                          4424 non-null   object \n",
      "dtypes: float64(5), int64(29), object(1)\n",
      "memory usage: 1.2+ MB\n"
     ]
    }
   ],
   "source": [
    "df.info() "
   ]
  },
  {
   "cell_type": "code",
   "execution_count": null,
   "id": "6fca387d",
   "metadata": {},
   "outputs": [],
   "source": [
    "countA, countB,countC = df.Target.value_counts()\n",
    "print(\"Ratio of classes = \", countA, \":\", countB, \":\", countC)"
   ]
  },
  {
   "cell_type": "markdown",
   "id": "a0389a58",
   "metadata": {},
   "source": [
    "# __Preprocessing__"
   ]
  },
  {
   "cell_type": "code",
   "execution_count": 4,
   "id": "e1272b1b",
   "metadata": {},
   "outputs": [],
   "source": [
    "# Rename columns\n",
    "df.rename(columns={'Nacionality': 'Nationality'}, inplace=True)\n",
    "\n",
    "features_list = ['Marital status', \n",
    "                 'Application mode',\n",
    "                 'Application order',\n",
    "                 'Course',\n",
    "                 'Daytime/evening attendance',\n",
    "                 'Previous qualification',\n",
    "                 'Nationality',\n",
    "                 \"Mother's qualification\",\n",
    "                 \"Father's qualification\",\n",
    "                 \"Mother's occupation\",\n",
    "                 \"Father's occupation\",\n",
    "                 'Displaced',\n",
    "                 'Educational special needs',\n",
    "                 'Debtor',\n",
    "                 'Tuition fees up to date',\n",
    "                 'Gender',\n",
    "                 'Scholarship holder',\n",
    "                 'Age at enrollment',\n",
    "                 'International',\n",
    "                 'Curricular units 1st sem (credited)',\n",
    "                 'Curricular units 1st sem (enrolled)',\n",
    "                 'Curricular units 1st sem (evaluations)',\n",
    "                 'Curricular units 1st sem (approved)',\n",
    "                 'Curricular units 1st sem (grade)',\n",
    "                 'Curricular units 1st sem (without evaluations)',\n",
    "                 'Curricular units 2nd sem (credited)',\n",
    "                 'Curricular units 2nd sem (enrolled)',\n",
    "                 'Curricular units 2nd sem (evaluations)',\n",
    "                 'Curricular units 2nd sem (approved)',\n",
    "                 'Curricular units 2nd sem (grade)',\n",
    "                 'Curricular units 2nd sem (without evaluations)',\n",
    "                 'Unemployment rate',\n",
    "                 'Inflation rate',\n",
    "                 'GDP']\n",
    "\n",
    "forecast_var = ['Target']"
   ]
  },
  {
   "cell_type": "code",
   "execution_count": 5,
   "id": "fa762199",
   "metadata": {},
   "outputs": [],
   "source": [
    "df[\"Marital status\"] = df[\"Marital status\"].astype(\"category\")\n",
    "df[\"Application mode\"] = df[\"Application mode\"].astype(\"category\")\n",
    "df[\"Course\"] = df[\"Course\"].astype(\"category\")\n",
    "df[\"Daytime/evening attendance\"] = df[\"Daytime/evening attendance\"].astype(\"category\")\n",
    "df[\"Nationality\"] = df[\"Nationality\"].astype(\"category\")\n",
    "df[\"Mother's occupation\"] = df[\"Mother's occupation\"].astype(\"category\")\n",
    "df[\"Father's occupation\"] = df[\"Father's occupation\"].astype(\"category\")\n",
    "df[\"Displaced\"] = df[\"Displaced\"].astype(\"category\")\n",
    "df[\"Educational special needs\"] = df[\"Educational special needs\"].astype(\"category\")\n",
    "df[\"Debtor\"] = df[\"Debtor\"].astype(\"category\")\n",
    "df[\"Tuition fees up to date\"] = df[\"Tuition fees up to date\"].astype(\"category\")\n",
    "df[\"Gender\"] = df[\"Gender\"].astype(\"category\")\n",
    "df[\"Scholarship holder\"] = df[\"Scholarship holder\"].astype(\"category\")\n",
    "df[\"International\"] = df[\"International\"].astype(\"category\")\n"
   ]
  },
  {
   "cell_type": "code",
   "execution_count": null,
   "id": "0e458d4f",
   "metadata": {},
   "outputs": [],
   "source": [
    "\n",
    "\n"
   ]
  },
  {
   "cell_type": "markdown",
   "id": "46067c80",
   "metadata": {},
   "source": [
    "## Creating Ordinal Data\n",
    "\n",
    "Ordinal scale is where the order matters but not the difference between values. <br>\n",
    "<br> Level of qualification can be ranked through an ordinal scale; however, it was not done so in the dataset. We hence need to reassign the numerical representations assigned to the qualification variables after ranking the various qualification levels provided.\n",
    "\n",
    "Reference: https://www.graphpad.com/support/faq/what-is-the-difference-between-ordinal-interval-and-ratio-variables-why-should-i-care/ "
   ]
  },
  {
   "cell_type": "markdown",
   "id": "036801b9",
   "metadata": {},
   "source": [
    "### Replacing and ranking the levels of qualifications under 'Previous qualification'"
   ]
  },
  {
   "cell_type": "markdown",
   "id": "3585e7cf",
   "metadata": {},
   "source": [
    "#### Initial list of variables for Previousqualification\n",
    "1—Secondary education <br>\n",
    "2—Higher education—bachelor’s degree <br>\n",
    "3—Higher education—degree <br>\n",
    "4—Higher education—master’s degree <br>\n",
    "5—Higher education—doctorate <br>\n",
    "6—Frequency of higher education <br>\n",
    "7—12th year of schooling—not completed <br>\n",
    "8—11th year of schooling—not completed <br>\n",
    "9—Other—11th year of schooling <br>\n",
    "10—10th year of schooling <br>\n",
    "11—10th year of schooling—not completed <br>\n",
    "12—Basic education 3rd cycle (9th/10th/11th year) or equivalent <br>\n",
    "13—Basic education 2nd cycle (6th/7th/8th year) or equivalent <br>\n",
    "14—Technological specialization course <br>\n",
    "15—Higher education—degree (1st cycle) <br>\n",
    "16—Professional higher technical course <br>\n",
    "17—Higher education—master’s degree (2nd cycle)\n",
    "\n",
    "#### Rearranged list of variables for Previousqualification\n",
    "\n",
    "From https://en.wikipedia.org/wiki/Education_in_Portugal, high school = secondary education which constitutes years 10, 11 and 12. \n",
    "\n",
    "1 - Basic education 2nd cycle (6th/7th/8th year) or equivalent <br>\n",
    "2 - 10th year of schooling—not completed <br>\n",
    "3 - 10th year of schooling <br>\n",
    "4 - 11th year of schooling—not completed <br>\n",
    "5 - Other—11th year of schooling = Basic education 3rd cycle (9th/10th/11th year) or equivalent <br>\n",
    "6 - 12th year of schooling—not completed <br>\n",
    "7 - Secondary education <br>\n",
    "8 - Frequency of higher education #assmue that higher education was incomplete <br>\n",
    "9 - Technological specialization course <br>\n",
    "10 - Professional higher technical course <br>\n",
    "11 - Higher education—degree = Higher education—degree (1st cycle) <br>\n",
    "12 - Higher education—bachelor’s degree <br>\n",
    "13 - Higher education—master’s degree <br>\n",
    "14 - Higher education—master’s degree (2nd cycle) <br>\n",
    "15 - Higher education—doctorate <br>"
   ]
  },
  {
   "cell_type": "code",
   "execution_count": 6,
   "id": "ea6b8b35",
   "metadata": {},
   "outputs": [],
   "source": [
    "#using key:value to replace values under 'Previous qualification'\n",
    "previous_qualification_mapper = {1:7, 2:12, 3:11, 4:13, 5:15, 6:8, 7:6, 8:4, 9:5, 10:3, 11:2, 12:5, 13:1, 14:9, 15:11, 16:10, 17:14}\n",
    "df[\"Previous qualification\"] = df['Previous qualification'].replace(previous_qualification_mapper)\n"
   ]
  },
  {
   "cell_type": "markdown",
   "id": "e7d9c820",
   "metadata": {},
   "source": [
    "### Replacing and ranking the levels of qualifications under 'Mother's qualification' and 'Father's qualification'"
   ]
  },
  {
   "cell_type": "markdown",
   "id": "e45216cf",
   "metadata": {},
   "source": [
    "#### Initial list of variables for Mother's qualification and Father's qualification \n",
    "1—Secondary Education—12th Year of Schooling or Equivalent <br>\n",
    "2—Higher Education—bachelor’s degree <br>\n",
    "3—Higher Education—degree <br>\n",
    "4—Higher Education—master’s degree <br>\n",
    "5—Higher Education—doctorate <br>\n",
    "6—Frequency of Higher Education <br>\n",
    "7—12th Year of Schooling—not completed <br>\n",
    "8—11th Year of Schooling—not completed <br>\n",
    "9—7th Year (Old) <br>\n",
    "10—Other—11th Year of Schooling <br>\n",
    "11—2nd year complementary high school course <br>\n",
    "12—10th Year of Schooling <br>\n",
    "13—General commerce course <br>\n",
    "14—Basic Education 3rd Cycle (9th/10th/11th Year) or Equivalent <br>\n",
    "15—Complementary High School Course <br>\n",
    "16—Technical-professional course <br>\n",
    "17—Complementary High School Course—not concluded <br>\n",
    "18—7th year of schooling <br>\n",
    "19—2nd cycle of the general high school course <br>\n",
    "20—9th Year of Schooling—not completed <br>\n",
    "21—8th year of schooling <br>\n",
    "22—General Course of Administration and Commerce <br>\n",
    "23—Supplementary Accounting and Administration <br>\n",
    "24—Unknown <br>\n",
    "25—Cannot read or write <br>\n",
    "26—Can read without having a 4th year of schooling <br>\n",
    "27—Basic education 1st cycle (4th/5th year) or equivalent <br>\n",
    "28—Basic Education 2nd Cycle (6th/7th/8th Year) or equivalent <br>\n",
    "29—Technological specialization course <br>\n",
    "30—Higher education—degree (1st cycle) <br>\n",
    "31—Specialized higher studies course <br>\n",
    "32—Professional higher technical course <br>\n",
    "33—Higher Education—master’s degree (2nd cycle) <br>\n",
    "34—Higher Education—doctorate (3rd cycle) "
   ]
  },
  {
   "cell_type": "markdown",
   "id": "44f291b8",
   "metadata": {},
   "source": [
    "#### Rearranged list of variables for Mother's qualification and Father's qualification"
   ]
  },
  {
   "cell_type": "markdown",
   "id": "8b8847bf",
   "metadata": {},
   "source": [
    "0 - Unknown <br>\n",
    "1 - Cannnot read or write <br>\n",
    "2 - Can read without having a 4th year of schooling <br>\n",
    "3 - Basic education 1st cycle (4th/5th year) or equivalent <br>\n",
    "4 - Basic Education 2nd Cycle (6th/7th/8th Year) or equivalent <br>\n",
    "5 - 7th year (Old) = 7th year of schooling <br>\n",
    "6 - 8th year of schooling <br>\n",
    "7 - 9th Year of Schooling—not completed <br>\n",
    "8 - Complementary High School Course—not concluded <br> \n",
    "9 - 10th Year of Schooling <br>\n",
    "10 - 11th Year of Schooling—not completed <br>\n",
    "11 - Other—11th Year of Schooling = 2nd year complementary high school course = Basic Education 3rd Cycle (9th/10th/11th Year) or Equivalent <br>\n",
    "12 - 12th Year of Schooling—not completed <br>\n",
    "13 - Secondary Education—12th Year of Schooling or Equivalent = Complementary High School Course = 2nd cycle of the general high school course #assume multiple cycles of high school refers to retaking high school after completing it. <br>\n",
    "14 - Frequency of Higher Education #assume that higher education was incomplete <br> \n",
    "15 - General commerce course = General Course of Administration and Commerce = Supplementary Accounting and Administration = Technical-professional course = Technological specialization course #assume these courses are merely general specialisation courses and part of higher education but does not constitute as degrees <br>\n",
    "16 - Specialized higher studies course = Professional higher technical course #assume these are higher level specialised that does not constitute degrees <br>\n",
    "17 - Higher Education—degree = Higher education—degree (1st cycle) #assume that 1st cycle means higher completed first higher education degree (eg double degree holders etc), we also assume that the unspecified degree refers to the lowest level of college associate degree https://thebestschools.org/degrees/college-degree-levels/ <br>\n",
    "18 - Higher Education—bachelor’s degree <br>\n",
    "19 - Higher Education—master’s degree <br>\n",
    "20 - Higher Education—master’s degree (2nd cycle) <br>\n",
    "21 - Higher Education—doctorate <br>\n",
    "22 - Higher Education—doctorate (3rd cycle) <br>\n",
    "                    "
   ]
  },
  {
   "cell_type": "code",
   "execution_count": 7,
   "id": "f77e85c0",
   "metadata": {},
   "outputs": [],
   "source": [
    "parent_qualification_mapper = {1:13, 2:18, 3:17, 4:19, 5:21, 6:14, 7:12, 8:10, 9:5, 10:11, 11:11, 12:9, 13:15, 14:11, 15:13, 16:15, 17:8, 18:5, 19:13, 20:7, 21:6, 22:15, 23:15, 24:0, 25:1, 26:2, 27:3, 28:4, 29:15, 30:17, 31:16, 32:16, 33:20, 34:22}\n",
    "df[\"Mother's qualification\"] = df[\"Mother's qualification\"].replace(parent_qualification_mapper)\n",
    "df[\"Father's qualification\"] = df[\"Father's qualification\"].replace(parent_qualification_mapper)"
   ]
  },
  {
   "cell_type": "markdown",
   "id": "09844306",
   "metadata": {},
   "source": [
    "#### Imputing unknown values in 'Mother's qualification', 'Father's qualification', 'Mother's occupation', 'Father's occupation'\n",
    "Mean imputation is often used when the missing values are numerical and the distribution of the variable is approximately normal. <br>\n",
    "Median imputation is preferred when the distribution is skewed, as the median is less sensitive to outliers than the mean.<br>\n",
    "Mode imputation is suitable for categorical variables or numerical variables with a small number of unique values.<br>\n",
    "Hence, missing values should be imputed with the mode for this dataset."
   ]
  },
  {
   "cell_type": "markdown",
   "id": "a89da8d0",
   "metadata": {},
   "source": [
    "#### Find skew and mode of each feature"
   ]
  },
  {
   "cell_type": "code",
   "execution_count": null,
   "id": "5040445c",
   "metadata": {},
   "outputs": [],
   "source": [
    "print('Mode: ',df[\"Mother's qualification\"].mode())\n",
    "print('Mode: ',df[\"Father's qualification\"].mode())\n",
    "print('Mode: ',df[\"Mother's occupation\"].mode())\n",
    "print('Mode: ',df[\"Father's occupation\"].mode())\n",
    "\n",
    "sb.catplot(y = \"Mother's qualification\", data = df, kind = \"count\")\n",
    "sb.catplot(y= \"Father's qualification\", data = df, kind = 'count')\n",
    "sb.catplot(y = \"Mother's occupation\", data = df, kind = \"count\")\n",
    "sb.catplot(y= \"Father's occupation\", data = df, kind = 'count')\n",
    "\n",
    "plt.show()"
   ]
  },
  {
   "cell_type": "code",
   "execution_count": 8,
   "id": "d397ec54",
   "metadata": {},
   "outputs": [],
   "source": [
    "#replace features 'Unknown' with the mode\n",
    "df[\"Mother's qualification\"] = df[\"Mother's qualification\"].replace({24:15})\n",
    "df[\"Father's qualification\"] = df[\"Father's qualification\"].replace({24:3})\n",
    "\n",
    "#replace features 'Other Situation' and '(blank)' with the mode\n",
    "df[\"Mother's occupation\"] = df[\"Mother's occupation\"].replace({12:10, 13:10})\n",
    "df[\"Father's occupation\"] = df[\"Father's occupation\"].replace({12:10, 13:10})"
   ]
  },
  {
   "cell_type": "code",
   "execution_count": 10,
   "id": "b1bd1c50",
   "metadata": {},
   "outputs": [],
   "source": [
    "#Save preprocessed dataset\n",
    "df.to_csv(\"clean_dataset_zon.csv\", index=False )"
   ]
  },
  {
   "cell_type": "code",
   "execution_count": 11,
   "id": "333d485f",
   "metadata": {},
   "outputs": [],
   "source": [
    "\"\"\"\"\"\"\n",
    "from sklearn.preprocessing import StandardScaler\n",
    "\n",
    "#Normalise numerical features to reduce differences between values of different columns\n",
    "ss = StandardScaler()\n",
    "numerical_features = ['Age at enrollment', 'Curricular units 1st sem (credited)',\n",
    "                 'Curricular units 1st sem (enrolled)',\n",
    "                 'Curricular units 1st sem (evaluations)',\n",
    "                 'Curricular units 1st sem (approved)',\n",
    "                 'Curricular units 1st sem (grade)',\n",
    "                 'Curricular units 1st sem (without evaluations)',\n",
    "                 'Curricular units 2nd sem (credited)',\n",
    "                 'Curricular units 2nd sem (enrolled)',\n",
    "                 'Curricular units 2nd sem (evaluations)',\n",
    "                 'Curricular units 2nd sem (approved)',\n",
    "                 'Curricular units 2nd sem (grade)',\n",
    "                 'Curricular units 2nd sem (without evaluations)',\n",
    "                 'Unemployment rate',\n",
    "                 'Inflation rate',\n",
    "                 'GDP',\"Mother's qualification\",\"Father's qualification\",\"Previous qualification\"]\n",
    "df[numerical_features] = ss.fit_transform(df[numerical_features])\n",
    "\n"
   ]
  },
  {
   "cell_type": "markdown",
   "id": "1430ecee",
   "metadata": {},
   "source": [
    "## Feature Engineering w FeatureTools"
   ]
  },
  {
   "cell_type": "code",
   "execution_count": 12,
   "id": "2e9865c8",
   "metadata": {},
   "outputs": [],
   "source": [
    "from featuretools.primitives import *"
   ]
  },
  {
   "cell_type": "code",
   "execution_count": 13,
   "id": "2c2080c7",
   "metadata": {},
   "outputs": [],
   "source": [
    "# Add tracker column to track index\n",
    "df.insert(0, 'Tracker', range(4424))"
   ]
  },
  {
   "cell_type": "code",
   "execution_count": 14,
   "id": "fe238a05",
   "metadata": {},
   "outputs": [],
   "source": [
    "# create an entity set 'es'\n",
    "es = ft.EntitySet(id = 'Target')\n",
    "\n",
    "# adding a dataframe \n",
    "es = es.add_dataframe(\n",
    "    dataframe_name=\"students\",\n",
    "    dataframe=df,\n",
    "    index=\"Tracker\",\n",
    ")"
   ]
  },
  {
   "cell_type": "markdown",
   "id": "06f2b26e",
   "metadata": {},
   "source": [
    "### Run Deep Feature Synthesis (DFS)"
   ]
  },
  {
   "cell_type": "code",
   "execution_count": 21,
   "id": "99fd74f2",
   "metadata": {},
   "outputs": [
    {
     "name": "stdout",
     "output_type": "stream",
     "text": [
      "Built 35 features\n",
      "EntitySet scattered to 3 workers in 9 seconds                                                                          \n",
      "Elapsed: 00:00 | Progress: 100%|███████████████████████████████████████████████████████████████████████████████████████\n"
     ]
    }
   ],
   "source": [
    "feature_matrix, feature_names = ft.dfs(entityset=es, target_dataframe_name = 'students',\n",
    "                                       max_depth = 1, verbose = 1, n_jobs = 3)"
   ]
  },
  {
   "cell_type": "code",
   "execution_count": 22,
   "id": "0f7c4abf",
   "metadata": {},
   "outputs": [
    {
     "data": {
      "text/html": [
       "<div>\n",
       "<style scoped>\n",
       "    .dataframe tbody tr th:only-of-type {\n",
       "        vertical-align: middle;\n",
       "    }\n",
       "\n",
       "    .dataframe tbody tr th {\n",
       "        vertical-align: top;\n",
       "    }\n",
       "\n",
       "    .dataframe thead th {\n",
       "        text-align: right;\n",
       "    }\n",
       "</style>\n",
       "<table border=\"1\" class=\"dataframe\">\n",
       "  <thead>\n",
       "    <tr style=\"text-align: right;\">\n",
       "      <th></th>\n",
       "      <th>Tracker</th>\n",
       "      <th>Marital status</th>\n",
       "      <th>Application mode</th>\n",
       "      <th>Application order</th>\n",
       "      <th>Course</th>\n",
       "      <th>Daytime/evening attendance</th>\n",
       "      <th>Previous qualification</th>\n",
       "      <th>Nationality</th>\n",
       "      <th>Mother's qualification</th>\n",
       "      <th>Father's qualification</th>\n",
       "      <th>...</th>\n",
       "      <th>Curricular units 2nd sem (credited)</th>\n",
       "      <th>Curricular units 2nd sem (enrolled)</th>\n",
       "      <th>Curricular units 2nd sem (evaluations)</th>\n",
       "      <th>Curricular units 2nd sem (approved)</th>\n",
       "      <th>Curricular units 2nd sem (grade)</th>\n",
       "      <th>Curricular units 2nd sem (without evaluations)</th>\n",
       "      <th>Unemployment rate</th>\n",
       "      <th>Inflation rate</th>\n",
       "      <th>GDP</th>\n",
       "      <th>Target</th>\n",
       "    </tr>\n",
       "  </thead>\n",
       "  <tbody>\n",
       "    <tr>\n",
       "      <th>0</th>\n",
       "      <td>0</td>\n",
       "      <td>1</td>\n",
       "      <td>8</td>\n",
       "      <td>5</td>\n",
       "      <td>2</td>\n",
       "      <td>1</td>\n",
       "      <td>-0.182347</td>\n",
       "      <td>1</td>\n",
       "      <td>0.206340</td>\n",
       "      <td>0.493130</td>\n",
       "      <td>...</td>\n",
       "      <td>-0.282442</td>\n",
       "      <td>-2.838337</td>\n",
       "      <td>-2.042630</td>\n",
       "      <td>-1.471527</td>\n",
       "      <td>-1.963489</td>\n",
       "      <td>-0.199441</td>\n",
       "      <td>-0.287638</td>\n",
       "      <td>0.124386</td>\n",
       "      <td>0.765761</td>\n",
       "      <td>Dropout</td>\n",
       "    </tr>\n",
       "    <tr>\n",
       "      <th>1</th>\n",
       "      <td>1</td>\n",
       "      <td>1</td>\n",
       "      <td>6</td>\n",
       "      <td>1</td>\n",
       "      <td>11</td>\n",
       "      <td>1</td>\n",
       "      <td>-0.182347</td>\n",
       "      <td>1</td>\n",
       "      <td>-0.848976</td>\n",
       "      <td>1.645184</td>\n",
       "      <td>...</td>\n",
       "      <td>-0.282442</td>\n",
       "      <td>-0.105726</td>\n",
       "      <td>-0.522682</td>\n",
       "      <td>0.518904</td>\n",
       "      <td>0.659562</td>\n",
       "      <td>-0.199441</td>\n",
       "      <td>0.876222</td>\n",
       "      <td>-1.105222</td>\n",
       "      <td>0.347199</td>\n",
       "      <td>Graduate</td>\n",
       "    </tr>\n",
       "    <tr>\n",
       "      <th>2</th>\n",
       "      <td>2</td>\n",
       "      <td>1</td>\n",
       "      <td>1</td>\n",
       "      <td>5</td>\n",
       "      <td>5</td>\n",
       "      <td>1</td>\n",
       "      <td>-0.182347</td>\n",
       "      <td>1</td>\n",
       "      <td>0.206340</td>\n",
       "      <td>-1.042942</td>\n",
       "      <td>...</td>\n",
       "      <td>-0.282442</td>\n",
       "      <td>-0.105726</td>\n",
       "      <td>-2.042630</td>\n",
       "      <td>-1.471527</td>\n",
       "      <td>-1.963489</td>\n",
       "      <td>-0.199441</td>\n",
       "      <td>-0.287638</td>\n",
       "      <td>0.124386</td>\n",
       "      <td>0.765761</td>\n",
       "      <td>Dropout</td>\n",
       "    </tr>\n",
       "    <tr>\n",
       "      <th>3</th>\n",
       "      <td>3</td>\n",
       "      <td>1</td>\n",
       "      <td>8</td>\n",
       "      <td>2</td>\n",
       "      <td>15</td>\n",
       "      <td>1</td>\n",
       "      <td>-0.182347</td>\n",
       "      <td>1</td>\n",
       "      <td>0.206340</td>\n",
       "      <td>-1.042942</td>\n",
       "      <td>...</td>\n",
       "      <td>-0.282442</td>\n",
       "      <td>-0.105726</td>\n",
       "      <td>0.490616</td>\n",
       "      <td>0.187165</td>\n",
       "      <td>0.416450</td>\n",
       "      <td>-0.199441</td>\n",
       "      <td>-0.813253</td>\n",
       "      <td>-1.466871</td>\n",
       "      <td>-1.375511</td>\n",
       "      <td>Graduate</td>\n",
       "    </tr>\n",
       "    <tr>\n",
       "      <th>4</th>\n",
       "      <td>4</td>\n",
       "      <td>2</td>\n",
       "      <td>12</td>\n",
       "      <td>1</td>\n",
       "      <td>3</td>\n",
       "      <td>0</td>\n",
       "      <td>-0.182347</td>\n",
       "      <td>1</td>\n",
       "      <td>0.206340</td>\n",
       "      <td>-0.850933</td>\n",
       "      <td>...</td>\n",
       "      <td>-0.282442</td>\n",
       "      <td>-0.105726</td>\n",
       "      <td>-0.522682</td>\n",
       "      <td>0.518904</td>\n",
       "      <td>0.531608</td>\n",
       "      <td>-0.199441</td>\n",
       "      <td>0.876222</td>\n",
       "      <td>-1.105222</td>\n",
       "      <td>0.347199</td>\n",
       "      <td>Graduate</td>\n",
       "    </tr>\n",
       "  </tbody>\n",
       "</table>\n",
       "<p>5 rows × 36 columns</p>\n",
       "</div>"
      ],
      "text/plain": [
       "   Tracker Marital status Application mode  Application order Course  \\\n",
       "0        0              1                8                  5      2   \n",
       "1        1              1                6                  1     11   \n",
       "2        2              1                1                  5      5   \n",
       "3        3              1                8                  2     15   \n",
       "4        4              2               12                  1      3   \n",
       "\n",
       "  Daytime/evening attendance  Previous qualification Nationality  \\\n",
       "0                          1               -0.182347           1   \n",
       "1                          1               -0.182347           1   \n",
       "2                          1               -0.182347           1   \n",
       "3                          1               -0.182347           1   \n",
       "4                          0               -0.182347           1   \n",
       "\n",
       "   Mother's qualification  Father's qualification  ...  \\\n",
       "0                0.206340                0.493130  ...   \n",
       "1               -0.848976                1.645184  ...   \n",
       "2                0.206340               -1.042942  ...   \n",
       "3                0.206340               -1.042942  ...   \n",
       "4                0.206340               -0.850933  ...   \n",
       "\n",
       "  Curricular units 2nd sem (credited) Curricular units 2nd sem (enrolled)  \\\n",
       "0                           -0.282442                           -2.838337   \n",
       "1                           -0.282442                           -0.105726   \n",
       "2                           -0.282442                           -0.105726   \n",
       "3                           -0.282442                           -0.105726   \n",
       "4                           -0.282442                           -0.105726   \n",
       "\n",
       "  Curricular units 2nd sem (evaluations) Curricular units 2nd sem (approved)  \\\n",
       "0                              -2.042630                           -1.471527   \n",
       "1                              -0.522682                            0.518904   \n",
       "2                              -2.042630                           -1.471527   \n",
       "3                               0.490616                            0.187165   \n",
       "4                              -0.522682                            0.518904   \n",
       "\n",
       "  Curricular units 2nd sem (grade)  \\\n",
       "0                        -1.963489   \n",
       "1                         0.659562   \n",
       "2                        -1.963489   \n",
       "3                         0.416450   \n",
       "4                         0.531608   \n",
       "\n",
       "  Curricular units 2nd sem (without evaluations) Unemployment rate  \\\n",
       "0                                      -0.199441         -0.287638   \n",
       "1                                      -0.199441          0.876222   \n",
       "2                                      -0.199441         -0.287638   \n",
       "3                                      -0.199441         -0.813253   \n",
       "4                                      -0.199441          0.876222   \n",
       "\n",
       "  Inflation rate       GDP    Target  \n",
       "0       0.124386  0.765761   Dropout  \n",
       "1      -1.105222  0.347199  Graduate  \n",
       "2       0.124386  0.765761   Dropout  \n",
       "3      -1.466871 -1.375511  Graduate  \n",
       "4      -1.105222  0.347199  Graduate  \n",
       "\n",
       "[5 rows x 36 columns]"
      ]
     },
     "execution_count": 22,
     "metadata": {},
     "output_type": "execute_result"
    }
   ],
   "source": [
    "feature_matrix.columns.reindex(df['Tracker'])\n",
    "feature_matrix = feature_matrix.reset_index()\n",
    "feature_matrix.head()"
   ]
  },
  {
   "cell_type": "code",
   "execution_count": 23,
   "id": "e15b5928",
   "metadata": {},
   "outputs": [],
   "source": [
    "#feature_matrix.drop(['Tracker'], axis=1, inplace=True)\n",
    "X = feature_matrix.iloc[:,:35]\n",
    "y = feature_matrix.iloc[:,35:]"
   ]
  },
  {
   "cell_type": "code",
   "execution_count": 24,
   "id": "254aae0a",
   "metadata": {},
   "outputs": [],
   "source": [
    "#Drop features with no importance: Previous qualification, Daytime/evening attendance, International \n",
    "#df.drop(['Previous qualification','Daytime/evening attendance','International'], axis = 1)\n",
    "#X = df[features_list]\n",
    "#y = df[forecast_var] \n",
    "\n",
    "# Encode categorical features\n",
    "y = y.astype(\"category\")\n",
    "le = LabelEncoder()\n",
    "y = le.fit_transform(np.ravel(y))"
   ]
  },
  {
   "cell_type": "markdown",
   "id": "e010f991",
   "metadata": {},
   "source": [
    "# **Hyperparameter Tuning w Optuna**"
   ]
  },
  {
   "cell_type": "code",
   "execution_count": 25,
   "id": "9c1a18a3",
   "metadata": {},
   "outputs": [],
   "source": [
    "#hide warnings so they do not affect the functionality of the package\n",
    "import warnings\n",
    "warnings.filterwarnings('ignore')"
   ]
  },
  {
   "cell_type": "code",
   "execution_count": 27,
   "id": "57e43d57",
   "metadata": {},
   "outputs": [],
   "source": [
    "# Split train and test set\n",
    "X_train, X_test, y_train, y_test = train_test_split(X, y, train_size=0.9)\n",
    "# Split validation set from initial train set to form 8:1:1 train:validation:test ratio\n",
    "X_train, X_val, y_train, y_val = train_test_split(X_train, y_train, train_size=0.89,)"
   ]
  },
  {
   "cell_type": "code",
   "execution_count": 31,
   "id": "ea55d3c2",
   "metadata": {},
   "outputs": [
    {
     "data": {
      "text/plain": [
       "xgboost.core.DMatrix"
      ]
     },
     "execution_count": 31,
     "metadata": {},
     "output_type": "execute_result"
    }
   ],
   "source": [
    "type(dtrain)"
   ]
  },
  {
   "cell_type": "code",
   "execution_count": 52,
   "id": "6763f999",
   "metadata": {},
   "outputs": [],
   "source": [
    "from sklearn.metrics import log_loss\n",
    "\n",
    "def objective_with_pruning(trial):\n",
    "    #define the hyperparameters to optimize\n",
    "    params = {\n",
    "        'eval_metric': 'mlogloss',\n",
    "        'objective': 'multi:softmax',\n",
    "        'max_depth': trial.suggest_int('max_depth', 5, 8),\n",
    "        'subsample': trial.suggest_discrete_uniform('subsample', 0.6, 1.0, 0.05),\n",
    "        'n_estimators': trial.suggest_int('n_estimators', 1800, 4000, 50),\n",
    "        'eta': trial.suggest_loguniform('eta', 0.005, 0.1),\n",
    "        'reg_alpha': trial.suggest_loguniform('reg_alpha', 1e-8, 1e-5),\n",
    "        'reg_lambda': trial.suggest_loguniform('reg_lambda', 1e-6, 0.5),\n",
    "        'min_split_loss': trial.suggest_loguniform('gamma', 1e-5, 1), \n",
    "        'min_child_weight': trial.suggest_int('min_child_weight', 5, 15),\n",
    "        \"colsample_bytree\": trial.suggest_uniform(\"colsample_bytree\", 0.1, 0.5)}\n",
    "    pruning_callback = optuna.integration.XGBoostPruningCallback(trial, \"validation_0-mlogloss\")\n",
    "    model = xgb.XGBClassifier(early_stopping_rounds = 50, booster = 'gbtree',tree_method= 'approx',enable_categorical=True)\n",
    "    model.set_params(**params)\n",
    "    model.fit(X_train,y_train, eval_set = [(X_val,y_val)], callbacks=[pruning_callback], verbose = 10) \n",
    "    \n",
    "    preds = model.predict_proba(X_val)\n",
    "    loss = log_loss(y_val, preds)\n",
    "    return loss"
   ]
  },
  {
   "cell_type": "code",
   "execution_count": 53,
   "id": "8502e7fa",
   "metadata": {},
   "outputs": [
    {
     "name": "stderr",
     "output_type": "stream",
     "text": [
      "\u001b[32m[I 2023-03-29 13:57:14,034]\u001b[0m A new study created in memory with name: no-name-694a23af-4bd9-4c55-98b9-49ed3bfdb459\u001b[0m\n"
     ]
    },
    {
     "name": "stdout",
     "output_type": "stream",
     "text": [
      "[0]\tvalidation_0-mlogloss:1.09354\n",
      "[10]\tvalidation_0-mlogloss:1.04707\n",
      "[20]\tvalidation_0-mlogloss:1.00211\n",
      "[30]\tvalidation_0-mlogloss:0.96300\n",
      "[40]\tvalidation_0-mlogloss:0.92815\n",
      "[50]\tvalidation_0-mlogloss:0.89649\n",
      "[60]\tvalidation_0-mlogloss:0.86808\n",
      "[70]\tvalidation_0-mlogloss:0.84245\n",
      "[80]\tvalidation_0-mlogloss:0.81943\n",
      "[90]\tvalidation_0-mlogloss:0.79717\n",
      "[100]\tvalidation_0-mlogloss:0.77775\n",
      "[110]\tvalidation_0-mlogloss:0.76050\n",
      "[120]\tvalidation_0-mlogloss:0.74560\n",
      "[130]\tvalidation_0-mlogloss:0.73075\n",
      "[140]\tvalidation_0-mlogloss:0.71750\n",
      "[150]\tvalidation_0-mlogloss:0.70434\n",
      "[160]\tvalidation_0-mlogloss:0.69358\n",
      "[170]\tvalidation_0-mlogloss:0.68325\n",
      "[180]\tvalidation_0-mlogloss:0.67408\n",
      "[190]\tvalidation_0-mlogloss:0.66521\n",
      "[200]\tvalidation_0-mlogloss:0.65765\n",
      "[210]\tvalidation_0-mlogloss:0.64991\n",
      "[220]\tvalidation_0-mlogloss:0.64310\n",
      "[230]\tvalidation_0-mlogloss:0.63636\n",
      "[240]\tvalidation_0-mlogloss:0.63078\n",
      "[250]\tvalidation_0-mlogloss:0.62540\n",
      "[260]\tvalidation_0-mlogloss:0.62044\n",
      "[270]\tvalidation_0-mlogloss:0.61609\n",
      "[280]\tvalidation_0-mlogloss:0.61163\n",
      "[290]\tvalidation_0-mlogloss:0.60797\n",
      "[300]\tvalidation_0-mlogloss:0.60443\n",
      "[310]\tvalidation_0-mlogloss:0.60144\n",
      "[320]\tvalidation_0-mlogloss:0.59798\n",
      "[330]\tvalidation_0-mlogloss:0.59517\n",
      "[340]\tvalidation_0-mlogloss:0.59235\n",
      "[350]\tvalidation_0-mlogloss:0.59009\n",
      "[360]\tvalidation_0-mlogloss:0.58783\n",
      "[370]\tvalidation_0-mlogloss:0.58541\n",
      "[380]\tvalidation_0-mlogloss:0.58341\n",
      "[390]\tvalidation_0-mlogloss:0.58142\n",
      "[400]\tvalidation_0-mlogloss:0.57947\n",
      "[410]\tvalidation_0-mlogloss:0.57818\n",
      "[420]\tvalidation_0-mlogloss:0.57679\n",
      "[430]\tvalidation_0-mlogloss:0.57556\n",
      "[440]\tvalidation_0-mlogloss:0.57450\n",
      "[450]\tvalidation_0-mlogloss:0.57324\n",
      "[460]\tvalidation_0-mlogloss:0.57210\n",
      "[470]\tvalidation_0-mlogloss:0.57081\n",
      "[480]\tvalidation_0-mlogloss:0.56969\n",
      "[490]\tvalidation_0-mlogloss:0.56891\n",
      "[500]\tvalidation_0-mlogloss:0.56840\n",
      "[510]\tvalidation_0-mlogloss:0.56766\n",
      "[520]\tvalidation_0-mlogloss:0.56684\n",
      "[530]\tvalidation_0-mlogloss:0.56605\n",
      "[540]\tvalidation_0-mlogloss:0.56538\n",
      "[550]\tvalidation_0-mlogloss:0.56470\n",
      "[560]\tvalidation_0-mlogloss:0.56421\n",
      "[570]\tvalidation_0-mlogloss:0.56363\n",
      "[580]\tvalidation_0-mlogloss:0.56318\n",
      "[590]\tvalidation_0-mlogloss:0.56299\n",
      "[600]\tvalidation_0-mlogloss:0.56266\n",
      "[610]\tvalidation_0-mlogloss:0.56215\n",
      "[620]\tvalidation_0-mlogloss:0.56191\n",
      "[630]\tvalidation_0-mlogloss:0.56145\n",
      "[640]\tvalidation_0-mlogloss:0.56131\n",
      "[650]\tvalidation_0-mlogloss:0.56114\n",
      "[660]\tvalidation_0-mlogloss:0.56071\n",
      "[670]\tvalidation_0-mlogloss:0.56041\n",
      "[680]\tvalidation_0-mlogloss:0.56025\n",
      "[690]\tvalidation_0-mlogloss:0.56002\n",
      "[700]\tvalidation_0-mlogloss:0.55986\n",
      "[710]\tvalidation_0-mlogloss:0.55951\n",
      "[720]\tvalidation_0-mlogloss:0.55922\n",
      "[730]\tvalidation_0-mlogloss:0.55912\n",
      "[740]\tvalidation_0-mlogloss:0.55891\n",
      "[750]\tvalidation_0-mlogloss:0.55851\n",
      "[760]\tvalidation_0-mlogloss:0.55838\n",
      "[770]\tvalidation_0-mlogloss:0.55828\n",
      "[780]\tvalidation_0-mlogloss:0.55810\n",
      "[790]\tvalidation_0-mlogloss:0.55797\n",
      "[800]\tvalidation_0-mlogloss:0.55800\n",
      "[810]\tvalidation_0-mlogloss:0.55781\n",
      "[820]\tvalidation_0-mlogloss:0.55778\n",
      "[830]\tvalidation_0-mlogloss:0.55750\n",
      "[840]\tvalidation_0-mlogloss:0.55758\n",
      "[850]\tvalidation_0-mlogloss:0.55756\n",
      "[860]\tvalidation_0-mlogloss:0.55758\n",
      "[870]\tvalidation_0-mlogloss:0.55742\n",
      "[880]\tvalidation_0-mlogloss:0.55733\n",
      "[890]\tvalidation_0-mlogloss:0.55743\n",
      "[900]\tvalidation_0-mlogloss:0.55738\n",
      "[910]\tvalidation_0-mlogloss:0.55724\n",
      "[920]\tvalidation_0-mlogloss:0.55724\n",
      "[930]\tvalidation_0-mlogloss:0.55727\n",
      "[940]\tvalidation_0-mlogloss:0.55719\n",
      "[950]\tvalidation_0-mlogloss:0.55736\n",
      "[960]\tvalidation_0-mlogloss:0.55757\n",
      "[970]\tvalidation_0-mlogloss:0.55783\n"
     ]
    },
    {
     "name": "stderr",
     "output_type": "stream",
     "text": [
      "\u001b[32m[I 2023-03-29 13:59:12,576]\u001b[0m Trial 0 finished with value: 0.5571405587571175 and parameters: {'max_depth': 8, 'subsample': 0.9, 'n_estimators': 3900, 'eta': 0.008365103949136306, 'reg_alpha': 7.410669113021105e-08, 'reg_lambda': 0.3843956956709221, 'gamma': 0.03983310447516707, 'min_child_weight': 7, 'colsample_bytree': 0.4152706258048521}. Best is trial 0 with value: 0.5571405587571175.\u001b[0m\n"
     ]
    },
    {
     "name": "stdout",
     "output_type": "stream",
     "text": [
      "[0]\tvalidation_0-mlogloss:1.08840\n",
      "[10]\tvalidation_0-mlogloss:1.00007\n",
      "[20]\tvalidation_0-mlogloss:0.92643\n",
      "[30]\tvalidation_0-mlogloss:0.86874\n",
      "[40]\tvalidation_0-mlogloss:0.82035\n",
      "[50]\tvalidation_0-mlogloss:0.78507\n",
      "[60]\tvalidation_0-mlogloss:0.75506\n",
      "[70]\tvalidation_0-mlogloss:0.72727\n",
      "[80]\tvalidation_0-mlogloss:0.70462\n",
      "[90]\tvalidation_0-mlogloss:0.68399\n",
      "[100]\tvalidation_0-mlogloss:0.66736\n",
      "[110]\tvalidation_0-mlogloss:0.65391\n",
      "[120]\tvalidation_0-mlogloss:0.64234\n",
      "[130]\tvalidation_0-mlogloss:0.63211\n",
      "[140]\tvalidation_0-mlogloss:0.62382\n",
      "[150]\tvalidation_0-mlogloss:0.61573\n",
      "[160]\tvalidation_0-mlogloss:0.61011\n",
      "[170]\tvalidation_0-mlogloss:0.60419\n",
      "[180]\tvalidation_0-mlogloss:0.59982\n",
      "[190]\tvalidation_0-mlogloss:0.59465\n",
      "[200]\tvalidation_0-mlogloss:0.59093\n",
      "[210]\tvalidation_0-mlogloss:0.58770\n",
      "[220]\tvalidation_0-mlogloss:0.58507\n",
      "[230]\tvalidation_0-mlogloss:0.58199\n",
      "[240]\tvalidation_0-mlogloss:0.57990\n",
      "[250]\tvalidation_0-mlogloss:0.57829\n",
      "[260]\tvalidation_0-mlogloss:0.57615\n",
      "[270]\tvalidation_0-mlogloss:0.57494\n",
      "[280]\tvalidation_0-mlogloss:0.57248\n",
      "[290]\tvalidation_0-mlogloss:0.57075\n",
      "[300]\tvalidation_0-mlogloss:0.56989\n",
      "[310]\tvalidation_0-mlogloss:0.56894\n",
      "[320]\tvalidation_0-mlogloss:0.56735\n",
      "[330]\tvalidation_0-mlogloss:0.56627\n",
      "[340]\tvalidation_0-mlogloss:0.56575\n",
      "[350]\tvalidation_0-mlogloss:0.56544\n",
      "[360]\tvalidation_0-mlogloss:0.56469\n",
      "[370]\tvalidation_0-mlogloss:0.56406\n",
      "[380]\tvalidation_0-mlogloss:0.56378\n",
      "[390]\tvalidation_0-mlogloss:0.56309\n",
      "[400]\tvalidation_0-mlogloss:0.56230\n",
      "[410]\tvalidation_0-mlogloss:0.56150\n",
      "[420]\tvalidation_0-mlogloss:0.56181\n",
      "[430]\tvalidation_0-mlogloss:0.56175\n",
      "[440]\tvalidation_0-mlogloss:0.56107\n",
      "[450]\tvalidation_0-mlogloss:0.56091\n",
      "[460]\tvalidation_0-mlogloss:0.56063\n",
      "[470]\tvalidation_0-mlogloss:0.55971\n",
      "[480]\tvalidation_0-mlogloss:0.55916\n",
      "[490]\tvalidation_0-mlogloss:0.55891\n",
      "[500]\tvalidation_0-mlogloss:0.55847\n",
      "[510]\tvalidation_0-mlogloss:0.55828\n",
      "[520]\tvalidation_0-mlogloss:0.55800\n",
      "[530]\tvalidation_0-mlogloss:0.55740\n",
      "[540]\tvalidation_0-mlogloss:0.55662\n",
      "[550]\tvalidation_0-mlogloss:0.55656\n",
      "[560]\tvalidation_0-mlogloss:0.55665\n",
      "[570]\tvalidation_0-mlogloss:0.55646\n",
      "[580]\tvalidation_0-mlogloss:0.55692\n",
      "[590]\tvalidation_0-mlogloss:0.55661\n",
      "[600]\tvalidation_0-mlogloss:0.55637\n",
      "[610]\tvalidation_0-mlogloss:0.55634\n",
      "[620]\tvalidation_0-mlogloss:0.55677\n",
      "[630]\tvalidation_0-mlogloss:0.55720\n",
      "[640]\tvalidation_0-mlogloss:0.55677\n",
      "[650]\tvalidation_0-mlogloss:0.55696\n",
      "[657]\tvalidation_0-mlogloss:0.55707\n"
     ]
    },
    {
     "name": "stderr",
     "output_type": "stream",
     "text": [
      "\u001b[32m[I 2023-03-29 14:00:38,294]\u001b[0m Trial 1 finished with value: 0.5562613600446124 and parameters: {'max_depth': 6, 'subsample': 0.9, 'n_estimators': 3600, 'eta': 0.018503924224253954, 'reg_alpha': 9.32868321616411e-08, 'reg_lambda': 0.19890153457209536, 'gamma': 0.004900517560155265, 'min_child_weight': 8, 'colsample_bytree': 0.2987209922107936}. Best is trial 1 with value: 0.5562613600446124.\u001b[0m\n"
     ]
    },
    {
     "name": "stdout",
     "output_type": "stream",
     "text": [
      "[0]\tvalidation_0-mlogloss:1.08697\n",
      "[10]\tvalidation_0-mlogloss:0.97601\n",
      "[20]\tvalidation_0-mlogloss:0.89286\n",
      "[30]\tvalidation_0-mlogloss:0.82720\n",
      "[40]\tvalidation_0-mlogloss:0.77668\n",
      "[50]\tvalidation_0-mlogloss:0.73600\n",
      "[60]\tvalidation_0-mlogloss:0.70358\n",
      "[70]\tvalidation_0-mlogloss:0.67746\n",
      "[80]\tvalidation_0-mlogloss:0.65680\n",
      "[90]\tvalidation_0-mlogloss:0.63894\n",
      "[100]\tvalidation_0-mlogloss:0.62498\n",
      "[110]\tvalidation_0-mlogloss:0.61391\n",
      "[120]\tvalidation_0-mlogloss:0.60534\n",
      "[130]\tvalidation_0-mlogloss:0.59758\n",
      "[140]\tvalidation_0-mlogloss:0.59148\n",
      "[150]\tvalidation_0-mlogloss:0.58619\n",
      "[160]\tvalidation_0-mlogloss:0.58236\n",
      "[170]\tvalidation_0-mlogloss:0.57861\n",
      "[180]\tvalidation_0-mlogloss:0.57606\n",
      "[190]\tvalidation_0-mlogloss:0.57285\n",
      "[200]\tvalidation_0-mlogloss:0.56963\n",
      "[210]\tvalidation_0-mlogloss:0.56779\n",
      "[220]\tvalidation_0-mlogloss:0.56656\n",
      "[230]\tvalidation_0-mlogloss:0.56497\n",
      "[240]\tvalidation_0-mlogloss:0.56484\n",
      "[250]\tvalidation_0-mlogloss:0.56396\n",
      "[260]\tvalidation_0-mlogloss:0.56336\n",
      "[270]\tvalidation_0-mlogloss:0.56277\n",
      "[280]\tvalidation_0-mlogloss:0.56226\n",
      "[290]\tvalidation_0-mlogloss:0.56195\n",
      "[300]\tvalidation_0-mlogloss:0.56160\n",
      "[310]\tvalidation_0-mlogloss:0.56137\n",
      "[320]\tvalidation_0-mlogloss:0.56115\n",
      "[330]\tvalidation_0-mlogloss:0.56079\n",
      "[340]\tvalidation_0-mlogloss:0.56079\n",
      "[350]\tvalidation_0-mlogloss:0.56132\n",
      "[360]\tvalidation_0-mlogloss:0.56139\n",
      "[370]\tvalidation_0-mlogloss:0.56122\n",
      "[380]\tvalidation_0-mlogloss:0.56163\n",
      "[383]\tvalidation_0-mlogloss:0.56154\n"
     ]
    },
    {
     "name": "stderr",
     "output_type": "stream",
     "text": [
      "\u001b[32m[I 2023-03-29 14:01:38,720]\u001b[0m Trial 2 finished with value: 0.5605040767695755 and parameters: {'max_depth': 8, 'subsample': 0.85, 'n_estimators': 3350, 'eta': 0.019617579914960742, 'reg_alpha': 3.599726897901707e-07, 'reg_lambda': 0.243484850603095, 'gamma': 0.002152494978292825, 'min_child_weight': 5, 'colsample_bytree': 0.492705176818364}. Best is trial 1 with value: 0.5562613600446124.\u001b[0m\n"
     ]
    },
    {
     "name": "stdout",
     "output_type": "stream",
     "text": [
      "[0]\tvalidation_0-mlogloss:1.08502\n",
      "[10]\tvalidation_0-mlogloss:0.95678\n",
      "[20]\tvalidation_0-mlogloss:0.86328\n",
      "[30]\tvalidation_0-mlogloss:0.79482\n",
      "[40]\tvalidation_0-mlogloss:0.74631\n",
      "[50]\tvalidation_0-mlogloss:0.71140\n",
      "[60]\tvalidation_0-mlogloss:0.68358\n",
      "[70]\tvalidation_0-mlogloss:0.66054\n",
      "[80]\tvalidation_0-mlogloss:0.64120\n",
      "[90]\tvalidation_0-mlogloss:0.62491\n",
      "[100]\tvalidation_0-mlogloss:0.61399\n",
      "[110]\tvalidation_0-mlogloss:0.60434\n",
      "[120]\tvalidation_0-mlogloss:0.59798\n",
      "[130]\tvalidation_0-mlogloss:0.59133\n",
      "[140]\tvalidation_0-mlogloss:0.58693\n",
      "[150]\tvalidation_0-mlogloss:0.58373\n",
      "[160]\tvalidation_0-mlogloss:0.58076\n",
      "[170]\tvalidation_0-mlogloss:0.57683\n",
      "[180]\tvalidation_0-mlogloss:0.57415\n",
      "[190]\tvalidation_0-mlogloss:0.57155\n",
      "[200]\tvalidation_0-mlogloss:0.56965\n",
      "[210]\tvalidation_0-mlogloss:0.56725\n",
      "[220]\tvalidation_0-mlogloss:0.56556\n",
      "[230]\tvalidation_0-mlogloss:0.56308\n",
      "[240]\tvalidation_0-mlogloss:0.56347\n",
      "[250]\tvalidation_0-mlogloss:0.56175\n",
      "[260]\tvalidation_0-mlogloss:0.56043\n",
      "[270]\tvalidation_0-mlogloss:0.56107\n",
      "[280]\tvalidation_0-mlogloss:0.55969\n",
      "[290]\tvalidation_0-mlogloss:0.55898\n",
      "[300]\tvalidation_0-mlogloss:0.55763\n",
      "[310]\tvalidation_0-mlogloss:0.55744\n",
      "[320]\tvalidation_0-mlogloss:0.55622\n",
      "[330]\tvalidation_0-mlogloss:0.55620\n",
      "[340]\tvalidation_0-mlogloss:0.55681\n",
      "[350]\tvalidation_0-mlogloss:0.55560\n",
      "[360]\tvalidation_0-mlogloss:0.55443\n",
      "[370]\tvalidation_0-mlogloss:0.55562\n",
      "[380]\tvalidation_0-mlogloss:0.55501\n",
      "[390]\tvalidation_0-mlogloss:0.55587\n",
      "[400]\tvalidation_0-mlogloss:0.55495\n",
      "[410]\tvalidation_0-mlogloss:0.55430\n",
      "[420]\tvalidation_0-mlogloss:0.55437\n",
      "[430]\tvalidation_0-mlogloss:0.55474\n",
      "[440]\tvalidation_0-mlogloss:0.55535\n",
      "[450]\tvalidation_0-mlogloss:0.55530\n",
      "[460]\tvalidation_0-mlogloss:0.55545\n",
      "[463]\tvalidation_0-mlogloss:0.55522\n"
     ]
    },
    {
     "name": "stderr",
     "output_type": "stream",
     "text": [
      "\u001b[32m[I 2023-03-29 14:02:31,460]\u001b[0m Trial 3 finished with value: 0.5541950169255421 and parameters: {'max_depth': 7, 'subsample': 0.6, 'n_estimators': 3950, 'eta': 0.029761503205703116, 'reg_alpha': 7.000640567835314e-08, 'reg_lambda': 0.00040137622513727617, 'gamma': 0.3458339392995608, 'min_child_weight': 8, 'colsample_bytree': 0.27476430683585007}. Best is trial 3 with value: 0.5541950169255421.\u001b[0m\n"
     ]
    },
    {
     "name": "stdout",
     "output_type": "stream",
     "text": [
      "[0]\tvalidation_0-mlogloss:1.07719\n",
      "[10]\tvalidation_0-mlogloss:0.86049\n",
      "[20]\tvalidation_0-mlogloss:0.75556\n",
      "[30]\tvalidation_0-mlogloss:0.69563\n",
      "[40]\tvalidation_0-mlogloss:0.65684\n",
      "[50]\tvalidation_0-mlogloss:0.63403\n",
      "[60]\tvalidation_0-mlogloss:0.61878\n",
      "[70]\tvalidation_0-mlogloss:0.60265\n",
      "[80]\tvalidation_0-mlogloss:0.59340\n",
      "[90]\tvalidation_0-mlogloss:0.58336\n",
      "[100]\tvalidation_0-mlogloss:0.57785\n",
      "[110]\tvalidation_0-mlogloss:0.57383\n",
      "[120]\tvalidation_0-mlogloss:0.56949\n",
      "[130]\tvalidation_0-mlogloss:0.56699\n",
      "[140]\tvalidation_0-mlogloss:0.56409\n",
      "[150]\tvalidation_0-mlogloss:0.56362\n",
      "[160]\tvalidation_0-mlogloss:0.56463\n",
      "[170]\tvalidation_0-mlogloss:0.56379\n",
      "[180]\tvalidation_0-mlogloss:0.56233\n",
      "[190]\tvalidation_0-mlogloss:0.55977\n",
      "[200]\tvalidation_0-mlogloss:0.55974\n",
      "[210]\tvalidation_0-mlogloss:0.55911\n",
      "[220]\tvalidation_0-mlogloss:0.55954\n",
      "[230]\tvalidation_0-mlogloss:0.55913\n",
      "[240]\tvalidation_0-mlogloss:0.55906\n",
      "[250]\tvalidation_0-mlogloss:0.55855\n",
      "[260]\tvalidation_0-mlogloss:0.55781\n",
      "[270]\tvalidation_0-mlogloss:0.55676\n",
      "[280]\tvalidation_0-mlogloss:0.55691\n",
      "[290]\tvalidation_0-mlogloss:0.55708\n",
      "[300]\tvalidation_0-mlogloss:0.55808\n",
      "[310]\tvalidation_0-mlogloss:0.56016\n",
      "[320]\tvalidation_0-mlogloss:0.56106\n",
      "[324]\tvalidation_0-mlogloss:0.56123\n"
     ]
    },
    {
     "name": "stderr",
     "output_type": "stream",
     "text": [
      "\u001b[32m[I 2023-03-29 14:02:57,225]\u001b[0m Trial 4 finished with value: 0.5558071736465358 and parameters: {'max_depth': 5, 'subsample': 0.8, 'n_estimators': 3400, 'eta': 0.07474573179889897, 'reg_alpha': 5.141636470332441e-07, 'reg_lambda': 0.2702668839372833, 'gamma': 3.870259449424183e-05, 'min_child_weight': 8, 'colsample_bytree': 0.17480754911661922}. Best is trial 3 with value: 0.5541950169255421.\u001b[0m\n"
     ]
    },
    {
     "name": "stdout",
     "output_type": "stream",
     "text": [
      "[0]\tvalidation_0-mlogloss:1.08635\n",
      "[10]\tvalidation_0-mlogloss:0.95220\n",
      "[20]\tvalidation_0-mlogloss:0.86482\n",
      "[30]\tvalidation_0-mlogloss:0.80196\n",
      "[40]\tvalidation_0-mlogloss:0.75994\n",
      "[50]\tvalidation_0-mlogloss:0.73213\n"
     ]
    },
    {
     "name": "stderr",
     "output_type": "stream",
     "text": [
      "\u001b[32m[I 2023-03-29 14:03:03,928]\u001b[0m Trial 5 pruned. Trial was pruned at iteration 55.\u001b[0m\n"
     ]
    },
    {
     "name": "stdout",
     "output_type": "stream",
     "text": [
      "[0]\tvalidation_0-mlogloss:1.08760\n"
     ]
    },
    {
     "name": "stderr",
     "output_type": "stream",
     "text": [
      "\u001b[32m[I 2023-03-29 14:03:04,235]\u001b[0m Trial 6 pruned. Trial was pruned at iteration 0.\u001b[0m\n",
      "\u001b[32m[I 2023-03-29 14:03:04,567]\u001b[0m Trial 7 pruned. Trial was pruned at iteration 0.\u001b[0m\n"
     ]
    },
    {
     "name": "stdout",
     "output_type": "stream",
     "text": [
      "[0]\tvalidation_0-mlogloss:1.09343\n"
     ]
    },
    {
     "name": "stderr",
     "output_type": "stream",
     "text": [
      "\u001b[32m[I 2023-03-29 14:03:04,934]\u001b[0m Trial 8 pruned. Trial was pruned at iteration 0.\u001b[0m\n"
     ]
    },
    {
     "name": "stdout",
     "output_type": "stream",
     "text": [
      "[0]\tvalidation_0-mlogloss:1.08393\n",
      "[10]\tvalidation_0-mlogloss:0.94665\n",
      "[20]\tvalidation_0-mlogloss:0.85110\n",
      "[30]\tvalidation_0-mlogloss:0.78494\n",
      "[40]\tvalidation_0-mlogloss:0.73664\n",
      "[50]\tvalidation_0-mlogloss:0.70385\n",
      "[60]\tvalidation_0-mlogloss:0.67837\n",
      "[70]\tvalidation_0-mlogloss:0.65473\n",
      "[80]\tvalidation_0-mlogloss:0.63765\n",
      "[90]\tvalidation_0-mlogloss:0.62349\n",
      "[100]\tvalidation_0-mlogloss:0.61352\n",
      "[110]\tvalidation_0-mlogloss:0.60515\n",
      "[120]\tvalidation_0-mlogloss:0.59835\n",
      "[130]\tvalidation_0-mlogloss:0.59176\n",
      "[140]\tvalidation_0-mlogloss:0.58680\n",
      "[150]\tvalidation_0-mlogloss:0.58355\n",
      "[160]\tvalidation_0-mlogloss:0.58050\n",
      "[170]\tvalidation_0-mlogloss:0.57665\n",
      "[180]\tvalidation_0-mlogloss:0.57459\n",
      "[190]\tvalidation_0-mlogloss:0.57233\n"
     ]
    },
    {
     "name": "stderr",
     "output_type": "stream",
     "text": [
      "\u001b[32m[I 2023-03-29 14:03:25,220]\u001b[0m Trial 9 pruned. Trial was pruned at iteration 195.\u001b[0m\n"
     ]
    },
    {
     "name": "stdout",
     "output_type": "stream",
     "text": [
      "[0]\tvalidation_0-mlogloss:1.06195\n",
      "[10]\tvalidation_0-mlogloss:0.80158\n",
      "[20]\tvalidation_0-mlogloss:0.69939\n",
      "[30]\tvalidation_0-mlogloss:0.64589\n",
      "[40]\tvalidation_0-mlogloss:0.61611\n",
      "[50]\tvalidation_0-mlogloss:0.59863\n",
      "[60]\tvalidation_0-mlogloss:0.58820\n",
      "[70]\tvalidation_0-mlogloss:0.57893\n",
      "[80]\tvalidation_0-mlogloss:0.57361\n",
      "[90]\tvalidation_0-mlogloss:0.56929\n",
      "[100]\tvalidation_0-mlogloss:0.56911\n",
      "[110]\tvalidation_0-mlogloss:0.56890\n",
      "[120]\tvalidation_0-mlogloss:0.56639\n",
      "[130]\tvalidation_0-mlogloss:0.56544\n",
      "[140]\tvalidation_0-mlogloss:0.56588\n",
      "[150]\tvalidation_0-mlogloss:0.56570\n",
      "[160]\tvalidation_0-mlogloss:0.56742\n",
      "[170]\tvalidation_0-mlogloss:0.56781\n",
      "[180]\tvalidation_0-mlogloss:0.56782\n"
     ]
    },
    {
     "name": "stderr",
     "output_type": "stream",
     "text": [
      "\u001b[32m[I 2023-03-29 14:03:44,423]\u001b[0m Trial 10 finished with value: 0.56544308328882 and parameters: {'max_depth': 7, 'subsample': 1.0, 'n_estimators': 2750, 'eta': 0.08422935940350774, 'reg_alpha': 1.5144008002615458e-08, 'reg_lambda': 1.1424468064715759e-06, 'gamma': 0.7387828015414005, 'min_child_weight': 10, 'colsample_bytree': 0.24954507324023234}. Best is trial 3 with value: 0.5541950169255421.\u001b[0m\n"
     ]
    },
    {
     "name": "stdout",
     "output_type": "stream",
     "text": [
      "[0]\tvalidation_0-mlogloss:1.07504\n",
      "[10]\tvalidation_0-mlogloss:0.85917\n",
      "[20]\tvalidation_0-mlogloss:0.75890\n",
      "[30]\tvalidation_0-mlogloss:0.70261\n",
      "[40]\tvalidation_0-mlogloss:0.67067\n",
      "[50]\tvalidation_0-mlogloss:0.64762\n",
      "[60]\tvalidation_0-mlogloss:0.63394\n",
      "[70]\tvalidation_0-mlogloss:0.61790\n",
      "[80]\tvalidation_0-mlogloss:0.60695\n",
      "[90]\tvalidation_0-mlogloss:0.59555\n",
      "[100]\tvalidation_0-mlogloss:0.58757\n",
      "[110]\tvalidation_0-mlogloss:0.58494\n",
      "[120]\tvalidation_0-mlogloss:0.58255\n",
      "[130]\tvalidation_0-mlogloss:0.57778\n",
      "[140]\tvalidation_0-mlogloss:0.57537\n",
      "[150]\tvalidation_0-mlogloss:0.57567\n",
      "[160]\tvalidation_0-mlogloss:0.57644\n",
      "[170]\tvalidation_0-mlogloss:0.57677\n",
      "[180]\tvalidation_0-mlogloss:0.57585\n"
     ]
    },
    {
     "name": "stderr",
     "output_type": "stream",
     "text": [
      "\u001b[32m[I 2023-03-29 14:04:07,780]\u001b[0m Trial 11 pruned. Trial was pruned at iteration 184.\u001b[0m\n"
     ]
    },
    {
     "name": "stdout",
     "output_type": "stream",
     "text": [
      "[0]\tvalidation_0-mlogloss:1.07661\n",
      "[10]\tvalidation_0-mlogloss:0.89520\n",
      "[20]\tvalidation_0-mlogloss:0.79320\n",
      "[30]\tvalidation_0-mlogloss:0.73117\n",
      "[40]\tvalidation_0-mlogloss:0.68524\n",
      "[50]\tvalidation_0-mlogloss:0.65953\n",
      "[60]\tvalidation_0-mlogloss:0.64026\n",
      "[70]\tvalidation_0-mlogloss:0.61953\n",
      "[80]\tvalidation_0-mlogloss:0.60637\n",
      "[90]\tvalidation_0-mlogloss:0.59417\n",
      "[100]\tvalidation_0-mlogloss:0.58744\n",
      "[110]\tvalidation_0-mlogloss:0.58343\n",
      "[120]\tvalidation_0-mlogloss:0.57825\n",
      "[130]\tvalidation_0-mlogloss:0.57376\n",
      "[140]\tvalidation_0-mlogloss:0.57097\n",
      "[150]\tvalidation_0-mlogloss:0.56927\n",
      "[160]\tvalidation_0-mlogloss:0.56813\n",
      "[170]\tvalidation_0-mlogloss:0.56589\n",
      "[180]\tvalidation_0-mlogloss:0.56540\n",
      "[190]\tvalidation_0-mlogloss:0.56341\n",
      "[200]\tvalidation_0-mlogloss:0.56313\n",
      "[210]\tvalidation_0-mlogloss:0.56158\n",
      "[220]\tvalidation_0-mlogloss:0.56205\n",
      "[230]\tvalidation_0-mlogloss:0.56081\n",
      "[240]\tvalidation_0-mlogloss:0.56212\n",
      "[250]\tvalidation_0-mlogloss:0.56240\n",
      "[260]\tvalidation_0-mlogloss:0.56428\n",
      "[270]\tvalidation_0-mlogloss:0.56356\n",
      "[279]\tvalidation_0-mlogloss:0.56239\n"
     ]
    },
    {
     "name": "stderr",
     "output_type": "stream",
     "text": [
      "\u001b[32m[I 2023-03-29 14:04:37,292]\u001b[0m Trial 12 finished with value: 0.5608080476628761 and parameters: {'max_depth': 7, 'subsample': 0.7, 'n_estimators': 3650, 'eta': 0.0515611703239618, 'reg_alpha': 9.136000587598434e-07, 'reg_lambda': 0.00420831563865723, 'gamma': 0.00018457823338438427, 'min_child_weight': 11, 'colsample_bytree': 0.2122642688934603}. Best is trial 3 with value: 0.5541950169255421.\u001b[0m\n",
      "\u001b[32m[I 2023-03-29 14:04:37,673]\u001b[0m Trial 13 pruned. Trial was pruned at iteration 0.\u001b[0m\n"
     ]
    },
    {
     "name": "stdout",
     "output_type": "stream",
     "text": [
      "[0]\tvalidation_0-mlogloss:1.07122\n",
      "[10]\tvalidation_0-mlogloss:0.86534\n",
      "[20]\tvalidation_0-mlogloss:0.76167\n",
      "[30]\tvalidation_0-mlogloss:0.69949\n",
      "[40]\tvalidation_0-mlogloss:0.65904\n",
      "[50]\tvalidation_0-mlogloss:0.63531\n",
      "[60]\tvalidation_0-mlogloss:0.61903\n",
      "[70]\tvalidation_0-mlogloss:0.60167\n",
      "[80]\tvalidation_0-mlogloss:0.59039\n",
      "[90]\tvalidation_0-mlogloss:0.57968\n",
      "[100]\tvalidation_0-mlogloss:0.57553\n",
      "[110]\tvalidation_0-mlogloss:0.57210\n",
      "[120]\tvalidation_0-mlogloss:0.56803\n",
      "[130]\tvalidation_0-mlogloss:0.56401\n",
      "[140]\tvalidation_0-mlogloss:0.56245\n",
      "[150]\tvalidation_0-mlogloss:0.56200\n",
      "[160]\tvalidation_0-mlogloss:0.56261\n",
      "[170]\tvalidation_0-mlogloss:0.56120\n",
      "[180]\tvalidation_0-mlogloss:0.56140\n",
      "[190]\tvalidation_0-mlogloss:0.55978\n",
      "[200]\tvalidation_0-mlogloss:0.56045\n",
      "[210]\tvalidation_0-mlogloss:0.56006\n",
      "[220]\tvalidation_0-mlogloss:0.56022\n",
      "[230]\tvalidation_0-mlogloss:0.55999\n",
      "[240]\tvalidation_0-mlogloss:0.56065\n",
      "[242]\tvalidation_0-mlogloss:0.56042\n"
     ]
    },
    {
     "name": "stderr",
     "output_type": "stream",
     "text": [
      "\u001b[32m[I 2023-03-29 14:04:49,793]\u001b[0m Trial 14 finished with value: 0.5593407289869233 and parameters: {'max_depth': 6, 'subsample': 1.0, 'n_estimators': 3700, 'eta': 0.06192664194243773, 'reg_alpha': 3.902902532252812e-08, 'reg_lambda': 0.025413942393386135, 'gamma': 0.005850479954470622, 'min_child_weight': 5, 'colsample_bytree': 0.21205212443225147}. Best is trial 3 with value: 0.5541950169255421.\u001b[0m\n"
     ]
    },
    {
     "name": "stdout",
     "output_type": "stream",
     "text": [
      "[0]\tvalidation_0-mlogloss:1.08107\n"
     ]
    },
    {
     "name": "stderr",
     "output_type": "stream",
     "text": [
      "\u001b[32m[I 2023-03-29 14:04:49,998]\u001b[0m Trial 15 pruned. Trial was pruned at iteration 1.\u001b[0m\n",
      "\u001b[32m[I 2023-03-29 14:04:50,143]\u001b[0m Trial 16 pruned. Trial was pruned at iteration 0.\u001b[0m\n",
      "\u001b[32m[I 2023-03-29 14:04:50,305]\u001b[0m Trial 17 pruned. Trial was pruned at iteration 0.\u001b[0m\n"
     ]
    },
    {
     "name": "stdout",
     "output_type": "stream",
     "text": [
      "[0]\tvalidation_0-mlogloss:1.04837\n",
      "[10]\tvalidation_0-mlogloss:0.77099\n",
      "[20]\tvalidation_0-mlogloss:0.66262\n",
      "[30]\tvalidation_0-mlogloss:0.61513\n",
      "[40]\tvalidation_0-mlogloss:0.59209\n",
      "[50]\tvalidation_0-mlogloss:0.58146\n",
      "[60]\tvalidation_0-mlogloss:0.57273\n",
      "[70]\tvalidation_0-mlogloss:0.56886\n",
      "[80]\tvalidation_0-mlogloss:0.56554\n",
      "[90]\tvalidation_0-mlogloss:0.56430\n",
      "[100]\tvalidation_0-mlogloss:0.56544\n",
      "[110]\tvalidation_0-mlogloss:0.56630\n",
      "[120]\tvalidation_0-mlogloss:0.56524\n",
      "[130]\tvalidation_0-mlogloss:0.56561\n",
      "[140]\tvalidation_0-mlogloss:0.56646\n",
      "[146]\tvalidation_0-mlogloss:0.56647\n"
     ]
    },
    {
     "name": "stderr",
     "output_type": "stream",
     "text": [
      "\u001b[32m[I 2023-03-29 14:04:58,515]\u001b[0m Trial 18 finished with value: 0.5636126284214314 and parameters: {'max_depth': 7, 'subsample': 0.85, 'n_estimators': 3700, 'eta': 0.09493943459732897, 'reg_alpha': 1.6923844715031918e-07, 'reg_lambda': 0.00902209918700889, 'gamma': 0.00032690619284249817, 'min_child_weight': 15, 'colsample_bytree': 0.2902555186538342}. Best is trial 3 with value: 0.5541950169255421.\u001b[0m\n"
     ]
    },
    {
     "name": "stdout",
     "output_type": "stream",
     "text": [
      "[0]\tvalidation_0-mlogloss:1.08623\n"
     ]
    },
    {
     "name": "stderr",
     "output_type": "stream",
     "text": [
      "\u001b[32m[I 2023-03-29 14:04:58,894]\u001b[0m Trial 19 pruned. Trial was pruned at iteration 0.\u001b[0m\n",
      "\u001b[32m[I 2023-03-29 14:04:59,236]\u001b[0m Trial 20 pruned. Trial was pruned at iteration 0.\u001b[0m\n",
      "\u001b[32m[I 2023-03-29 14:04:59,599]\u001b[0m Trial 21 pruned. Trial was pruned at iteration 0.\u001b[0m\n",
      "\u001b[32m[I 2023-03-29 14:04:59,982]\u001b[0m Trial 22 pruned. Trial was pruned at iteration 0.\u001b[0m\n"
     ]
    },
    {
     "name": "stdout",
     "output_type": "stream",
     "text": [
      "[0]\tvalidation_0-mlogloss:1.07653\n"
     ]
    },
    {
     "name": "stderr",
     "output_type": "stream",
     "text": [
      "\u001b[32m[I 2023-03-29 14:05:00,689]\u001b[0m Trial 23 pruned. Trial was pruned at iteration 2.\u001b[0m\n"
     ]
    },
    {
     "name": "stdout",
     "output_type": "stream",
     "text": [
      "[0]\tvalidation_0-mlogloss:1.08649\n"
     ]
    },
    {
     "name": "stderr",
     "output_type": "stream",
     "text": [
      "\u001b[32m[I 2023-03-29 14:05:01,159]\u001b[0m Trial 24 pruned. Trial was pruned at iteration 0.\u001b[0m\n"
     ]
    },
    {
     "name": "stdout",
     "output_type": "stream",
     "text": [
      "[0]\tvalidation_0-mlogloss:1.06653\n",
      "[10]\tvalidation_0-mlogloss:0.83807\n",
      "[20]\tvalidation_0-mlogloss:0.73435\n",
      "[30]\tvalidation_0-mlogloss:0.67673\n",
      "[40]\tvalidation_0-mlogloss:0.64040\n",
      "[50]\tvalidation_0-mlogloss:0.62102\n",
      "[60]\tvalidation_0-mlogloss:0.60678\n",
      "[70]\tvalidation_0-mlogloss:0.59303\n",
      "[80]\tvalidation_0-mlogloss:0.58181\n",
      "[90]\tvalidation_0-mlogloss:0.57417\n",
      "[100]\tvalidation_0-mlogloss:0.57058\n",
      "[110]\tvalidation_0-mlogloss:0.56767\n",
      "[120]\tvalidation_0-mlogloss:0.56361\n",
      "[130]\tvalidation_0-mlogloss:0.56081\n",
      "[140]\tvalidation_0-mlogloss:0.55816\n",
      "[150]\tvalidation_0-mlogloss:0.55866\n",
      "[160]\tvalidation_0-mlogloss:0.55896\n",
      "[170]\tvalidation_0-mlogloss:0.55831\n",
      "[180]\tvalidation_0-mlogloss:0.55712\n",
      "[190]\tvalidation_0-mlogloss:0.55508\n",
      "[200]\tvalidation_0-mlogloss:0.55503\n",
      "[210]\tvalidation_0-mlogloss:0.55481\n",
      "[220]\tvalidation_0-mlogloss:0.55631\n",
      "[230]\tvalidation_0-mlogloss:0.55598\n",
      "[240]\tvalidation_0-mlogloss:0.55826\n",
      "[245]\tvalidation_0-mlogloss:0.55775\n"
     ]
    },
    {
     "name": "stderr",
     "output_type": "stream",
     "text": [
      "\u001b[32m[I 2023-03-29 14:05:15,361]\u001b[0m Trial 25 finished with value: 0.5542978874400266 and parameters: {'max_depth': 6, 'subsample': 0.8, 'n_estimators': 3100, 'eta': 0.0752645265425817, 'reg_alpha': 2.663739238696e-07, 'reg_lambda': 0.4645383543742413, 'gamma': 0.0021981090211964137, 'min_child_weight': 10, 'colsample_bytree': 0.22662636189698684}. Best is trial 3 with value: 0.5541950169255421.\u001b[0m\n"
     ]
    },
    {
     "name": "stdout",
     "output_type": "stream",
     "text": [
      "[0]\tvalidation_0-mlogloss:1.07656\n",
      "[10]\tvalidation_0-mlogloss:0.86511\n",
      "[20]\tvalidation_0-mlogloss:0.75943\n",
      "[30]\tvalidation_0-mlogloss:0.69915\n",
      "[40]\tvalidation_0-mlogloss:0.65941\n",
      "[50]\tvalidation_0-mlogloss:0.63767\n",
      "[60]\tvalidation_0-mlogloss:0.62099\n",
      "[70]\tvalidation_0-mlogloss:0.60430\n",
      "[80]\tvalidation_0-mlogloss:0.59333\n",
      "[90]\tvalidation_0-mlogloss:0.58304\n",
      "[100]\tvalidation_0-mlogloss:0.57816\n",
      "[110]\tvalidation_0-mlogloss:0.57405\n",
      "[120]\tvalidation_0-mlogloss:0.56974\n",
      "[130]\tvalidation_0-mlogloss:0.56697\n",
      "[140]\tvalidation_0-mlogloss:0.56503\n",
      "[150]\tvalidation_0-mlogloss:0.56348\n",
      "[160]\tvalidation_0-mlogloss:0.56440\n",
      "[170]\tvalidation_0-mlogloss:0.56415\n",
      "[180]\tvalidation_0-mlogloss:0.56216\n",
      "[190]\tvalidation_0-mlogloss:0.56170\n",
      "[200]\tvalidation_0-mlogloss:0.56089\n",
      "[210]\tvalidation_0-mlogloss:0.55941\n",
      "[220]\tvalidation_0-mlogloss:0.56090\n",
      "[230]\tvalidation_0-mlogloss:0.55977\n",
      "[240]\tvalidation_0-mlogloss:0.56102\n",
      "[250]\tvalidation_0-mlogloss:0.56067\n",
      "[260]\tvalidation_0-mlogloss:0.56105\n",
      "[262]\tvalidation_0-mlogloss:0.56125\n"
     ]
    },
    {
     "name": "stderr",
     "output_type": "stream",
     "text": [
      "\u001b[32m[I 2023-03-29 14:05:28,862]\u001b[0m Trial 26 finished with value: 0.5591636312903292 and parameters: {'max_depth': 7, 'subsample': 0.8, 'n_estimators': 3050, 'eta': 0.07157712527194895, 'reg_alpha': 2.926331704793976e-07, 'reg_lambda': 0.01235544110796169, 'gamma': 0.0026789875078156444, 'min_child_weight': 12, 'colsample_bytree': 0.1998603426360932}. Best is trial 3 with value: 0.5541950169255421.\u001b[0m\n"
     ]
    },
    {
     "name": "stdout",
     "output_type": "stream",
     "text": [
      "[0]\tvalidation_0-mlogloss:1.07713\n"
     ]
    },
    {
     "name": "stderr",
     "output_type": "stream",
     "text": [
      "\u001b[32m[I 2023-03-29 14:05:29,267]\u001b[0m Trial 27 pruned. Trial was pruned at iteration 0.\u001b[0m\n"
     ]
    },
    {
     "name": "stdout",
     "output_type": "stream",
     "text": [
      "[0]\tvalidation_0-mlogloss:1.07400\n"
     ]
    },
    {
     "name": "stderr",
     "output_type": "stream",
     "text": [
      "\u001b[32m[I 2023-03-29 14:05:29,854]\u001b[0m Trial 28 pruned. Trial was pruned at iteration 1.\u001b[0m\n"
     ]
    },
    {
     "name": "stdout",
     "output_type": "stream",
     "text": [
      "[0]\tvalidation_0-mlogloss:1.05601\n",
      "[10]\tvalidation_0-mlogloss:0.77758\n",
      "[20]\tvalidation_0-mlogloss:0.67330\n",
      "[30]\tvalidation_0-mlogloss:0.62628\n",
      "[40]\tvalidation_0-mlogloss:0.59984\n",
      "[50]\tvalidation_0-mlogloss:0.58595\n",
      "[60]\tvalidation_0-mlogloss:0.57558\n",
      "[70]\tvalidation_0-mlogloss:0.56904\n",
      "[80]\tvalidation_0-mlogloss:0.56451\n",
      "[90]\tvalidation_0-mlogloss:0.55855\n",
      "[100]\tvalidation_0-mlogloss:0.56038\n",
      "[110]\tvalidation_0-mlogloss:0.55725\n",
      "[120]\tvalidation_0-mlogloss:0.55374\n",
      "[130]\tvalidation_0-mlogloss:0.55483\n",
      "[140]\tvalidation_0-mlogloss:0.55435\n",
      "[150]\tvalidation_0-mlogloss:0.55380\n",
      "[160]\tvalidation_0-mlogloss:0.55778\n",
      "[168]\tvalidation_0-mlogloss:0.55954\n"
     ]
    },
    {
     "name": "stderr",
     "output_type": "stream",
     "text": [
      "\u001b[32m[I 2023-03-29 14:05:39,056]\u001b[0m Trial 29 finished with value: 0.5530204807788763 and parameters: {'max_depth': 8, 'subsample': 0.85, 'n_estimators': 3850, 'eta': 0.09759008931163002, 'reg_alpha': 1.1609075288025477e-07, 'reg_lambda': 0.49656169941578915, 'gamma': 0.03969180560465921, 'min_child_weight': 6, 'colsample_bytree': 0.24059183567792758}. Best is trial 29 with value: 0.5530204807788763.\u001b[0m\n"
     ]
    },
    {
     "name": "stdout",
     "output_type": "stream",
     "text": [
      "[0]\tvalidation_0-mlogloss:1.05605\n",
      "[10]\tvalidation_0-mlogloss:0.77342\n",
      "[20]\tvalidation_0-mlogloss:0.66991\n",
      "[30]\tvalidation_0-mlogloss:0.62478\n",
      "[40]\tvalidation_0-mlogloss:0.59828\n",
      "[50]\tvalidation_0-mlogloss:0.58567\n",
      "[60]\tvalidation_0-mlogloss:0.57805\n",
      "[70]\tvalidation_0-mlogloss:0.57366\n",
      "[80]\tvalidation_0-mlogloss:0.56635\n",
      "[90]\tvalidation_0-mlogloss:0.56293\n",
      "[100]\tvalidation_0-mlogloss:0.56517\n",
      "[110]\tvalidation_0-mlogloss:0.56311\n",
      "[120]\tvalidation_0-mlogloss:0.56158\n",
      "[130]\tvalidation_0-mlogloss:0.56393\n",
      "[140]\tvalidation_0-mlogloss:0.56539\n",
      "[150]\tvalidation_0-mlogloss:0.56576\n",
      "[160]\tvalidation_0-mlogloss:0.56731\n",
      "[167]\tvalidation_0-mlogloss:0.56921\n"
     ]
    },
    {
     "name": "stderr",
     "output_type": "stream",
     "text": [
      "\u001b[32m[I 2023-03-29 14:05:48,312]\u001b[0m Trial 30 finished with value: 0.5598075220783424 and parameters: {'max_depth': 8, 'subsample': 0.85, 'n_estimators': 3850, 'eta': 0.09790246158307318, 'reg_alpha': 5.988349700644604e-08, 'reg_lambda': 0.00029622625495259107, 'gamma': 0.3542206204634347, 'min_child_weight': 6, 'colsample_bytree': 0.23909733969187297}. Best is trial 29 with value: 0.5530204807788763.\u001b[0m\n"
     ]
    },
    {
     "name": "stdout",
     "output_type": "stream",
     "text": [
      "[0]\tvalidation_0-mlogloss:1.06455\n",
      "[10]\tvalidation_0-mlogloss:0.81827\n",
      "[20]\tvalidation_0-mlogloss:0.71544\n",
      "[30]\tvalidation_0-mlogloss:0.66117\n",
      "[40]\tvalidation_0-mlogloss:0.62658\n",
      "[50]\tvalidation_0-mlogloss:0.60962\n",
      "[60]\tvalidation_0-mlogloss:0.59682\n",
      "[70]\tvalidation_0-mlogloss:0.58438\n",
      "[80]\tvalidation_0-mlogloss:0.57631\n",
      "[90]\tvalidation_0-mlogloss:0.57073\n",
      "[100]\tvalidation_0-mlogloss:0.56623\n",
      "[110]\tvalidation_0-mlogloss:0.56313\n",
      "[120]\tvalidation_0-mlogloss:0.56006\n",
      "[130]\tvalidation_0-mlogloss:0.55916\n",
      "[140]\tvalidation_0-mlogloss:0.55888\n",
      "[150]\tvalidation_0-mlogloss:0.55948\n",
      "[160]\tvalidation_0-mlogloss:0.56280\n",
      "[170]\tvalidation_0-mlogloss:0.56246\n",
      "[180]\tvalidation_0-mlogloss:0.56347\n",
      "[190]\tvalidation_0-mlogloss:0.56526\n"
     ]
    },
    {
     "name": "stderr",
     "output_type": "stream",
     "text": [
      "\u001b[32m[I 2023-03-29 14:05:59,803]\u001b[0m Trial 31 finished with value: 0.5588781589984503 and parameters: {'max_depth': 8, 'subsample': 0.8, 'n_estimators': 3850, 'eta': 0.08180196730663859, 'reg_alpha': 1.361915400236759e-07, 'reg_lambda': 0.3625746833970429, 'gamma': 0.023090193389064435, 'min_child_weight': 6, 'colsample_bytree': 0.2058386259865726}. Best is trial 29 with value: 0.5530204807788763.\u001b[0m\n"
     ]
    },
    {
     "name": "stdout",
     "output_type": "stream",
     "text": [
      "[0]\tvalidation_0-mlogloss:1.06742\n",
      "[10]\tvalidation_0-mlogloss:0.83145\n",
      "[20]\tvalidation_0-mlogloss:0.71675\n",
      "[30]\tvalidation_0-mlogloss:0.65555\n",
      "[40]\tvalidation_0-mlogloss:0.62298\n",
      "[50]\tvalidation_0-mlogloss:0.60161\n",
      "[60]\tvalidation_0-mlogloss:0.58719\n",
      "[70]\tvalidation_0-mlogloss:0.57845\n",
      "[80]\tvalidation_0-mlogloss:0.56982\n",
      "[90]\tvalidation_0-mlogloss:0.56452\n",
      "[100]\tvalidation_0-mlogloss:0.56572\n",
      "[110]\tvalidation_0-mlogloss:0.56263\n",
      "[120]\tvalidation_0-mlogloss:0.56004\n",
      "[130]\tvalidation_0-mlogloss:0.55774\n",
      "[140]\tvalidation_0-mlogloss:0.55716\n",
      "[150]\tvalidation_0-mlogloss:0.55602\n",
      "[160]\tvalidation_0-mlogloss:0.55848\n",
      "[170]\tvalidation_0-mlogloss:0.55937\n",
      "[180]\tvalidation_0-mlogloss:0.56184\n",
      "[190]\tvalidation_0-mlogloss:0.56297\n",
      "[199]\tvalidation_0-mlogloss:0.56527\n"
     ]
    },
    {
     "name": "stderr",
     "output_type": "stream",
     "text": [
      "\u001b[32m[I 2023-03-29 14:06:13,109]\u001b[0m Trial 32 finished with value: 0.5560193557715358 and parameters: {'max_depth': 8, 'subsample': 0.85, 'n_estimators': 3800, 'eta': 0.06858891667258572, 'reg_alpha': 1.0384803706435423e-07, 'reg_lambda': 0.46161554675510824, 'gamma': 0.052102235547442394, 'min_child_weight': 7, 'colsample_bytree': 0.26500642953710873}. Best is trial 29 with value: 0.5530204807788763.\u001b[0m\n"
     ]
    },
    {
     "name": "stdout",
     "output_type": "stream",
     "text": [
      "[0]\tvalidation_0-mlogloss:1.07197\n"
     ]
    },
    {
     "name": "stderr",
     "output_type": "stream",
     "text": [
      "\u001b[32m[I 2023-03-29 14:06:13,308]\u001b[0m Trial 33 pruned. Trial was pruned at iteration 0.\u001b[0m\n"
     ]
    },
    {
     "name": "stdout",
     "output_type": "stream",
     "text": [
      "[0]\tvalidation_0-mlogloss:1.06358\n",
      "[10]\tvalidation_0-mlogloss:0.81725\n",
      "[20]\tvalidation_0-mlogloss:0.71310\n",
      "[30]\tvalidation_0-mlogloss:0.65789\n",
      "[40]\tvalidation_0-mlogloss:0.62540\n",
      "[50]\tvalidation_0-mlogloss:0.60665\n",
      "[60]\tvalidation_0-mlogloss:0.59595\n",
      "[70]\tvalidation_0-mlogloss:0.58408\n",
      "[80]\tvalidation_0-mlogloss:0.57558\n",
      "[90]\tvalidation_0-mlogloss:0.56855\n",
      "[100]\tvalidation_0-mlogloss:0.56657\n",
      "[110]\tvalidation_0-mlogloss:0.56344\n",
      "[120]\tvalidation_0-mlogloss:0.56493\n",
      "[130]\tvalidation_0-mlogloss:0.56371\n",
      "[140]\tvalidation_0-mlogloss:0.56421\n",
      "[150]\tvalidation_0-mlogloss:0.56371\n",
      "[160]\tvalidation_0-mlogloss:0.56684\n",
      "[170]\tvalidation_0-mlogloss:0.56752\n",
      "[180]\tvalidation_0-mlogloss:0.56956\n",
      "[182]\tvalidation_0-mlogloss:0.57019\n"
     ]
    },
    {
     "name": "stderr",
     "output_type": "stream",
     "text": [
      "\u001b[32m[I 2023-03-29 14:06:24,025]\u001b[0m Trial 34 finished with value: 0.5623990249922116 and parameters: {'max_depth': 8, 'subsample': 0.9, 'n_estimators': 3450, 'eta': 0.08327718987180972, 'reg_alpha': 2.85168969289288e-07, 'reg_lambda': 0.23221847355919645, 'gamma': 0.001848769985740355, 'min_child_weight': 5, 'colsample_bytree': 0.21722192555009126}. Best is trial 29 with value: 0.5530204807788763.\u001b[0m\n"
     ]
    },
    {
     "name": "stdout",
     "output_type": "stream",
     "text": [
      "[0]\tvalidation_0-mlogloss:1.08242\n"
     ]
    },
    {
     "name": "stderr",
     "output_type": "stream",
     "text": [
      "\u001b[32m[I 2023-03-29 14:06:24,408]\u001b[0m Trial 35 pruned. Trial was pruned at iteration 0.\u001b[0m\n"
     ]
    },
    {
     "name": "stdout",
     "output_type": "stream",
     "text": [
      "[0]\tvalidation_0-mlogloss:1.08574\n"
     ]
    },
    {
     "name": "stderr",
     "output_type": "stream",
     "text": [
      "\u001b[32m[I 2023-03-29 14:06:24,801]\u001b[0m Trial 36 pruned. Trial was pruned at iteration 0.\u001b[0m\n",
      "\u001b[32m[I 2023-03-29 14:06:25,203]\u001b[0m Trial 37 pruned. Trial was pruned at iteration 0.\u001b[0m\n"
     ]
    },
    {
     "name": "stdout",
     "output_type": "stream",
     "text": [
      "[0]\tvalidation_0-mlogloss:1.08174\n"
     ]
    },
    {
     "name": "stderr",
     "output_type": "stream",
     "text": [
      "\u001b[32m[I 2023-03-29 14:06:25,603]\u001b[0m Trial 38 pruned. Trial was pruned at iteration 0.\u001b[0m\n"
     ]
    },
    {
     "name": "stdout",
     "output_type": "stream",
     "text": [
      "[0]\tvalidation_0-mlogloss:1.06490\n",
      "[10]\tvalidation_0-mlogloss:0.81519\n",
      "[20]\tvalidation_0-mlogloss:0.70870\n",
      "[30]\tvalidation_0-mlogloss:0.65335\n",
      "[40]\tvalidation_0-mlogloss:0.61926\n",
      "[50]\tvalidation_0-mlogloss:0.60061\n",
      "[60]\tvalidation_0-mlogloss:0.58797\n",
      "[70]\tvalidation_0-mlogloss:0.57664\n",
      "[80]\tvalidation_0-mlogloss:0.56871\n",
      "[90]\tvalidation_0-mlogloss:0.56507\n",
      "[100]\tvalidation_0-mlogloss:0.56249\n",
      "[110]\tvalidation_0-mlogloss:0.56005\n",
      "[120]\tvalidation_0-mlogloss:0.55573\n",
      "[130]\tvalidation_0-mlogloss:0.55585\n",
      "[140]\tvalidation_0-mlogloss:0.55693\n",
      "[150]\tvalidation_0-mlogloss:0.55851\n",
      "[160]\tvalidation_0-mlogloss:0.55997\n",
      "[170]\tvalidation_0-mlogloss:0.56107\n",
      "[174]\tvalidation_0-mlogloss:0.56152\n"
     ]
    },
    {
     "name": "stderr",
     "output_type": "stream",
     "text": [
      "\u001b[32m[I 2023-03-29 14:06:34,551]\u001b[0m Trial 39 finished with value: 0.555124945391063 and parameters: {'max_depth': 6, 'subsample': 0.8, 'n_estimators': 3400, 'eta': 0.07842383934033467, 'reg_alpha': 2.285470389587829e-07, 'reg_lambda': 0.059354573323654465, 'gamma': 0.03893552372903505, 'min_child_weight': 6, 'colsample_bytree': 0.2490920199630137}. Best is trial 29 with value: 0.5530204807788763.\u001b[0m\n"
     ]
    },
    {
     "name": "stdout",
     "output_type": "stream",
     "text": [
      "[0]\tvalidation_0-mlogloss:1.06243\n",
      "[10]\tvalidation_0-mlogloss:0.81094\n",
      "[20]\tvalidation_0-mlogloss:0.70090\n",
      "[30]\tvalidation_0-mlogloss:0.64231\n",
      "[40]\tvalidation_0-mlogloss:0.61385\n",
      "[50]\tvalidation_0-mlogloss:0.59911\n",
      "[60]\tvalidation_0-mlogloss:0.58580\n",
      "[70]\tvalidation_0-mlogloss:0.57740\n",
      "[80]\tvalidation_0-mlogloss:0.57155\n",
      "[90]\tvalidation_0-mlogloss:0.56649\n",
      "[100]\tvalidation_0-mlogloss:0.56567\n",
      "[110]\tvalidation_0-mlogloss:0.56395\n",
      "[120]\tvalidation_0-mlogloss:0.56076\n",
      "[130]\tvalidation_0-mlogloss:0.55887\n",
      "[140]\tvalidation_0-mlogloss:0.56041\n",
      "[150]\tvalidation_0-mlogloss:0.56044\n",
      "[160]\tvalidation_0-mlogloss:0.56329\n",
      "[170]\tvalidation_0-mlogloss:0.56502\n",
      "[180]\tvalidation_0-mlogloss:0.56548\n"
     ]
    },
    {
     "name": "stderr",
     "output_type": "stream",
     "text": [
      "\u001b[32m[I 2023-03-29 14:06:43,709]\u001b[0m Trial 40 finished with value: 0.5588697497892411 and parameters: {'max_depth': 6, 'subsample': 0.85, 'n_estimators': 3300, 'eta': 0.0776780794956047, 'reg_alpha': 6.86771531079228e-08, 'reg_lambda': 0.04895510804480606, 'gamma': 0.03742197356073913, 'min_child_weight': 5, 'colsample_bytree': 0.26778069932752935}. Best is trial 29 with value: 0.5530204807788763.\u001b[0m\n"
     ]
    },
    {
     "name": "stdout",
     "output_type": "stream",
     "text": [
      "[0]\tvalidation_0-mlogloss:1.05623\n",
      "[10]\tvalidation_0-mlogloss:0.77284\n",
      "[20]\tvalidation_0-mlogloss:0.67199\n",
      "[30]\tvalidation_0-mlogloss:0.62698\n",
      "[40]\tvalidation_0-mlogloss:0.59809\n",
      "[50]\tvalidation_0-mlogloss:0.58480\n",
      "[60]\tvalidation_0-mlogloss:0.57603\n",
      "[70]\tvalidation_0-mlogloss:0.56810\n",
      "[80]\tvalidation_0-mlogloss:0.56269\n",
      "[90]\tvalidation_0-mlogloss:0.55925\n",
      "[100]\tvalidation_0-mlogloss:0.55956\n",
      "[110]\tvalidation_0-mlogloss:0.55573\n",
      "[120]\tvalidation_0-mlogloss:0.55307\n",
      "[130]\tvalidation_0-mlogloss:0.55641\n",
      "[140]\tvalidation_0-mlogloss:0.55703\n",
      "[150]\tvalidation_0-mlogloss:0.55823\n",
      "[160]\tvalidation_0-mlogloss:0.56082\n",
      "[168]\tvalidation_0-mlogloss:0.56269\n"
     ]
    },
    {
     "name": "stderr",
     "output_type": "stream",
     "text": [
      "\u001b[32m[I 2023-03-29 14:06:52,503]\u001b[0m Trial 41 finished with value: 0.5522449565596865 and parameters: {'max_depth': 6, 'subsample': 0.8, 'n_estimators': 3450, 'eta': 0.09924877620060063, 'reg_alpha': 2.0812543641220952e-07, 'reg_lambda': 0.12560426992160323, 'gamma': 0.1321801023158906, 'min_child_weight': 6, 'colsample_bytree': 0.23623464764576532}. Best is trial 41 with value: 0.5522449565596865.\u001b[0m\n"
     ]
    },
    {
     "name": "stdout",
     "output_type": "stream",
     "text": [
      "[0]\tvalidation_0-mlogloss:1.05853\n",
      "[10]\tvalidation_0-mlogloss:0.78368\n",
      "[20]\tvalidation_0-mlogloss:0.68214\n",
      "[30]\tvalidation_0-mlogloss:0.63348\n",
      "[40]\tvalidation_0-mlogloss:0.60518\n",
      "[50]\tvalidation_0-mlogloss:0.59097\n",
      "[60]\tvalidation_0-mlogloss:0.58151\n",
      "[70]\tvalidation_0-mlogloss:0.57378\n",
      "[80]\tvalidation_0-mlogloss:0.56712\n",
      "[90]\tvalidation_0-mlogloss:0.56217\n",
      "[100]\tvalidation_0-mlogloss:0.56251\n",
      "[110]\tvalidation_0-mlogloss:0.55971\n",
      "[120]\tvalidation_0-mlogloss:0.55721\n",
      "[130]\tvalidation_0-mlogloss:0.55893\n",
      "[140]\tvalidation_0-mlogloss:0.55972\n",
      "[150]\tvalidation_0-mlogloss:0.56065\n",
      "[160]\tvalidation_0-mlogloss:0.56415\n",
      "[168]\tvalidation_0-mlogloss:0.56547\n"
     ]
    },
    {
     "name": "stderr",
     "output_type": "stream",
     "text": [
      "\u001b[32m[I 2023-03-29 14:07:02,339]\u001b[0m Trial 42 finished with value: 0.5571382746534193 and parameters: {'max_depth': 6, 'subsample': 0.8, 'n_estimators': 3050, 'eta': 0.09369498270787004, 'reg_alpha': 1.768953393351831e-07, 'reg_lambda': 0.1291305759575195, 'gamma': 0.160144734181664, 'min_child_weight': 6, 'colsample_bytree': 0.24515620817429343}. Best is trial 41 with value: 0.5522449565596865.\u001b[0m\n"
     ]
    },
    {
     "name": "stdout",
     "output_type": "stream",
     "text": [
      "[0]\tvalidation_0-mlogloss:1.05571\n",
      "[10]\tvalidation_0-mlogloss:0.77404\n",
      "[20]\tvalidation_0-mlogloss:0.67283\n",
      "[30]\tvalidation_0-mlogloss:0.62820\n",
      "[40]\tvalidation_0-mlogloss:0.60027\n",
      "[50]\tvalidation_0-mlogloss:0.58794\n",
      "[60]\tvalidation_0-mlogloss:0.57989\n",
      "[70]\tvalidation_0-mlogloss:0.57115\n",
      "[80]\tvalidation_0-mlogloss:0.56426\n",
      "[90]\tvalidation_0-mlogloss:0.55985\n",
      "[100]\tvalidation_0-mlogloss:0.55769\n",
      "[110]\tvalidation_0-mlogloss:0.55538\n",
      "[120]\tvalidation_0-mlogloss:0.55384\n",
      "[130]\tvalidation_0-mlogloss:0.55618\n",
      "[140]\tvalidation_0-mlogloss:0.55735\n",
      "[150]\tvalidation_0-mlogloss:0.55854\n",
      "[160]\tvalidation_0-mlogloss:0.56050\n",
      "[168]\tvalidation_0-mlogloss:0.56196\n"
     ]
    },
    {
     "name": "stderr",
     "output_type": "stream",
     "text": [
      "\u001b[32m[I 2023-03-29 14:07:10,771]\u001b[0m Trial 43 finished with value: 0.5532977303913178 and parameters: {'max_depth': 6, 'subsample': 0.8, 'n_estimators': 3600, 'eta': 0.09977331932892333, 'reg_alpha': 2.7423001031410245e-07, 'reg_lambda': 0.2590535786720027, 'gamma': 0.21293834840018372, 'min_child_weight': 5, 'colsample_bytree': 0.23159014490514565}. Best is trial 41 with value: 0.5522449565596865.\u001b[0m\n"
     ]
    },
    {
     "name": "stdout",
     "output_type": "stream",
     "text": [
      "[0]\tvalidation_0-mlogloss:1.05726\n",
      "[10]\tvalidation_0-mlogloss:0.78031\n",
      "[20]\tvalidation_0-mlogloss:0.68029\n",
      "[30]\tvalidation_0-mlogloss:0.63360\n",
      "[40]\tvalidation_0-mlogloss:0.60834\n",
      "[50]\tvalidation_0-mlogloss:0.59459\n",
      "[60]\tvalidation_0-mlogloss:0.58537\n",
      "[70]\tvalidation_0-mlogloss:0.57788\n",
      "[80]\tvalidation_0-mlogloss:0.57279\n",
      "[90]\tvalidation_0-mlogloss:0.56630\n",
      "[100]\tvalidation_0-mlogloss:0.56540\n",
      "[110]\tvalidation_0-mlogloss:0.56554\n",
      "[120]\tvalidation_0-mlogloss:0.56428\n",
      "[130]\tvalidation_0-mlogloss:0.56237\n",
      "[140]\tvalidation_0-mlogloss:0.56322\n",
      "[150]\tvalidation_0-mlogloss:0.56703\n",
      "[160]\tvalidation_0-mlogloss:0.56822\n",
      "[170]\tvalidation_0-mlogloss:0.56742\n",
      "[179]\tvalidation_0-mlogloss:0.57009\n"
     ]
    },
    {
     "name": "stderr",
     "output_type": "stream",
     "text": [
      "\u001b[32m[I 2023-03-29 14:07:21,598]\u001b[0m Trial 44 finished with value: 0.5623732044959024 and parameters: {'max_depth': 6, 'subsample': 0.7, 'n_estimators': 3650, 'eta': 0.09852104444431992, 'reg_alpha': 1.290698673885535e-07, 'reg_lambda': 0.4962961352268565, 'gamma': 0.5129703751442928, 'min_child_weight': 5, 'colsample_bytree': 0.2302779100798914}. Best is trial 41 with value: 0.5522449565596865.\u001b[0m\n"
     ]
    },
    {
     "name": "stdout",
     "output_type": "stream",
     "text": [
      "[0]\tvalidation_0-mlogloss:1.06952\n"
     ]
    },
    {
     "name": "stderr",
     "output_type": "stream",
     "text": [
      "\u001b[32m[I 2023-03-29 14:07:22,108]\u001b[0m Trial 45 pruned. Trial was pruned at iteration 0.\u001b[0m\n"
     ]
    },
    {
     "name": "stdout",
     "output_type": "stream",
     "text": [
      "[0]\tvalidation_0-mlogloss:1.05794\n",
      "[10]\tvalidation_0-mlogloss:0.78892\n",
      "[20]\tvalidation_0-mlogloss:0.68190\n",
      "[30]\tvalidation_0-mlogloss:0.62830\n",
      "[40]\tvalidation_0-mlogloss:0.60294\n",
      "[50]\tvalidation_0-mlogloss:0.58823\n",
      "[60]\tvalidation_0-mlogloss:0.57617\n",
      "[70]\tvalidation_0-mlogloss:0.56679\n",
      "[80]\tvalidation_0-mlogloss:0.56152\n",
      "[90]\tvalidation_0-mlogloss:0.55715\n",
      "[100]\tvalidation_0-mlogloss:0.55872\n",
      "[110]\tvalidation_0-mlogloss:0.55602\n",
      "[120]\tvalidation_0-mlogloss:0.55403\n",
      "[130]\tvalidation_0-mlogloss:0.55345\n",
      "[140]\tvalidation_0-mlogloss:0.55505\n",
      "[150]\tvalidation_0-mlogloss:0.55362\n",
      "[160]\tvalidation_0-mlogloss:0.55673\n",
      "[170]\tvalidation_0-mlogloss:0.55838\n",
      "[179]\tvalidation_0-mlogloss:0.55973\n"
     ]
    },
    {
     "name": "stderr",
     "output_type": "stream",
     "text": [
      "\u001b[32m[I 2023-03-29 14:07:32,141]\u001b[0m Trial 46 finished with value: 0.5534480294036216 and parameters: {'max_depth': 6, 'subsample': 0.85, 'n_estimators': 3950, 'eta': 0.08849162393043734, 'reg_alpha': 1.0020403115681234e-07, 'reg_lambda': 0.1395102647295898, 'gamma': 0.2546652215118435, 'min_child_weight': 5, 'colsample_bytree': 0.2767067897210072}. Best is trial 41 with value: 0.5522449565596865.\u001b[0m\n"
     ]
    },
    {
     "name": "stdout",
     "output_type": "stream",
     "text": [
      "[0]\tvalidation_0-mlogloss:1.05997\n",
      "[10]\tvalidation_0-mlogloss:0.79656\n",
      "[20]\tvalidation_0-mlogloss:0.68650\n",
      "[30]\tvalidation_0-mlogloss:0.63028\n",
      "[40]\tvalidation_0-mlogloss:0.60400\n",
      "[50]\tvalidation_0-mlogloss:0.58882\n",
      "[60]\tvalidation_0-mlogloss:0.57776\n",
      "[70]\tvalidation_0-mlogloss:0.56981\n",
      "[80]\tvalidation_0-mlogloss:0.56645\n",
      "[90]\tvalidation_0-mlogloss:0.56250\n",
      "[100]\tvalidation_0-mlogloss:0.56503\n",
      "[110]\tvalidation_0-mlogloss:0.56583\n",
      "[120]\tvalidation_0-mlogloss:0.56736\n",
      "[130]\tvalidation_0-mlogloss:0.56793\n"
     ]
    },
    {
     "name": "stderr",
     "output_type": "stream",
     "text": [
      "\u001b[32m[I 2023-03-29 14:07:39,451]\u001b[0m Trial 47 pruned. Trial was pruned at iteration 133.\u001b[0m\n"
     ]
    },
    {
     "name": "stdout",
     "output_type": "stream",
     "text": [
      "[0]\tvalidation_0-mlogloss:1.06603\n"
     ]
    },
    {
     "name": "stderr",
     "output_type": "stream",
     "text": [
      "\u001b[32m[I 2023-03-29 14:07:39,615]\u001b[0m Trial 48 pruned. Trial was pruned at iteration 0.\u001b[0m\n"
     ]
    },
    {
     "name": "stdout",
     "output_type": "stream",
     "text": [
      "[0]\tvalidation_0-mlogloss:1.04368\n",
      "[10]\tvalidation_0-mlogloss:0.75171\n",
      "[20]\tvalidation_0-mlogloss:0.64817\n",
      "[30]\tvalidation_0-mlogloss:0.60464\n",
      "[40]\tvalidation_0-mlogloss:0.57999\n",
      "[50]\tvalidation_0-mlogloss:0.56778\n",
      "[60]\tvalidation_0-mlogloss:0.56099\n",
      "[70]\tvalidation_0-mlogloss:0.55547\n",
      "[80]\tvalidation_0-mlogloss:0.55328\n",
      "[90]\tvalidation_0-mlogloss:0.55295\n",
      "[100]\tvalidation_0-mlogloss:0.55190\n",
      "[110]\tvalidation_0-mlogloss:0.55044\n",
      "[120]\tvalidation_0-mlogloss:0.55127\n",
      "[130]\tvalidation_0-mlogloss:0.55265\n",
      "[140]\tvalidation_0-mlogloss:0.55329\n",
      "[150]\tvalidation_0-mlogloss:0.55596\n",
      "[155]\tvalidation_0-mlogloss:0.55615\n"
     ]
    },
    {
     "name": "stderr",
     "output_type": "stream",
     "text": [
      "\u001b[32m[I 2023-03-29 14:07:47,321]\u001b[0m Trial 49 finished with value: 0.5502489012619268 and parameters: {'max_depth': 7, 'subsample': 0.7, 'n_estimators': 3800, 'eta': 0.09967223617945833, 'reg_alpha': 4.1181276209901314e-08, 'reg_lambda': 0.040098666589886055, 'gamma': 0.924533874823556, 'min_child_weight': 5, 'colsample_bytree': 0.33274357291224116}. Best is trial 49 with value: 0.5502489012619268.\u001b[0m\n"
     ]
    },
    {
     "name": "stdout",
     "output_type": "stream",
     "text": [
      "[0]\tvalidation_0-mlogloss:1.04963\n",
      "[10]\tvalidation_0-mlogloss:0.77200\n",
      "[20]\tvalidation_0-mlogloss:0.66303\n",
      "[30]\tvalidation_0-mlogloss:0.61456\n",
      "[40]\tvalidation_0-mlogloss:0.58935\n",
      "[50]\tvalidation_0-mlogloss:0.57650\n",
      "[60]\tvalidation_0-mlogloss:0.56786\n",
      "[70]\tvalidation_0-mlogloss:0.56207\n",
      "[80]\tvalidation_0-mlogloss:0.55907\n",
      "[90]\tvalidation_0-mlogloss:0.55498\n",
      "[100]\tvalidation_0-mlogloss:0.55439\n",
      "[110]\tvalidation_0-mlogloss:0.55423\n",
      "[120]\tvalidation_0-mlogloss:0.55516\n",
      "[130]\tvalidation_0-mlogloss:0.55660\n",
      "[140]\tvalidation_0-mlogloss:0.55629\n",
      "[150]\tvalidation_0-mlogloss:0.55778\n",
      "[153]\tvalidation_0-mlogloss:0.55854\n"
     ]
    },
    {
     "name": "stderr",
     "output_type": "stream",
     "text": [
      "\u001b[32m[I 2023-03-29 14:07:55,241]\u001b[0m Trial 50 finished with value: 0.5529238920399417 and parameters: {'max_depth': 7, 'subsample': 0.7, 'n_estimators': 3750, 'eta': 0.0884220766119296, 'reg_alpha': 4.8580379309643674e-08, 'reg_lambda': 0.037937614193874626, 'gamma': 0.9466905650616205, 'min_child_weight': 5, 'colsample_bytree': 0.34101145640553926}. Best is trial 49 with value: 0.5502489012619268.\u001b[0m\n"
     ]
    },
    {
     "name": "stdout",
     "output_type": "stream",
     "text": [
      "[0]\tvalidation_0-mlogloss:1.04978\n",
      "[10]\tvalidation_0-mlogloss:0.77277\n",
      "[20]\tvalidation_0-mlogloss:0.66470\n",
      "[30]\tvalidation_0-mlogloss:0.61499\n",
      "[40]\tvalidation_0-mlogloss:0.58931\n",
      "[50]\tvalidation_0-mlogloss:0.57579\n",
      "[60]\tvalidation_0-mlogloss:0.56845\n",
      "[70]\tvalidation_0-mlogloss:0.56211\n",
      "[80]\tvalidation_0-mlogloss:0.55934\n",
      "[90]\tvalidation_0-mlogloss:0.55655\n",
      "[100]\tvalidation_0-mlogloss:0.55553\n",
      "[110]\tvalidation_0-mlogloss:0.55674\n",
      "[120]\tvalidation_0-mlogloss:0.55612\n",
      "[130]\tvalidation_0-mlogloss:0.55847\n",
      "[140]\tvalidation_0-mlogloss:0.55908\n",
      "[150]\tvalidation_0-mlogloss:0.56151\n",
      "[160]\tvalidation_0-mlogloss:0.56253\n",
      "[165]\tvalidation_0-mlogloss:0.56227\n"
     ]
    },
    {
     "name": "stderr",
     "output_type": "stream",
     "text": [
      "\u001b[32m[I 2023-03-29 14:08:04,031]\u001b[0m Trial 51 finished with value: 0.5550357365000517 and parameters: {'max_depth': 7, 'subsample': 0.7, 'n_estimators': 3750, 'eta': 0.08814433153987479, 'reg_alpha': 3.057262759716854e-08, 'reg_lambda': 0.044372690397025495, 'gamma': 0.9887097080866559, 'min_child_weight': 5, 'colsample_bytree': 0.34235222043102076}. Best is trial 49 with value: 0.5502489012619268.\u001b[0m\n"
     ]
    },
    {
     "name": "stdout",
     "output_type": "stream",
     "text": [
      "[0]\tvalidation_0-mlogloss:1.04492\n",
      "[10]\tvalidation_0-mlogloss:0.75151\n",
      "[20]\tvalidation_0-mlogloss:0.64017\n",
      "[30]\tvalidation_0-mlogloss:0.59949\n",
      "[40]\tvalidation_0-mlogloss:0.58336\n",
      "[50]\tvalidation_0-mlogloss:0.57338\n",
      "[60]\tvalidation_0-mlogloss:0.56660\n",
      "[70]\tvalidation_0-mlogloss:0.56592\n",
      "[80]\tvalidation_0-mlogloss:0.56678\n",
      "[90]\tvalidation_0-mlogloss:0.56448\n",
      "[100]\tvalidation_0-mlogloss:0.56382\n",
      "[110]\tvalidation_0-mlogloss:0.56601\n"
     ]
    },
    {
     "name": "stderr",
     "output_type": "stream",
     "text": [
      "\u001b[32m[I 2023-03-29 14:08:09,954]\u001b[0m Trial 52 pruned. Trial was pruned at iteration 113.\u001b[0m\n"
     ]
    },
    {
     "name": "stdout",
     "output_type": "stream",
     "text": [
      "[0]\tvalidation_0-mlogloss:1.05169\n",
      "[10]\tvalidation_0-mlogloss:0.78298\n",
      "[20]\tvalidation_0-mlogloss:0.67194\n",
      "[30]\tvalidation_0-mlogloss:0.61954\n",
      "[40]\tvalidation_0-mlogloss:0.59511\n",
      "[50]\tvalidation_0-mlogloss:0.58324\n",
      "[60]\tvalidation_0-mlogloss:0.57368\n",
      "[70]\tvalidation_0-mlogloss:0.56508\n",
      "[80]\tvalidation_0-mlogloss:0.56218\n",
      "[90]\tvalidation_0-mlogloss:0.55972\n",
      "[100]\tvalidation_0-mlogloss:0.55781\n",
      "[110]\tvalidation_0-mlogloss:0.55976\n",
      "[120]\tvalidation_0-mlogloss:0.55746\n",
      "[130]\tvalidation_0-mlogloss:0.56085\n",
      "[140]\tvalidation_0-mlogloss:0.56138\n",
      "[150]\tvalidation_0-mlogloss:0.56490\n",
      "[160]\tvalidation_0-mlogloss:0.56784\n",
      "[166]\tvalidation_0-mlogloss:0.56755\n"
     ]
    },
    {
     "name": "stderr",
     "output_type": "stream",
     "text": [
      "\u001b[32m[I 2023-03-29 14:08:19,090]\u001b[0m Trial 53 finished with value: 0.5566382544916804 and parameters: {'max_depth': 7, 'subsample': 0.7, 'n_estimators': 3600, 'eta': 0.0867527403905134, 'reg_alpha': 5.578771129615542e-08, 'reg_lambda': 0.2411600938522127, 'gamma': 0.5203605197954911, 'min_child_weight': 5, 'colsample_bytree': 0.30926717170154844}. Best is trial 49 with value: 0.5502489012619268.\u001b[0m\n",
      "\u001b[32m[I 2023-03-29 14:08:19,406]\u001b[0m Trial 54 pruned. Trial was pruned at iteration 0.\u001b[0m\n"
     ]
    },
    {
     "name": "stdout",
     "output_type": "stream",
     "text": [
      "[0]\tvalidation_0-mlogloss:1.05023\n",
      "[10]\tvalidation_0-mlogloss:0.77750\n",
      "[20]\tvalidation_0-mlogloss:0.66924\n",
      "[30]\tvalidation_0-mlogloss:0.61756\n",
      "[40]\tvalidation_0-mlogloss:0.59170\n",
      "[50]\tvalidation_0-mlogloss:0.58169\n",
      "[60]\tvalidation_0-mlogloss:0.57537\n",
      "[70]\tvalidation_0-mlogloss:0.56830\n",
      "[80]\tvalidation_0-mlogloss:0.56630\n",
      "[90]\tvalidation_0-mlogloss:0.56207\n",
      "[100]\tvalidation_0-mlogloss:0.56057\n",
      "[110]\tvalidation_0-mlogloss:0.56228\n",
      "[120]\tvalidation_0-mlogloss:0.56120\n",
      "[130]\tvalidation_0-mlogloss:0.56382\n",
      "[140]\tvalidation_0-mlogloss:0.56377\n",
      "[150]\tvalidation_0-mlogloss:0.56612\n",
      "[152]\tvalidation_0-mlogloss:0.56663\n"
     ]
    },
    {
     "name": "stderr",
     "output_type": "stream",
     "text": [
      "\u001b[32m[I 2023-03-29 14:08:28,475]\u001b[0m Trial 55 finished with value: 0.5599432037005703 and parameters: {'max_depth': 7, 'subsample': 0.8, 'n_estimators': 3800, 'eta': 0.08726535831530405, 'reg_alpha': 3.670072381361713e-08, 'reg_lambda': 0.040765814453741694, 'gamma': 0.778035289161364, 'min_child_weight': 5, 'colsample_bytree': 0.29362831848487964}. Best is trial 49 with value: 0.5502489012619268.\u001b[0m\n"
     ]
    },
    {
     "name": "stdout",
     "output_type": "stream",
     "text": [
      "[0]\tvalidation_0-mlogloss:1.04489\n",
      "[10]\tvalidation_0-mlogloss:0.75196\n",
      "[20]\tvalidation_0-mlogloss:0.64286\n",
      "[30]\tvalidation_0-mlogloss:0.60020\n",
      "[40]\tvalidation_0-mlogloss:0.58418\n",
      "[50]\tvalidation_0-mlogloss:0.57414\n",
      "[60]\tvalidation_0-mlogloss:0.56716\n",
      "[70]\tvalidation_0-mlogloss:0.56445\n",
      "[80]\tvalidation_0-mlogloss:0.56514\n",
      "[90]\tvalidation_0-mlogloss:0.56127\n",
      "[100]\tvalidation_0-mlogloss:0.56297\n",
      "[110]\tvalidation_0-mlogloss:0.56367\n",
      "[120]\tvalidation_0-mlogloss:0.56478\n",
      "[130]\tvalidation_0-mlogloss:0.56581\n",
      "[140]\tvalidation_0-mlogloss:0.56697\n",
      "[143]\tvalidation_0-mlogloss:0.56800\n"
     ]
    },
    {
     "name": "stderr",
     "output_type": "stream",
     "text": [
      "\u001b[32m[I 2023-03-29 14:08:37,099]\u001b[0m Trial 56 finished with value: 0.5602666659835625 and parameters: {'max_depth': 6, 'subsample': 0.85, 'n_estimators': 3900, 'eta': 0.0991900174757277, 'reg_alpha': 2.341018273569626e-08, 'reg_lambda': 0.07395126488243102, 'gamma': 0.2226394497836731, 'min_child_weight': 6, 'colsample_bytree': 0.37045025111270374}. Best is trial 49 with value: 0.5502489012619268.\u001b[0m\n"
     ]
    },
    {
     "name": "stdout",
     "output_type": "stream",
     "text": [
      "[0]\tvalidation_0-mlogloss:1.05868\n"
     ]
    },
    {
     "name": "stderr",
     "output_type": "stream",
     "text": [
      "\u001b[32m[I 2023-03-29 14:08:37,390]\u001b[0m Trial 57 pruned. Trial was pruned at iteration 2.\u001b[0m\n"
     ]
    },
    {
     "name": "stdout",
     "output_type": "stream",
     "text": [
      "[0]\tvalidation_0-mlogloss:1.05892\n",
      "[10]\tvalidation_0-mlogloss:0.78779\n",
      "[20]\tvalidation_0-mlogloss:0.67969\n",
      "[30]\tvalidation_0-mlogloss:0.62415\n",
      "[40]\tvalidation_0-mlogloss:0.59982\n",
      "[50]\tvalidation_0-mlogloss:0.58545\n",
      "[60]\tvalidation_0-mlogloss:0.57632\n",
      "[70]\tvalidation_0-mlogloss:0.56924\n",
      "[80]\tvalidation_0-mlogloss:0.56144\n",
      "[90]\tvalidation_0-mlogloss:0.55565\n",
      "[100]\tvalidation_0-mlogloss:0.55543\n",
      "[110]\tvalidation_0-mlogloss:0.55709\n",
      "[120]\tvalidation_0-mlogloss:0.55665\n",
      "[130]\tvalidation_0-mlogloss:0.55505\n",
      "[140]\tvalidation_0-mlogloss:0.55498\n",
      "[150]\tvalidation_0-mlogloss:0.55858\n",
      "[160]\tvalidation_0-mlogloss:0.56032\n",
      "[170]\tvalidation_0-mlogloss:0.56242\n",
      "[177]\tvalidation_0-mlogloss:0.56393\n"
     ]
    },
    {
     "name": "stderr",
     "output_type": "stream",
     "text": [
      "\u001b[32m[I 2023-03-29 14:08:46,692]\u001b[0m Trial 58 finished with value: 0.5541785312569317 and parameters: {'max_depth': 7, 'subsample': 0.75, 'n_estimators': 4000, 'eta': 0.08801436926139794, 'reg_alpha': 4.682038444288569e-08, 'reg_lambda': 0.02912437633677731, 'gamma': 0.10655681765024187, 'min_child_weight': 5, 'colsample_bytree': 0.2577132737762833}. Best is trial 49 with value: 0.5502489012619268.\u001b[0m\n"
     ]
    },
    {
     "name": "stdout",
     "output_type": "stream",
     "text": [
      "[0]\tvalidation_0-mlogloss:1.06891\n"
     ]
    },
    {
     "name": "stderr",
     "output_type": "stream",
     "text": [
      "\u001b[32m[I 2023-03-29 14:08:46,851]\u001b[0m Trial 59 pruned. Trial was pruned at iteration 0.\u001b[0m\n"
     ]
    },
    {
     "name": "stdout",
     "output_type": "stream",
     "text": [
      "[0]\tvalidation_0-mlogloss:1.05616\n"
     ]
    },
    {
     "name": "stderr",
     "output_type": "stream",
     "text": [
      "\u001b[32m[I 2023-03-29 14:08:47,065]\u001b[0m Trial 60 pruned. Trial was pruned at iteration 1.\u001b[0m\n"
     ]
    },
    {
     "name": "stdout",
     "output_type": "stream",
     "text": [
      "[0]\tvalidation_0-mlogloss:1.06024\n",
      "[10]\tvalidation_0-mlogloss:0.78905\n",
      "[20]\tvalidation_0-mlogloss:0.68670\n",
      "[30]\tvalidation_0-mlogloss:0.63746\n",
      "[40]\tvalidation_0-mlogloss:0.60820\n",
      "[50]\tvalidation_0-mlogloss:0.59268\n",
      "[60]\tvalidation_0-mlogloss:0.58512\n"
     ]
    },
    {
     "name": "stderr",
     "output_type": "stream",
     "text": [
      "\u001b[32m[I 2023-03-29 14:08:51,743]\u001b[0m Trial 61 pruned. Trial was pruned at iteration 62.\u001b[0m\n"
     ]
    },
    {
     "name": "stdout",
     "output_type": "stream",
     "text": [
      "[0]\tvalidation_0-mlogloss:1.05982\n",
      "[10]\tvalidation_0-mlogloss:0.78828\n",
      "[20]\tvalidation_0-mlogloss:0.68448\n",
      "[30]\tvalidation_0-mlogloss:0.63508\n",
      "[40]\tvalidation_0-mlogloss:0.60690\n",
      "[50]\tvalidation_0-mlogloss:0.59139\n",
      "[60]\tvalidation_0-mlogloss:0.58398\n",
      "[70]\tvalidation_0-mlogloss:0.57585\n",
      "[80]\tvalidation_0-mlogloss:0.56784\n",
      "[90]\tvalidation_0-mlogloss:0.56178\n",
      "[100]\tvalidation_0-mlogloss:0.56030\n",
      "[110]\tvalidation_0-mlogloss:0.55710\n",
      "[120]\tvalidation_0-mlogloss:0.55657\n",
      "[130]\tvalidation_0-mlogloss:0.55692\n",
      "[140]\tvalidation_0-mlogloss:0.55843\n",
      "[150]\tvalidation_0-mlogloss:0.55983\n",
      "[160]\tvalidation_0-mlogloss:0.55924\n",
      "[168]\tvalidation_0-mlogloss:0.56030\n"
     ]
    },
    {
     "name": "stderr",
     "output_type": "stream",
     "text": [
      "\u001b[32m[I 2023-03-29 14:09:00,090]\u001b[0m Trial 62 finished with value: 0.5549551805217653 and parameters: {'max_depth': 7, 'subsample': 0.75, 'n_estimators': 3750, 'eta': 0.0903003687457943, 'reg_alpha': 5.3963608586258535e-08, 'reg_lambda': 0.1661966853358494, 'gamma': 0.3828932916826813, 'min_child_weight': 5, 'colsample_bytree': 0.2543837396946422}. Best is trial 49 with value: 0.5502489012619268.\u001b[0m\n",
      "\u001b[32m[I 2023-03-29 14:09:00,266]\u001b[0m Trial 63 pruned. Trial was pruned at iteration 0.\u001b[0m\n"
     ]
    },
    {
     "name": "stdout",
     "output_type": "stream",
     "text": [
      "[0]\tvalidation_0-mlogloss:1.05310\n",
      "[10]\tvalidation_0-mlogloss:0.78475\n",
      "[20]\tvalidation_0-mlogloss:0.67274\n",
      "[30]\tvalidation_0-mlogloss:0.62196\n",
      "[40]\tvalidation_0-mlogloss:0.59768\n",
      "[50]\tvalidation_0-mlogloss:0.58284\n",
      "[60]\tvalidation_0-mlogloss:0.57501\n",
      "[70]\tvalidation_0-mlogloss:0.57061\n",
      "[80]\tvalidation_0-mlogloss:0.56770\n"
     ]
    },
    {
     "name": "stderr",
     "output_type": "stream",
     "text": [
      "\u001b[32m[I 2023-03-29 14:09:05,769]\u001b[0m Trial 64 pruned. Trial was pruned at iteration 82.\u001b[0m\n"
     ]
    },
    {
     "name": "stdout",
     "output_type": "stream",
     "text": [
      "[0]\tvalidation_0-mlogloss:1.05959\n"
     ]
    },
    {
     "name": "stderr",
     "output_type": "stream",
     "text": [
      "\u001b[32m[I 2023-03-29 14:09:05,991]\u001b[0m Trial 65 pruned. Trial was pruned at iteration 1.\u001b[0m\n"
     ]
    },
    {
     "name": "stdout",
     "output_type": "stream",
     "text": [
      "[0]\tvalidation_0-mlogloss:1.06467\n"
     ]
    },
    {
     "name": "stderr",
     "output_type": "stream",
     "text": [
      "\u001b[32m[I 2023-03-29 14:09:06,174]\u001b[0m Trial 66 pruned. Trial was pruned at iteration 0.\u001b[0m\n"
     ]
    },
    {
     "name": "stdout",
     "output_type": "stream",
     "text": [
      "[0]\tvalidation_0-mlogloss:1.05645\n",
      "[10]\tvalidation_0-mlogloss:0.77702\n",
      "[20]\tvalidation_0-mlogloss:0.67718\n",
      "[30]\tvalidation_0-mlogloss:0.63128\n",
      "[40]\tvalidation_0-mlogloss:0.60747\n",
      "[50]\tvalidation_0-mlogloss:0.59241\n",
      "[60]\tvalidation_0-mlogloss:0.58464\n"
     ]
    },
    {
     "name": "stderr",
     "output_type": "stream",
     "text": [
      "\u001b[32m[I 2023-03-29 14:09:08,488]\u001b[0m Trial 67 pruned. Trial was pruned at iteration 62.\u001b[0m\n",
      "\u001b[32m[I 2023-03-29 14:09:08,669]\u001b[0m Trial 68 pruned. Trial was pruned at iteration 0.\u001b[0m\n"
     ]
    },
    {
     "name": "stdout",
     "output_type": "stream",
     "text": [
      "[0]\tvalidation_0-mlogloss:1.05596\n"
     ]
    },
    {
     "name": "stderr",
     "output_type": "stream",
     "text": [
      "\u001b[32m[I 2023-03-29 14:09:08,877]\u001b[0m Trial 69 pruned. Trial was pruned at iteration 1.\u001b[0m\n"
     ]
    },
    {
     "name": "stdout",
     "output_type": "stream",
     "text": [
      "[0]\tvalidation_0-mlogloss:1.06874\n"
     ]
    },
    {
     "name": "stderr",
     "output_type": "stream",
     "text": [
      "\u001b[32m[I 2023-03-29 14:09:09,060]\u001b[0m Trial 70 pruned. Trial was pruned at iteration 0.\u001b[0m\n"
     ]
    },
    {
     "name": "stdout",
     "output_type": "stream",
     "text": [
      "[0]\tvalidation_0-mlogloss:1.05655\n",
      "[10]\tvalidation_0-mlogloss:0.78163\n",
      "[20]\tvalidation_0-mlogloss:0.67182\n",
      "[30]\tvalidation_0-mlogloss:0.61774\n",
      "[40]\tvalidation_0-mlogloss:0.59510\n",
      "[50]\tvalidation_0-mlogloss:0.58186\n",
      "[60]\tvalidation_0-mlogloss:0.57241\n",
      "[70]\tvalidation_0-mlogloss:0.56850\n",
      "[80]\tvalidation_0-mlogloss:0.56376\n",
      "[90]\tvalidation_0-mlogloss:0.55691\n",
      "[100]\tvalidation_0-mlogloss:0.55820\n",
      "[110]\tvalidation_0-mlogloss:0.55969\n",
      "[120]\tvalidation_0-mlogloss:0.55777\n",
      "[130]\tvalidation_0-mlogloss:0.55855\n",
      "[140]\tvalidation_0-mlogloss:0.56062\n",
      "[150]\tvalidation_0-mlogloss:0.56301\n",
      "[160]\tvalidation_0-mlogloss:0.56864\n",
      "[165]\tvalidation_0-mlogloss:0.56816\n"
     ]
    },
    {
     "name": "stderr",
     "output_type": "stream",
     "text": [
      "\u001b[32m[I 2023-03-29 14:09:19,907]\u001b[0m Trial 71 finished with value: 0.555150951476253 and parameters: {'max_depth': 7, 'subsample': 0.6, 'n_estimators': 3950, 'eta': 0.09057166914764751, 'reg_alpha': 1.0584796416719197e-07, 'reg_lambda': 0.0675913814055837, 'gamma': 0.22886093448542502, 'min_child_weight': 5, 'colsample_bytree': 0.2657051712500884}. Best is trial 49 with value: 0.5502489012619268.\u001b[0m\n"
     ]
    },
    {
     "name": "stdout",
     "output_type": "stream",
     "text": [
      "[0]\tvalidation_0-mlogloss:1.06456\n"
     ]
    },
    {
     "name": "stderr",
     "output_type": "stream",
     "text": [
      "\u001b[32m[I 2023-03-29 14:09:20,165]\u001b[0m Trial 72 pruned. Trial was pruned at iteration 0.\u001b[0m\n"
     ]
    },
    {
     "name": "stdout",
     "output_type": "stream",
     "text": [
      "[0]\tvalidation_0-mlogloss:1.05573\n",
      "[10]\tvalidation_0-mlogloss:0.77361\n",
      "[20]\tvalidation_0-mlogloss:0.67421\n",
      "[30]\tvalidation_0-mlogloss:0.62565\n",
      "[40]\tvalidation_0-mlogloss:0.60239\n",
      "[50]\tvalidation_0-mlogloss:0.58795\n",
      "[60]\tvalidation_0-mlogloss:0.58160\n",
      "[70]\tvalidation_0-mlogloss:0.57479\n"
     ]
    },
    {
     "name": "stderr",
     "output_type": "stream",
     "text": [
      "\u001b[32m[I 2023-03-29 14:09:23,182]\u001b[0m Trial 73 pruned. Trial was pruned at iteration 72.\u001b[0m\n"
     ]
    },
    {
     "name": "stdout",
     "output_type": "stream",
     "text": [
      "[0]\tvalidation_0-mlogloss:1.06977\n"
     ]
    },
    {
     "name": "stderr",
     "output_type": "stream",
     "text": [
      "\u001b[32m[I 2023-03-29 14:09:23,398]\u001b[0m Trial 74 pruned. Trial was pruned at iteration 0.\u001b[0m\n"
     ]
    },
    {
     "name": "stdout",
     "output_type": "stream",
     "text": [
      "[0]\tvalidation_0-mlogloss:1.05327\n"
     ]
    },
    {
     "name": "stderr",
     "output_type": "stream",
     "text": [
      "\u001b[32m[I 2023-03-29 14:09:24,241]\u001b[0m Trial 75 pruned. Trial was pruned at iteration 3.\u001b[0m\n",
      "\u001b[32m[I 2023-03-29 14:09:24,691]\u001b[0m Trial 76 pruned. Trial was pruned at iteration 0.\u001b[0m\n"
     ]
    },
    {
     "name": "stdout",
     "output_type": "stream",
     "text": [
      "[0]\tvalidation_0-mlogloss:1.06705\n"
     ]
    },
    {
     "name": "stderr",
     "output_type": "stream",
     "text": [
      "\u001b[32m[I 2023-03-29 14:09:25,172]\u001b[0m Trial 77 pruned. Trial was pruned at iteration 0.\u001b[0m\n"
     ]
    },
    {
     "name": "stdout",
     "output_type": "stream",
     "text": [
      "[0]\tvalidation_0-mlogloss:1.05863\n",
      "[10]\tvalidation_0-mlogloss:0.78476\n",
      "[20]\tvalidation_0-mlogloss:0.68131\n",
      "[30]\tvalidation_0-mlogloss:0.63365\n",
      "[40]\tvalidation_0-mlogloss:0.60410\n",
      "[50]\tvalidation_0-mlogloss:0.59093\n",
      "[60]\tvalidation_0-mlogloss:0.58100\n",
      "[70]\tvalidation_0-mlogloss:0.57208\n",
      "[80]\tvalidation_0-mlogloss:0.56552\n",
      "[90]\tvalidation_0-mlogloss:0.56054\n",
      "[100]\tvalidation_0-mlogloss:0.56195\n",
      "[110]\tvalidation_0-mlogloss:0.55946\n",
      "[120]\tvalidation_0-mlogloss:0.55775\n",
      "[130]\tvalidation_0-mlogloss:0.55920\n",
      "[140]\tvalidation_0-mlogloss:0.55957\n",
      "[150]\tvalidation_0-mlogloss:0.55867\n",
      "[160]\tvalidation_0-mlogloss:0.56159\n",
      "[169]\tvalidation_0-mlogloss:0.56357\n"
     ]
    },
    {
     "name": "stderr",
     "output_type": "stream",
     "text": [
      "\u001b[32m[I 2023-03-29 14:09:34,966]\u001b[0m Trial 78 finished with value: 0.5573158231537287 and parameters: {'max_depth': 7, 'subsample': 0.85, 'n_estimators': 2800, 'eta': 0.09231573146467008, 'reg_alpha': 1.2035670337792175e-07, 'reg_lambda': 0.005630317094926402, 'gamma': 0.2670417659833924, 'min_child_weight': 6, 'colsample_bytree': 0.25427676605435245}. Best is trial 49 with value: 0.5502489012619268.\u001b[0m\n"
     ]
    },
    {
     "name": "stdout",
     "output_type": "stream",
     "text": [
      "[0]\tvalidation_0-mlogloss:1.07155\n"
     ]
    },
    {
     "name": "stderr",
     "output_type": "stream",
     "text": [
      "\u001b[32m[I 2023-03-29 14:09:35,146]\u001b[0m Trial 79 pruned. Trial was pruned at iteration 0.\u001b[0m\n",
      "\u001b[32m[I 2023-03-29 14:09:35,354]\u001b[0m Trial 80 pruned. Trial was pruned at iteration 0.\u001b[0m\n"
     ]
    },
    {
     "name": "stdout",
     "output_type": "stream",
     "text": [
      "[0]\tvalidation_0-mlogloss:1.06617\n"
     ]
    },
    {
     "name": "stderr",
     "output_type": "stream",
     "text": [
      "\u001b[32m[I 2023-03-29 14:09:35,535]\u001b[0m Trial 81 pruned. Trial was pruned at iteration 0.\u001b[0m\n",
      "\u001b[32m[I 2023-03-29 14:09:35,724]\u001b[0m Trial 82 pruned. Trial was pruned at iteration 0.\u001b[0m\n",
      "\u001b[32m[I 2023-03-29 14:09:35,933]\u001b[0m Trial 83 pruned. Trial was pruned at iteration 0.\u001b[0m\n"
     ]
    },
    {
     "name": "stdout",
     "output_type": "stream",
     "text": [
      "[0]\tvalidation_0-mlogloss:1.05700\n",
      "[10]\tvalidation_0-mlogloss:0.78109\n",
      "[20]\tvalidation_0-mlogloss:0.67394\n",
      "[30]\tvalidation_0-mlogloss:0.62092\n",
      "[40]\tvalidation_0-mlogloss:0.59856\n",
      "[50]\tvalidation_0-mlogloss:0.58350\n",
      "[60]\tvalidation_0-mlogloss:0.57255\n",
      "[70]\tvalidation_0-mlogloss:0.56477\n",
      "[80]\tvalidation_0-mlogloss:0.56018\n",
      "[90]\tvalidation_0-mlogloss:0.55624\n",
      "[100]\tvalidation_0-mlogloss:0.55363\n",
      "[110]\tvalidation_0-mlogloss:0.55363\n",
      "[120]\tvalidation_0-mlogloss:0.55207\n",
      "[130]\tvalidation_0-mlogloss:0.55360\n",
      "[140]\tvalidation_0-mlogloss:0.55279\n",
      "[150]\tvalidation_0-mlogloss:0.55310\n",
      "[160]\tvalidation_0-mlogloss:0.55438\n",
      "[168]\tvalidation_0-mlogloss:0.55466\n"
     ]
    },
    {
     "name": "stderr",
     "output_type": "stream",
     "text": [
      "\u001b[32m[I 2023-03-29 14:09:44,051]\u001b[0m Trial 84 finished with value: 0.5515019200055448 and parameters: {'max_depth': 6, 'subsample': 0.8, 'n_estimators': 2950, 'eta': 0.09298310479679191, 'reg_alpha': 1.5582959601439845e-07, 'reg_lambda': 0.4957760791951248, 'gamma': 0.2830237961398822, 'min_child_weight': 9, 'colsample_bytree': 0.25957692835515744}. Best is trial 49 with value: 0.5502489012619268.\u001b[0m\n",
      "\u001b[32m[I 2023-03-29 14:09:44,229]\u001b[0m Trial 85 pruned. Trial was pruned at iteration 0.\u001b[0m\n",
      "\u001b[32m[I 2023-03-29 14:09:44,428]\u001b[0m Trial 86 pruned. Trial was pruned at iteration 0.\u001b[0m\n"
     ]
    },
    {
     "name": "stdout",
     "output_type": "stream",
     "text": [
      "[0]\tvalidation_0-mlogloss:1.04804\n",
      "[10]\tvalidation_0-mlogloss:0.76556\n",
      "[20]\tvalidation_0-mlogloss:0.65730\n",
      "[30]\tvalidation_0-mlogloss:0.61014\n",
      "[40]\tvalidation_0-mlogloss:0.58802\n",
      "[50]\tvalidation_0-mlogloss:0.57808\n",
      "[60]\tvalidation_0-mlogloss:0.56942\n",
      "[70]\tvalidation_0-mlogloss:0.56544\n",
      "[80]\tvalidation_0-mlogloss:0.56528\n",
      "[90]\tvalidation_0-mlogloss:0.56210\n",
      "[100]\tvalidation_0-mlogloss:0.56107\n",
      "[110]\tvalidation_0-mlogloss:0.56321\n"
     ]
    },
    {
     "name": "stderr",
     "output_type": "stream",
     "text": [
      "\u001b[32m[I 2023-03-29 14:09:50,931]\u001b[0m Trial 87 pruned. Trial was pruned at iteration 117.\u001b[0m\n",
      "\u001b[32m[I 2023-03-29 14:09:51,115]\u001b[0m Trial 88 pruned. Trial was pruned at iteration 0.\u001b[0m\n"
     ]
    },
    {
     "name": "stdout",
     "output_type": "stream",
     "text": [
      "[0]\tvalidation_0-mlogloss:1.06132\n"
     ]
    },
    {
     "name": "stderr",
     "output_type": "stream",
     "text": [
      "\u001b[32m[I 2023-03-29 14:09:51,295]\u001b[0m Trial 89 pruned. Trial was pruned at iteration 0.\u001b[0m\n",
      "\u001b[32m[I 2023-03-29 14:09:51,485]\u001b[0m Trial 90 pruned. Trial was pruned at iteration 0.\u001b[0m\n"
     ]
    },
    {
     "name": "stdout",
     "output_type": "stream",
     "text": [
      "[0]\tvalidation_0-mlogloss:1.06554\n"
     ]
    },
    {
     "name": "stderr",
     "output_type": "stream",
     "text": [
      "\u001b[32m[I 2023-03-29 14:09:51,678]\u001b[0m Trial 91 pruned. Trial was pruned at iteration 0.\u001b[0m\n",
      "\u001b[32m[I 2023-03-29 14:09:51,858]\u001b[0m Trial 92 pruned. Trial was pruned at iteration 0.\u001b[0m\n",
      "\u001b[32m[I 2023-03-29 14:09:52,230]\u001b[0m Trial 93 pruned. Trial was pruned at iteration 0.\u001b[0m\n"
     ]
    },
    {
     "name": "stdout",
     "output_type": "stream",
     "text": [
      "[0]\tvalidation_0-mlogloss:1.05551\n",
      "[10]\tvalidation_0-mlogloss:0.77188\n",
      "[20]\tvalidation_0-mlogloss:0.66587\n",
      "[30]\tvalidation_0-mlogloss:0.61701\n",
      "[40]\tvalidation_0-mlogloss:0.59456\n",
      "[50]\tvalidation_0-mlogloss:0.58143\n",
      "[60]\tvalidation_0-mlogloss:0.57158\n",
      "[70]\tvalidation_0-mlogloss:0.56723\n",
      "[80]\tvalidation_0-mlogloss:0.56326\n",
      "[90]\tvalidation_0-mlogloss:0.55837\n",
      "[100]\tvalidation_0-mlogloss:0.55833\n",
      "[110]\tvalidation_0-mlogloss:0.55824\n",
      "[120]\tvalidation_0-mlogloss:0.55741\n",
      "[130]\tvalidation_0-mlogloss:0.55699\n",
      "[140]\tvalidation_0-mlogloss:0.55720\n",
      "[150]\tvalidation_0-mlogloss:0.55966\n",
      "[160]\tvalidation_0-mlogloss:0.56111\n",
      "[170]\tvalidation_0-mlogloss:0.56144\n",
      "[176]\tvalidation_0-mlogloss:0.56221\n"
     ]
    },
    {
     "name": "stderr",
     "output_type": "stream",
     "text": [
      "\u001b[32m[I 2023-03-29 14:10:02,543]\u001b[0m Trial 94 finished with value: 0.5564786816695195 and parameters: {'max_depth': 6, 'subsample': 0.8, 'n_estimators': 2650, 'eta': 0.0984413406182523, 'reg_alpha': 2.160155211063961e-07, 'reg_lambda': 0.47871426320147453, 'gamma': 0.527388355207618, 'min_child_weight': 11, 'colsample_bytree': 0.2625309037363252}. Best is trial 49 with value: 0.5502489012619268.\u001b[0m\n"
     ]
    },
    {
     "name": "stdout",
     "output_type": "stream",
     "text": [
      "[0]\tvalidation_0-mlogloss:1.06598\n"
     ]
    },
    {
     "name": "stderr",
     "output_type": "stream",
     "text": [
      "\u001b[32m[I 2023-03-29 14:10:02,766]\u001b[0m Trial 95 pruned. Trial was pruned at iteration 0.\u001b[0m\n"
     ]
    },
    {
     "name": "stdout",
     "output_type": "stream",
     "text": [
      "[0]\tvalidation_0-mlogloss:1.05891\n"
     ]
    },
    {
     "name": "stderr",
     "output_type": "stream",
     "text": [
      "\u001b[32m[I 2023-03-29 14:10:02,945]\u001b[0m Trial 96 pruned. Trial was pruned at iteration 0.\u001b[0m\n",
      "\u001b[32m[I 2023-03-29 14:10:03,127]\u001b[0m Trial 97 pruned. Trial was pruned at iteration 0.\u001b[0m\n"
     ]
    },
    {
     "name": "stdout",
     "output_type": "stream",
     "text": [
      "[0]\tvalidation_0-mlogloss:1.05312\n",
      "[10]\tvalidation_0-mlogloss:0.76655\n",
      "[20]\tvalidation_0-mlogloss:0.66513\n",
      "[30]\tvalidation_0-mlogloss:0.61568\n",
      "[40]\tvalidation_0-mlogloss:0.59364\n",
      "[50]\tvalidation_0-mlogloss:0.58208\n",
      "[60]\tvalidation_0-mlogloss:0.57316\n",
      "[70]\tvalidation_0-mlogloss:0.56817\n",
      "[80]\tvalidation_0-mlogloss:0.56239\n",
      "[90]\tvalidation_0-mlogloss:0.55830\n",
      "[100]\tvalidation_0-mlogloss:0.55947\n",
      "[110]\tvalidation_0-mlogloss:0.56007\n",
      "[120]\tvalidation_0-mlogloss:0.55668\n",
      "[130]\tvalidation_0-mlogloss:0.55825\n",
      "[140]\tvalidation_0-mlogloss:0.55985\n",
      "[150]\tvalidation_0-mlogloss:0.56220\n",
      "[160]\tvalidation_0-mlogloss:0.56384\n",
      "[170]\tvalidation_0-mlogloss:0.56613\n",
      "[171]\tvalidation_0-mlogloss:0.56598\n"
     ]
    },
    {
     "name": "stderr",
     "output_type": "stream",
     "text": [
      "\u001b[32m[I 2023-03-29 14:10:11,934]\u001b[0m Trial 98 finished with value: 0.556330393610435 and parameters: {'max_depth': 7, 'subsample': 0.85, 'n_estimators': 3750, 'eta': 0.09994074015308665, 'reg_alpha': 1.481474233924668e-07, 'reg_lambda': 0.3523683310609304, 'gamma': 0.1285048751486935, 'min_child_weight': 6, 'colsample_bytree': 0.2801881217273825}. Best is trial 49 with value: 0.5502489012619268.\u001b[0m\n"
     ]
    },
    {
     "name": "stdout",
     "output_type": "stream",
     "text": [
      "[0]\tvalidation_0-mlogloss:1.06711\n"
     ]
    },
    {
     "name": "stderr",
     "output_type": "stream",
     "text": [
      "\u001b[32m[I 2023-03-29 14:10:12,128]\u001b[0m Trial 99 pruned. Trial was pruned at iteration 0.\u001b[0m\n"
     ]
    }
   ],
   "source": [
    "\"\"\"\n",
    "1. 100 trials\n",
    "Trial 72 finished with value: 0.552958542544134 and parameters: \n",
    "{'max_depth': 5, 'subsample': 0.8, 'n_estimators': 1950, 'eta': 0.02935051557466342, \n",
    "'reg_alpha': 2.7452323045088246e-08, 'reg_lambda': 3.771084614288098e-05, 'gamma': 0.000392937067496624,\n",
    "'min_child_weight': 12, 'colsample_bytree': 0.2739207213317758}. \n",
    "\n",
    "2.500 trials\n",
    "Trial 244 finished with value: 0.5555424854967693 and parameters: \n",
    "{'max_depth': 6, 'subsample': 0.95, 'n_estimators': 3350, 'eta': 0.008666006292274537, \n",
    "'reg_alpha': 1.2870589813811533e-06, 'reg_lambda': 0.13154643432513044, 'gamma': 0.026360214147244408\n",
    "'min_child_weight': 5, 'colsample_bytree': 0.22708548202884274}. \n",
    "\n",
    "3. 100 trials, changed parameter search space, added pruning callback\n",
    "Trial 22 finished with value: 0.5520506186121606 and parameters: \n",
    "{'max_depth': 6, 'subsample': 0.65, 'n_estimators': 2500, 'eta': 0.027735798765723383, \n",
    "'reg_alpha': 2.8442623168179127e-08, 'reg_lambda': 9.97186254008275e-05, 'gamma': 0.00042214727119007766, \n",
    "'min_child_weight': 11, 'colsample_bytree': 0.38249471476294605}.\n",
    "\n",
    "4. 500 trials\n",
    "Trial 217 finished with value: 0.5511272925050019 and parameters: \n",
    "{'max_depth': 7, 'subsample': 0.8, 'n_estimators': 3950, 'eta': 0.049656985841559836, \n",
    "'reg_alpha': 1.9886858590626805e-08, 'reg_lambda': 8.750237693599536e-05, 'gamma': 0.02578091778103115, \n",
    "'min_child_weight': 14, 'colsample_bytree': 0.3834674148298466}.\n",
    "\n",
    "5. Trial 49 finished with value: 0.5502489012619268 and parameters: \n",
    "{'max_depth': 7, 'subsample': 0.7, 'n_estimators': 3800, 'eta': 0.09967223617945833, \n",
    "'reg_alpha': 4.1181276209901314e-08, 'reg_lambda': 0.040098666589886055, 'gamma': 0.924533874823556, \n",
    "'min_child_weight': 5, 'colsample_bytree': 0.33274357291224116}\n",
    "Accuracy:0.78, F1 Score:[0.77 0.46  0.87]\n",
    "\"\"\"\n",
    "study = optuna.create_study(direction='minimize')\n",
    "study.optimize(objective_with_pruning, n_trials=100) #change number of trials later"
   ]
  },
  {
   "cell_type": "code",
   "execution_count": null,
   "id": "be935273",
   "metadata": {},
   "outputs": [],
   "source": []
  },
  {
   "cell_type": "code",
   "execution_count": 54,
   "id": "5a39ba01",
   "metadata": {},
   "outputs": [
    {
     "name": "stdout",
     "output_type": "stream",
     "text": [
      "Number of finished trials: 100\n",
      "Best trial:\n",
      "  Value: 0.5502489012619268\n",
      "  Params: \n",
      "    max_depth: 7\n",
      "    subsample: 0.7\n",
      "    n_estimators: 3800\n",
      "    eta: 0.09967223617945833\n",
      "    reg_alpha: 4.1181276209901314e-08\n",
      "    reg_lambda: 0.040098666589886055\n",
      "    gamma: 0.924533874823556\n",
      "    min_child_weight: 5\n",
      "    colsample_bytree: 0.33274357291224116\n"
     ]
    }
   ],
   "source": [
    "print('Number of finished trials: {}'.format(len(study.trials)))\n",
    "print('Best trial:')\n",
    "trial = study.best_trial\n",
    "\n",
    "print('  Value: {}'.format(trial.value))\n",
    "print('  Params: ')\n",
    "\n",
    "for key, value in trial.params.items():\n",
    "    print('    {}: {}'.format(key, value))"
   ]
  },
  {
   "cell_type": "code",
   "execution_count": 55,
   "id": "94660c4a",
   "metadata": {},
   "outputs": [
    {
     "name": "stdout",
     "output_type": "stream",
     "text": [
      "[0]\tvalidation_0-mlogloss:1.04368\n",
      "[10]\tvalidation_0-mlogloss:0.75171\n",
      "[20]\tvalidation_0-mlogloss:0.64817\n",
      "[30]\tvalidation_0-mlogloss:0.60464\n",
      "[40]\tvalidation_0-mlogloss:0.57999\n",
      "[50]\tvalidation_0-mlogloss:0.56778\n",
      "[60]\tvalidation_0-mlogloss:0.56099\n",
      "[70]\tvalidation_0-mlogloss:0.55547\n",
      "[80]\tvalidation_0-mlogloss:0.55328\n",
      "[90]\tvalidation_0-mlogloss:0.55295\n",
      "[100]\tvalidation_0-mlogloss:0.55190\n",
      "[110]\tvalidation_0-mlogloss:0.55044\n",
      "[120]\tvalidation_0-mlogloss:0.55127\n",
      "[130]\tvalidation_0-mlogloss:0.55265\n",
      "[140]\tvalidation_0-mlogloss:0.55329\n",
      "[150]\tvalidation_0-mlogloss:0.55596\n",
      "[154]\tvalidation_0-mlogloss:0.55651\n",
      "              precision    recall  f1-score   support\n",
      "\n",
      "           0       0.80      0.75      0.77       138\n",
      "           1       0.59      0.38      0.46        80\n",
      "           2       0.81      0.95      0.87       225\n",
      "\n",
      "    accuracy                           0.78       443\n",
      "   macro avg       0.73      0.69      0.70       443\n",
      "weighted avg       0.77      0.78      0.77       443\n",
      "\n"
     ]
    }
   ],
   "source": [
    "# Train new model on best params from optuna and evaluate performance\n",
    "best_params = study.best_params\n",
    "model = xgb.XGBClassifier(early_stopping_rounds = 50, booster = 'gbtree',tree_method= 'approx',enable_categorical=True)\n",
    "model.set_params(**best_params)\n",
    "model.fit(X_train,y_train, eval_set = [(X_val,y_val)], verbose = 10) \n",
    "y_pred = model.predict(X_test)\n",
    "print(classification_report(y_test, y_pred))"
   ]
  },
  {
   "cell_type": "code",
   "execution_count": 56,
   "id": "11771466",
   "metadata": {},
   "outputs": [
    {
     "data": {
      "application/vnd.plotly.v1+json": {
       "config": {
        "plotlyServerURL": "https://plot.ly"
       },
       "data": [
        {
         "cliponaxis": false,
         "hovertemplate": [
          "reg_alpha (FloatDistribution): 0.003467035395056761<extra></extra>",
          "max_depth (IntDistribution): 0.033350248706583985<extra></extra>",
          "gamma (FloatDistribution): 0.06857318857465748<extra></extra>",
          "eta (FloatDistribution): 0.07214102230716292<extra></extra>",
          "min_child_weight (IntDistribution): 0.07439008666322147<extra></extra>",
          "n_estimators (IntDistribution): 0.08636723250535838<extra></extra>",
          "subsample (FloatDistribution): 0.14325295577546035<extra></extra>",
          "reg_lambda (FloatDistribution): 0.17239396147600852<extra></extra>",
          "colsample_bytree (FloatDistribution): 0.3460642685964903<extra></extra>"
         ],
         "marker": {
          "color": "rgb(66,146,198)"
         },
         "orientation": "h",
         "text": [
          "<0.01",
          "0.03",
          "0.07",
          "0.07",
          "0.07",
          "0.09",
          "0.14",
          "0.17",
          "0.35"
         ],
         "textposition": "outside",
         "type": "bar",
         "x": [
          0.003467035395056761,
          0.033350248706583985,
          0.06857318857465748,
          0.07214102230716292,
          0.07439008666322147,
          0.08636723250535838,
          0.14325295577546035,
          0.17239396147600852,
          0.3460642685964903
         ],
         "y": [
          "reg_alpha",
          "max_depth",
          "gamma",
          "eta",
          "min_child_weight",
          "n_estimators",
          "subsample",
          "reg_lambda",
          "colsample_bytree"
         ]
        }
       ],
       "layout": {
        "showlegend": false,
        "template": {
         "data": {
          "bar": [
           {
            "error_x": {
             "color": "#2a3f5f"
            },
            "error_y": {
             "color": "#2a3f5f"
            },
            "marker": {
             "line": {
              "color": "#E5ECF6",
              "width": 0.5
             },
             "pattern": {
              "fillmode": "overlay",
              "size": 10,
              "solidity": 0.2
             }
            },
            "type": "bar"
           }
          ],
          "barpolar": [
           {
            "marker": {
             "line": {
              "color": "#E5ECF6",
              "width": 0.5
             },
             "pattern": {
              "fillmode": "overlay",
              "size": 10,
              "solidity": 0.2
             }
            },
            "type": "barpolar"
           }
          ],
          "carpet": [
           {
            "aaxis": {
             "endlinecolor": "#2a3f5f",
             "gridcolor": "white",
             "linecolor": "white",
             "minorgridcolor": "white",
             "startlinecolor": "#2a3f5f"
            },
            "baxis": {
             "endlinecolor": "#2a3f5f",
             "gridcolor": "white",
             "linecolor": "white",
             "minorgridcolor": "white",
             "startlinecolor": "#2a3f5f"
            },
            "type": "carpet"
           }
          ],
          "choropleth": [
           {
            "colorbar": {
             "outlinewidth": 0,
             "ticks": ""
            },
            "type": "choropleth"
           }
          ],
          "contour": [
           {
            "colorbar": {
             "outlinewidth": 0,
             "ticks": ""
            },
            "colorscale": [
             [
              0,
              "#0d0887"
             ],
             [
              0.1111111111111111,
              "#46039f"
             ],
             [
              0.2222222222222222,
              "#7201a8"
             ],
             [
              0.3333333333333333,
              "#9c179e"
             ],
             [
              0.4444444444444444,
              "#bd3786"
             ],
             [
              0.5555555555555556,
              "#d8576b"
             ],
             [
              0.6666666666666666,
              "#ed7953"
             ],
             [
              0.7777777777777778,
              "#fb9f3a"
             ],
             [
              0.8888888888888888,
              "#fdca26"
             ],
             [
              1,
              "#f0f921"
             ]
            ],
            "type": "contour"
           }
          ],
          "contourcarpet": [
           {
            "colorbar": {
             "outlinewidth": 0,
             "ticks": ""
            },
            "type": "contourcarpet"
           }
          ],
          "heatmap": [
           {
            "colorbar": {
             "outlinewidth": 0,
             "ticks": ""
            },
            "colorscale": [
             [
              0,
              "#0d0887"
             ],
             [
              0.1111111111111111,
              "#46039f"
             ],
             [
              0.2222222222222222,
              "#7201a8"
             ],
             [
              0.3333333333333333,
              "#9c179e"
             ],
             [
              0.4444444444444444,
              "#bd3786"
             ],
             [
              0.5555555555555556,
              "#d8576b"
             ],
             [
              0.6666666666666666,
              "#ed7953"
             ],
             [
              0.7777777777777778,
              "#fb9f3a"
             ],
             [
              0.8888888888888888,
              "#fdca26"
             ],
             [
              1,
              "#f0f921"
             ]
            ],
            "type": "heatmap"
           }
          ],
          "heatmapgl": [
           {
            "colorbar": {
             "outlinewidth": 0,
             "ticks": ""
            },
            "colorscale": [
             [
              0,
              "#0d0887"
             ],
             [
              0.1111111111111111,
              "#46039f"
             ],
             [
              0.2222222222222222,
              "#7201a8"
             ],
             [
              0.3333333333333333,
              "#9c179e"
             ],
             [
              0.4444444444444444,
              "#bd3786"
             ],
             [
              0.5555555555555556,
              "#d8576b"
             ],
             [
              0.6666666666666666,
              "#ed7953"
             ],
             [
              0.7777777777777778,
              "#fb9f3a"
             ],
             [
              0.8888888888888888,
              "#fdca26"
             ],
             [
              1,
              "#f0f921"
             ]
            ],
            "type": "heatmapgl"
           }
          ],
          "histogram": [
           {
            "marker": {
             "pattern": {
              "fillmode": "overlay",
              "size": 10,
              "solidity": 0.2
             }
            },
            "type": "histogram"
           }
          ],
          "histogram2d": [
           {
            "colorbar": {
             "outlinewidth": 0,
             "ticks": ""
            },
            "colorscale": [
             [
              0,
              "#0d0887"
             ],
             [
              0.1111111111111111,
              "#46039f"
             ],
             [
              0.2222222222222222,
              "#7201a8"
             ],
             [
              0.3333333333333333,
              "#9c179e"
             ],
             [
              0.4444444444444444,
              "#bd3786"
             ],
             [
              0.5555555555555556,
              "#d8576b"
             ],
             [
              0.6666666666666666,
              "#ed7953"
             ],
             [
              0.7777777777777778,
              "#fb9f3a"
             ],
             [
              0.8888888888888888,
              "#fdca26"
             ],
             [
              1,
              "#f0f921"
             ]
            ],
            "type": "histogram2d"
           }
          ],
          "histogram2dcontour": [
           {
            "colorbar": {
             "outlinewidth": 0,
             "ticks": ""
            },
            "colorscale": [
             [
              0,
              "#0d0887"
             ],
             [
              0.1111111111111111,
              "#46039f"
             ],
             [
              0.2222222222222222,
              "#7201a8"
             ],
             [
              0.3333333333333333,
              "#9c179e"
             ],
             [
              0.4444444444444444,
              "#bd3786"
             ],
             [
              0.5555555555555556,
              "#d8576b"
             ],
             [
              0.6666666666666666,
              "#ed7953"
             ],
             [
              0.7777777777777778,
              "#fb9f3a"
             ],
             [
              0.8888888888888888,
              "#fdca26"
             ],
             [
              1,
              "#f0f921"
             ]
            ],
            "type": "histogram2dcontour"
           }
          ],
          "mesh3d": [
           {
            "colorbar": {
             "outlinewidth": 0,
             "ticks": ""
            },
            "type": "mesh3d"
           }
          ],
          "parcoords": [
           {
            "line": {
             "colorbar": {
              "outlinewidth": 0,
              "ticks": ""
             }
            },
            "type": "parcoords"
           }
          ],
          "pie": [
           {
            "automargin": true,
            "type": "pie"
           }
          ],
          "scatter": [
           {
            "fillpattern": {
             "fillmode": "overlay",
             "size": 10,
             "solidity": 0.2
            },
            "type": "scatter"
           }
          ],
          "scatter3d": [
           {
            "line": {
             "colorbar": {
              "outlinewidth": 0,
              "ticks": ""
             }
            },
            "marker": {
             "colorbar": {
              "outlinewidth": 0,
              "ticks": ""
             }
            },
            "type": "scatter3d"
           }
          ],
          "scattercarpet": [
           {
            "marker": {
             "colorbar": {
              "outlinewidth": 0,
              "ticks": ""
             }
            },
            "type": "scattercarpet"
           }
          ],
          "scattergeo": [
           {
            "marker": {
             "colorbar": {
              "outlinewidth": 0,
              "ticks": ""
             }
            },
            "type": "scattergeo"
           }
          ],
          "scattergl": [
           {
            "marker": {
             "colorbar": {
              "outlinewidth": 0,
              "ticks": ""
             }
            },
            "type": "scattergl"
           }
          ],
          "scattermapbox": [
           {
            "marker": {
             "colorbar": {
              "outlinewidth": 0,
              "ticks": ""
             }
            },
            "type": "scattermapbox"
           }
          ],
          "scatterpolar": [
           {
            "marker": {
             "colorbar": {
              "outlinewidth": 0,
              "ticks": ""
             }
            },
            "type": "scatterpolar"
           }
          ],
          "scatterpolargl": [
           {
            "marker": {
             "colorbar": {
              "outlinewidth": 0,
              "ticks": ""
             }
            },
            "type": "scatterpolargl"
           }
          ],
          "scatterternary": [
           {
            "marker": {
             "colorbar": {
              "outlinewidth": 0,
              "ticks": ""
             }
            },
            "type": "scatterternary"
           }
          ],
          "surface": [
           {
            "colorbar": {
             "outlinewidth": 0,
             "ticks": ""
            },
            "colorscale": [
             [
              0,
              "#0d0887"
             ],
             [
              0.1111111111111111,
              "#46039f"
             ],
             [
              0.2222222222222222,
              "#7201a8"
             ],
             [
              0.3333333333333333,
              "#9c179e"
             ],
             [
              0.4444444444444444,
              "#bd3786"
             ],
             [
              0.5555555555555556,
              "#d8576b"
             ],
             [
              0.6666666666666666,
              "#ed7953"
             ],
             [
              0.7777777777777778,
              "#fb9f3a"
             ],
             [
              0.8888888888888888,
              "#fdca26"
             ],
             [
              1,
              "#f0f921"
             ]
            ],
            "type": "surface"
           }
          ],
          "table": [
           {
            "cells": {
             "fill": {
              "color": "#EBF0F8"
             },
             "line": {
              "color": "white"
             }
            },
            "header": {
             "fill": {
              "color": "#C8D4E3"
             },
             "line": {
              "color": "white"
             }
            },
            "type": "table"
           }
          ]
         },
         "layout": {
          "annotationdefaults": {
           "arrowcolor": "#2a3f5f",
           "arrowhead": 0,
           "arrowwidth": 1
          },
          "autotypenumbers": "strict",
          "coloraxis": {
           "colorbar": {
            "outlinewidth": 0,
            "ticks": ""
           }
          },
          "colorscale": {
           "diverging": [
            [
             0,
             "#8e0152"
            ],
            [
             0.1,
             "#c51b7d"
            ],
            [
             0.2,
             "#de77ae"
            ],
            [
             0.3,
             "#f1b6da"
            ],
            [
             0.4,
             "#fde0ef"
            ],
            [
             0.5,
             "#f7f7f7"
            ],
            [
             0.6,
             "#e6f5d0"
            ],
            [
             0.7,
             "#b8e186"
            ],
            [
             0.8,
             "#7fbc41"
            ],
            [
             0.9,
             "#4d9221"
            ],
            [
             1,
             "#276419"
            ]
           ],
           "sequential": [
            [
             0,
             "#0d0887"
            ],
            [
             0.1111111111111111,
             "#46039f"
            ],
            [
             0.2222222222222222,
             "#7201a8"
            ],
            [
             0.3333333333333333,
             "#9c179e"
            ],
            [
             0.4444444444444444,
             "#bd3786"
            ],
            [
             0.5555555555555556,
             "#d8576b"
            ],
            [
             0.6666666666666666,
             "#ed7953"
            ],
            [
             0.7777777777777778,
             "#fb9f3a"
            ],
            [
             0.8888888888888888,
             "#fdca26"
            ],
            [
             1,
             "#f0f921"
            ]
           ],
           "sequentialminus": [
            [
             0,
             "#0d0887"
            ],
            [
             0.1111111111111111,
             "#46039f"
            ],
            [
             0.2222222222222222,
             "#7201a8"
            ],
            [
             0.3333333333333333,
             "#9c179e"
            ],
            [
             0.4444444444444444,
             "#bd3786"
            ],
            [
             0.5555555555555556,
             "#d8576b"
            ],
            [
             0.6666666666666666,
             "#ed7953"
            ],
            [
             0.7777777777777778,
             "#fb9f3a"
            ],
            [
             0.8888888888888888,
             "#fdca26"
            ],
            [
             1,
             "#f0f921"
            ]
           ]
          },
          "colorway": [
           "#636efa",
           "#EF553B",
           "#00cc96",
           "#ab63fa",
           "#FFA15A",
           "#19d3f3",
           "#FF6692",
           "#B6E880",
           "#FF97FF",
           "#FECB52"
          ],
          "font": {
           "color": "#2a3f5f"
          },
          "geo": {
           "bgcolor": "white",
           "lakecolor": "white",
           "landcolor": "#E5ECF6",
           "showlakes": true,
           "showland": true,
           "subunitcolor": "white"
          },
          "hoverlabel": {
           "align": "left"
          },
          "hovermode": "closest",
          "mapbox": {
           "style": "light"
          },
          "paper_bgcolor": "white",
          "plot_bgcolor": "#E5ECF6",
          "polar": {
           "angularaxis": {
            "gridcolor": "white",
            "linecolor": "white",
            "ticks": ""
           },
           "bgcolor": "#E5ECF6",
           "radialaxis": {
            "gridcolor": "white",
            "linecolor": "white",
            "ticks": ""
           }
          },
          "scene": {
           "xaxis": {
            "backgroundcolor": "#E5ECF6",
            "gridcolor": "white",
            "gridwidth": 2,
            "linecolor": "white",
            "showbackground": true,
            "ticks": "",
            "zerolinecolor": "white"
           },
           "yaxis": {
            "backgroundcolor": "#E5ECF6",
            "gridcolor": "white",
            "gridwidth": 2,
            "linecolor": "white",
            "showbackground": true,
            "ticks": "",
            "zerolinecolor": "white"
           },
           "zaxis": {
            "backgroundcolor": "#E5ECF6",
            "gridcolor": "white",
            "gridwidth": 2,
            "linecolor": "white",
            "showbackground": true,
            "ticks": "",
            "zerolinecolor": "white"
           }
          },
          "shapedefaults": {
           "line": {
            "color": "#2a3f5f"
           }
          },
          "ternary": {
           "aaxis": {
            "gridcolor": "white",
            "linecolor": "white",
            "ticks": ""
           },
           "baxis": {
            "gridcolor": "white",
            "linecolor": "white",
            "ticks": ""
           },
           "bgcolor": "#E5ECF6",
           "caxis": {
            "gridcolor": "white",
            "linecolor": "white",
            "ticks": ""
           }
          },
          "title": {
           "x": 0.05
          },
          "xaxis": {
           "automargin": true,
           "gridcolor": "white",
           "linecolor": "white",
           "ticks": "",
           "title": {
            "standoff": 15
           },
           "zerolinecolor": "white",
           "zerolinewidth": 2
          },
          "yaxis": {
           "automargin": true,
           "gridcolor": "white",
           "linecolor": "white",
           "ticks": "",
           "title": {
            "standoff": 15
           },
           "zerolinecolor": "white",
           "zerolinewidth": 2
          }
         }
        },
        "title": {
         "text": "Hyperparameter Importances"
        },
        "xaxis": {
         "title": {
          "text": "Importance for Objective Value"
         }
        },
        "yaxis": {
         "title": {
          "text": "Hyperparameter"
         }
        }
       }
      },
      "text/html": [
       "<div>                            <div id=\"d80c1070-bbec-46b9-84c3-fac31e1cf1c4\" class=\"plotly-graph-div\" style=\"height:525px; width:100%;\"></div>            <script type=\"text/javascript\">                require([\"plotly\"], function(Plotly) {                    window.PLOTLYENV=window.PLOTLYENV || {};                                    if (document.getElementById(\"d80c1070-bbec-46b9-84c3-fac31e1cf1c4\")) {                    Plotly.newPlot(                        \"d80c1070-bbec-46b9-84c3-fac31e1cf1c4\",                        [{\"cliponaxis\":false,\"hovertemplate\":[\"reg_alpha (FloatDistribution): 0.003467035395056761<extra></extra>\",\"max_depth (IntDistribution): 0.033350248706583985<extra></extra>\",\"gamma (FloatDistribution): 0.06857318857465748<extra></extra>\",\"eta (FloatDistribution): 0.07214102230716292<extra></extra>\",\"min_child_weight (IntDistribution): 0.07439008666322147<extra></extra>\",\"n_estimators (IntDistribution): 0.08636723250535838<extra></extra>\",\"subsample (FloatDistribution): 0.14325295577546035<extra></extra>\",\"reg_lambda (FloatDistribution): 0.17239396147600852<extra></extra>\",\"colsample_bytree (FloatDistribution): 0.3460642685964903<extra></extra>\"],\"marker\":{\"color\":\"rgb(66,146,198)\"},\"orientation\":\"h\",\"text\":[\"<0.01\",\"0.03\",\"0.07\",\"0.07\",\"0.07\",\"0.09\",\"0.14\",\"0.17\",\"0.35\"],\"textposition\":\"outside\",\"x\":[0.003467035395056761,0.033350248706583985,0.06857318857465748,0.07214102230716292,0.07439008666322147,0.08636723250535838,0.14325295577546035,0.17239396147600852,0.3460642685964903],\"y\":[\"reg_alpha\",\"max_depth\",\"gamma\",\"eta\",\"min_child_weight\",\"n_estimators\",\"subsample\",\"reg_lambda\",\"colsample_bytree\"],\"type\":\"bar\"}],                        {\"showlegend\":false,\"title\":{\"text\":\"Hyperparameter Importances\"},\"xaxis\":{\"title\":{\"text\":\"Importance for Objective Value\"}},\"yaxis\":{\"title\":{\"text\":\"Hyperparameter\"}},\"template\":{\"data\":{\"histogram2dcontour\":[{\"type\":\"histogram2dcontour\",\"colorbar\":{\"outlinewidth\":0,\"ticks\":\"\"},\"colorscale\":[[0.0,\"#0d0887\"],[0.1111111111111111,\"#46039f\"],[0.2222222222222222,\"#7201a8\"],[0.3333333333333333,\"#9c179e\"],[0.4444444444444444,\"#bd3786\"],[0.5555555555555556,\"#d8576b\"],[0.6666666666666666,\"#ed7953\"],[0.7777777777777778,\"#fb9f3a\"],[0.8888888888888888,\"#fdca26\"],[1.0,\"#f0f921\"]]}],\"choropleth\":[{\"type\":\"choropleth\",\"colorbar\":{\"outlinewidth\":0,\"ticks\":\"\"}}],\"histogram2d\":[{\"type\":\"histogram2d\",\"colorbar\":{\"outlinewidth\":0,\"ticks\":\"\"},\"colorscale\":[[0.0,\"#0d0887\"],[0.1111111111111111,\"#46039f\"],[0.2222222222222222,\"#7201a8\"],[0.3333333333333333,\"#9c179e\"],[0.4444444444444444,\"#bd3786\"],[0.5555555555555556,\"#d8576b\"],[0.6666666666666666,\"#ed7953\"],[0.7777777777777778,\"#fb9f3a\"],[0.8888888888888888,\"#fdca26\"],[1.0,\"#f0f921\"]]}],\"heatmap\":[{\"type\":\"heatmap\",\"colorbar\":{\"outlinewidth\":0,\"ticks\":\"\"},\"colorscale\":[[0.0,\"#0d0887\"],[0.1111111111111111,\"#46039f\"],[0.2222222222222222,\"#7201a8\"],[0.3333333333333333,\"#9c179e\"],[0.4444444444444444,\"#bd3786\"],[0.5555555555555556,\"#d8576b\"],[0.6666666666666666,\"#ed7953\"],[0.7777777777777778,\"#fb9f3a\"],[0.8888888888888888,\"#fdca26\"],[1.0,\"#f0f921\"]]}],\"heatmapgl\":[{\"type\":\"heatmapgl\",\"colorbar\":{\"outlinewidth\":0,\"ticks\":\"\"},\"colorscale\":[[0.0,\"#0d0887\"],[0.1111111111111111,\"#46039f\"],[0.2222222222222222,\"#7201a8\"],[0.3333333333333333,\"#9c179e\"],[0.4444444444444444,\"#bd3786\"],[0.5555555555555556,\"#d8576b\"],[0.6666666666666666,\"#ed7953\"],[0.7777777777777778,\"#fb9f3a\"],[0.8888888888888888,\"#fdca26\"],[1.0,\"#f0f921\"]]}],\"contourcarpet\":[{\"type\":\"contourcarpet\",\"colorbar\":{\"outlinewidth\":0,\"ticks\":\"\"}}],\"contour\":[{\"type\":\"contour\",\"colorbar\":{\"outlinewidth\":0,\"ticks\":\"\"},\"colorscale\":[[0.0,\"#0d0887\"],[0.1111111111111111,\"#46039f\"],[0.2222222222222222,\"#7201a8\"],[0.3333333333333333,\"#9c179e\"],[0.4444444444444444,\"#bd3786\"],[0.5555555555555556,\"#d8576b\"],[0.6666666666666666,\"#ed7953\"],[0.7777777777777778,\"#fb9f3a\"],[0.8888888888888888,\"#fdca26\"],[1.0,\"#f0f921\"]]}],\"surface\":[{\"type\":\"surface\",\"colorbar\":{\"outlinewidth\":0,\"ticks\":\"\"},\"colorscale\":[[0.0,\"#0d0887\"],[0.1111111111111111,\"#46039f\"],[0.2222222222222222,\"#7201a8\"],[0.3333333333333333,\"#9c179e\"],[0.4444444444444444,\"#bd3786\"],[0.5555555555555556,\"#d8576b\"],[0.6666666666666666,\"#ed7953\"],[0.7777777777777778,\"#fb9f3a\"],[0.8888888888888888,\"#fdca26\"],[1.0,\"#f0f921\"]]}],\"mesh3d\":[{\"type\":\"mesh3d\",\"colorbar\":{\"outlinewidth\":0,\"ticks\":\"\"}}],\"scatter\":[{\"fillpattern\":{\"fillmode\":\"overlay\",\"size\":10,\"solidity\":0.2},\"type\":\"scatter\"}],\"parcoords\":[{\"type\":\"parcoords\",\"line\":{\"colorbar\":{\"outlinewidth\":0,\"ticks\":\"\"}}}],\"scatterpolargl\":[{\"type\":\"scatterpolargl\",\"marker\":{\"colorbar\":{\"outlinewidth\":0,\"ticks\":\"\"}}}],\"bar\":[{\"error_x\":{\"color\":\"#2a3f5f\"},\"error_y\":{\"color\":\"#2a3f5f\"},\"marker\":{\"line\":{\"color\":\"#E5ECF6\",\"width\":0.5},\"pattern\":{\"fillmode\":\"overlay\",\"size\":10,\"solidity\":0.2}},\"type\":\"bar\"}],\"scattergeo\":[{\"type\":\"scattergeo\",\"marker\":{\"colorbar\":{\"outlinewidth\":0,\"ticks\":\"\"}}}],\"scatterpolar\":[{\"type\":\"scatterpolar\",\"marker\":{\"colorbar\":{\"outlinewidth\":0,\"ticks\":\"\"}}}],\"histogram\":[{\"marker\":{\"pattern\":{\"fillmode\":\"overlay\",\"size\":10,\"solidity\":0.2}},\"type\":\"histogram\"}],\"scattergl\":[{\"type\":\"scattergl\",\"marker\":{\"colorbar\":{\"outlinewidth\":0,\"ticks\":\"\"}}}],\"scatter3d\":[{\"type\":\"scatter3d\",\"line\":{\"colorbar\":{\"outlinewidth\":0,\"ticks\":\"\"}},\"marker\":{\"colorbar\":{\"outlinewidth\":0,\"ticks\":\"\"}}}],\"scattermapbox\":[{\"type\":\"scattermapbox\",\"marker\":{\"colorbar\":{\"outlinewidth\":0,\"ticks\":\"\"}}}],\"scatterternary\":[{\"type\":\"scatterternary\",\"marker\":{\"colorbar\":{\"outlinewidth\":0,\"ticks\":\"\"}}}],\"scattercarpet\":[{\"type\":\"scattercarpet\",\"marker\":{\"colorbar\":{\"outlinewidth\":0,\"ticks\":\"\"}}}],\"carpet\":[{\"aaxis\":{\"endlinecolor\":\"#2a3f5f\",\"gridcolor\":\"white\",\"linecolor\":\"white\",\"minorgridcolor\":\"white\",\"startlinecolor\":\"#2a3f5f\"},\"baxis\":{\"endlinecolor\":\"#2a3f5f\",\"gridcolor\":\"white\",\"linecolor\":\"white\",\"minorgridcolor\":\"white\",\"startlinecolor\":\"#2a3f5f\"},\"type\":\"carpet\"}],\"table\":[{\"cells\":{\"fill\":{\"color\":\"#EBF0F8\"},\"line\":{\"color\":\"white\"}},\"header\":{\"fill\":{\"color\":\"#C8D4E3\"},\"line\":{\"color\":\"white\"}},\"type\":\"table\"}],\"barpolar\":[{\"marker\":{\"line\":{\"color\":\"#E5ECF6\",\"width\":0.5},\"pattern\":{\"fillmode\":\"overlay\",\"size\":10,\"solidity\":0.2}},\"type\":\"barpolar\"}],\"pie\":[{\"automargin\":true,\"type\":\"pie\"}]},\"layout\":{\"autotypenumbers\":\"strict\",\"colorway\":[\"#636efa\",\"#EF553B\",\"#00cc96\",\"#ab63fa\",\"#FFA15A\",\"#19d3f3\",\"#FF6692\",\"#B6E880\",\"#FF97FF\",\"#FECB52\"],\"font\":{\"color\":\"#2a3f5f\"},\"hovermode\":\"closest\",\"hoverlabel\":{\"align\":\"left\"},\"paper_bgcolor\":\"white\",\"plot_bgcolor\":\"#E5ECF6\",\"polar\":{\"bgcolor\":\"#E5ECF6\",\"angularaxis\":{\"gridcolor\":\"white\",\"linecolor\":\"white\",\"ticks\":\"\"},\"radialaxis\":{\"gridcolor\":\"white\",\"linecolor\":\"white\",\"ticks\":\"\"}},\"ternary\":{\"bgcolor\":\"#E5ECF6\",\"aaxis\":{\"gridcolor\":\"white\",\"linecolor\":\"white\",\"ticks\":\"\"},\"baxis\":{\"gridcolor\":\"white\",\"linecolor\":\"white\",\"ticks\":\"\"},\"caxis\":{\"gridcolor\":\"white\",\"linecolor\":\"white\",\"ticks\":\"\"}},\"coloraxis\":{\"colorbar\":{\"outlinewidth\":0,\"ticks\":\"\"}},\"colorscale\":{\"sequential\":[[0.0,\"#0d0887\"],[0.1111111111111111,\"#46039f\"],[0.2222222222222222,\"#7201a8\"],[0.3333333333333333,\"#9c179e\"],[0.4444444444444444,\"#bd3786\"],[0.5555555555555556,\"#d8576b\"],[0.6666666666666666,\"#ed7953\"],[0.7777777777777778,\"#fb9f3a\"],[0.8888888888888888,\"#fdca26\"],[1.0,\"#f0f921\"]],\"sequentialminus\":[[0.0,\"#0d0887\"],[0.1111111111111111,\"#46039f\"],[0.2222222222222222,\"#7201a8\"],[0.3333333333333333,\"#9c179e\"],[0.4444444444444444,\"#bd3786\"],[0.5555555555555556,\"#d8576b\"],[0.6666666666666666,\"#ed7953\"],[0.7777777777777778,\"#fb9f3a\"],[0.8888888888888888,\"#fdca26\"],[1.0,\"#f0f921\"]],\"diverging\":[[0,\"#8e0152\"],[0.1,\"#c51b7d\"],[0.2,\"#de77ae\"],[0.3,\"#f1b6da\"],[0.4,\"#fde0ef\"],[0.5,\"#f7f7f7\"],[0.6,\"#e6f5d0\"],[0.7,\"#b8e186\"],[0.8,\"#7fbc41\"],[0.9,\"#4d9221\"],[1,\"#276419\"]]},\"xaxis\":{\"gridcolor\":\"white\",\"linecolor\":\"white\",\"ticks\":\"\",\"title\":{\"standoff\":15},\"zerolinecolor\":\"white\",\"automargin\":true,\"zerolinewidth\":2},\"yaxis\":{\"gridcolor\":\"white\",\"linecolor\":\"white\",\"ticks\":\"\",\"title\":{\"standoff\":15},\"zerolinecolor\":\"white\",\"automargin\":true,\"zerolinewidth\":2},\"scene\":{\"xaxis\":{\"backgroundcolor\":\"#E5ECF6\",\"gridcolor\":\"white\",\"linecolor\":\"white\",\"showbackground\":true,\"ticks\":\"\",\"zerolinecolor\":\"white\",\"gridwidth\":2},\"yaxis\":{\"backgroundcolor\":\"#E5ECF6\",\"gridcolor\":\"white\",\"linecolor\":\"white\",\"showbackground\":true,\"ticks\":\"\",\"zerolinecolor\":\"white\",\"gridwidth\":2},\"zaxis\":{\"backgroundcolor\":\"#E5ECF6\",\"gridcolor\":\"white\",\"linecolor\":\"white\",\"showbackground\":true,\"ticks\":\"\",\"zerolinecolor\":\"white\",\"gridwidth\":2}},\"shapedefaults\":{\"line\":{\"color\":\"#2a3f5f\"}},\"annotationdefaults\":{\"arrowcolor\":\"#2a3f5f\",\"arrowhead\":0,\"arrowwidth\":1},\"geo\":{\"bgcolor\":\"white\",\"landcolor\":\"#E5ECF6\",\"subunitcolor\":\"white\",\"showland\":true,\"showlakes\":true,\"lakecolor\":\"white\"},\"title\":{\"x\":0.05},\"mapbox\":{\"style\":\"light\"}}}},                        {\"responsive\": true}                    ).then(function(){\n",
       "                            \n",
       "var gd = document.getElementById('d80c1070-bbec-46b9-84c3-fac31e1cf1c4');\n",
       "var x = new MutationObserver(function (mutations, observer) {{\n",
       "        var display = window.getComputedStyle(gd).display;\n",
       "        if (!display || display === 'none') {{\n",
       "            console.log([gd, 'removed!']);\n",
       "            Plotly.purge(gd);\n",
       "            observer.disconnect();\n",
       "        }}\n",
       "}});\n",
       "\n",
       "// Listen for the removal of the full notebook cells\n",
       "var notebookContainer = gd.closest('#notebook-container');\n",
       "if (notebookContainer) {{\n",
       "    x.observe(notebookContainer, {childList: true});\n",
       "}}\n",
       "\n",
       "// Listen for the clearing of the current output cell\n",
       "var outputEl = gd.closest('.output');\n",
       "if (outputEl) {{\n",
       "    x.observe(outputEl, {childList: true});\n",
       "}}\n",
       "\n",
       "                        })                };                });            </script>        </div>"
      ]
     },
     "metadata": {},
     "output_type": "display_data"
    }
   ],
   "source": [
    "optuna.visualization.plot_param_importances(study)"
   ]
  },
  {
   "cell_type": "code",
   "execution_count": 57,
   "id": "347ebe41",
   "metadata": {},
   "outputs": [
    {
     "data": {
      "application/vnd.plotly.v1+json": {
       "config": {
        "plotlyServerURL": "https://plot.ly"
       },
       "data": [
        {
         "mode": "markers",
         "name": "Objective Value",
         "type": "scatter",
         "x": [
          0,
          1,
          2,
          3,
          4,
          10,
          12,
          14,
          18,
          25,
          26,
          29,
          30,
          31,
          32,
          34,
          39,
          40,
          41,
          42,
          43,
          44,
          46,
          49,
          50,
          51,
          53,
          55,
          56,
          58,
          62,
          71,
          78,
          84,
          94,
          98
         ],
         "y": [
          0.5571405587571175,
          0.5562613600446124,
          0.5605040767695755,
          0.5541950169255421,
          0.5558071736465358,
          0.56544308328882,
          0.5608080476628761,
          0.5593407289869233,
          0.5636126284214314,
          0.5542978874400266,
          0.5591636312903292,
          0.5530204807788763,
          0.5598075220783424,
          0.5588781589984503,
          0.5560193557715358,
          0.5623990249922116,
          0.555124945391063,
          0.5588697497892411,
          0.5522449565596865,
          0.5571382746534193,
          0.5532977303913178,
          0.5623732044959024,
          0.5534480294036216,
          0.5502489012619268,
          0.5529238920399417,
          0.5550357365000517,
          0.5566382544916804,
          0.5599432037005703,
          0.5602666659835625,
          0.5541785312569317,
          0.5549551805217653,
          0.555150951476253,
          0.5573158231537287,
          0.5515019200055448,
          0.5564786816695195,
          0.556330393610435
         ]
        },
        {
         "name": "Best Value",
         "type": "scatter",
         "x": [
          0,
          1,
          2,
          3,
          4,
          10,
          12,
          14,
          18,
          25,
          26,
          29,
          30,
          31,
          32,
          34,
          39,
          40,
          41,
          42,
          43,
          44,
          46,
          49,
          50,
          51,
          53,
          55,
          56,
          58,
          62,
          71,
          78,
          84,
          94,
          98
         ],
         "y": [
          0.5571405587571175,
          0.5562613600446124,
          0.5562613600446124,
          0.5541950169255421,
          0.5541950169255421,
          0.5541950169255421,
          0.5541950169255421,
          0.5541950169255421,
          0.5541950169255421,
          0.5541950169255421,
          0.5541950169255421,
          0.5530204807788763,
          0.5530204807788763,
          0.5530204807788763,
          0.5530204807788763,
          0.5530204807788763,
          0.5530204807788763,
          0.5530204807788763,
          0.5522449565596865,
          0.5522449565596865,
          0.5522449565596865,
          0.5522449565596865,
          0.5522449565596865,
          0.5502489012619268,
          0.5502489012619268,
          0.5502489012619268,
          0.5502489012619268,
          0.5502489012619268,
          0.5502489012619268,
          0.5502489012619268,
          0.5502489012619268,
          0.5502489012619268,
          0.5502489012619268,
          0.5502489012619268,
          0.5502489012619268,
          0.5502489012619268
         ]
        }
       ],
       "layout": {
        "template": {
         "data": {
          "bar": [
           {
            "error_x": {
             "color": "#2a3f5f"
            },
            "error_y": {
             "color": "#2a3f5f"
            },
            "marker": {
             "line": {
              "color": "#E5ECF6",
              "width": 0.5
             },
             "pattern": {
              "fillmode": "overlay",
              "size": 10,
              "solidity": 0.2
             }
            },
            "type": "bar"
           }
          ],
          "barpolar": [
           {
            "marker": {
             "line": {
              "color": "#E5ECF6",
              "width": 0.5
             },
             "pattern": {
              "fillmode": "overlay",
              "size": 10,
              "solidity": 0.2
             }
            },
            "type": "barpolar"
           }
          ],
          "carpet": [
           {
            "aaxis": {
             "endlinecolor": "#2a3f5f",
             "gridcolor": "white",
             "linecolor": "white",
             "minorgridcolor": "white",
             "startlinecolor": "#2a3f5f"
            },
            "baxis": {
             "endlinecolor": "#2a3f5f",
             "gridcolor": "white",
             "linecolor": "white",
             "minorgridcolor": "white",
             "startlinecolor": "#2a3f5f"
            },
            "type": "carpet"
           }
          ],
          "choropleth": [
           {
            "colorbar": {
             "outlinewidth": 0,
             "ticks": ""
            },
            "type": "choropleth"
           }
          ],
          "contour": [
           {
            "colorbar": {
             "outlinewidth": 0,
             "ticks": ""
            },
            "colorscale": [
             [
              0,
              "#0d0887"
             ],
             [
              0.1111111111111111,
              "#46039f"
             ],
             [
              0.2222222222222222,
              "#7201a8"
             ],
             [
              0.3333333333333333,
              "#9c179e"
             ],
             [
              0.4444444444444444,
              "#bd3786"
             ],
             [
              0.5555555555555556,
              "#d8576b"
             ],
             [
              0.6666666666666666,
              "#ed7953"
             ],
             [
              0.7777777777777778,
              "#fb9f3a"
             ],
             [
              0.8888888888888888,
              "#fdca26"
             ],
             [
              1,
              "#f0f921"
             ]
            ],
            "type": "contour"
           }
          ],
          "contourcarpet": [
           {
            "colorbar": {
             "outlinewidth": 0,
             "ticks": ""
            },
            "type": "contourcarpet"
           }
          ],
          "heatmap": [
           {
            "colorbar": {
             "outlinewidth": 0,
             "ticks": ""
            },
            "colorscale": [
             [
              0,
              "#0d0887"
             ],
             [
              0.1111111111111111,
              "#46039f"
             ],
             [
              0.2222222222222222,
              "#7201a8"
             ],
             [
              0.3333333333333333,
              "#9c179e"
             ],
             [
              0.4444444444444444,
              "#bd3786"
             ],
             [
              0.5555555555555556,
              "#d8576b"
             ],
             [
              0.6666666666666666,
              "#ed7953"
             ],
             [
              0.7777777777777778,
              "#fb9f3a"
             ],
             [
              0.8888888888888888,
              "#fdca26"
             ],
             [
              1,
              "#f0f921"
             ]
            ],
            "type": "heatmap"
           }
          ],
          "heatmapgl": [
           {
            "colorbar": {
             "outlinewidth": 0,
             "ticks": ""
            },
            "colorscale": [
             [
              0,
              "#0d0887"
             ],
             [
              0.1111111111111111,
              "#46039f"
             ],
             [
              0.2222222222222222,
              "#7201a8"
             ],
             [
              0.3333333333333333,
              "#9c179e"
             ],
             [
              0.4444444444444444,
              "#bd3786"
             ],
             [
              0.5555555555555556,
              "#d8576b"
             ],
             [
              0.6666666666666666,
              "#ed7953"
             ],
             [
              0.7777777777777778,
              "#fb9f3a"
             ],
             [
              0.8888888888888888,
              "#fdca26"
             ],
             [
              1,
              "#f0f921"
             ]
            ],
            "type": "heatmapgl"
           }
          ],
          "histogram": [
           {
            "marker": {
             "pattern": {
              "fillmode": "overlay",
              "size": 10,
              "solidity": 0.2
             }
            },
            "type": "histogram"
           }
          ],
          "histogram2d": [
           {
            "colorbar": {
             "outlinewidth": 0,
             "ticks": ""
            },
            "colorscale": [
             [
              0,
              "#0d0887"
             ],
             [
              0.1111111111111111,
              "#46039f"
             ],
             [
              0.2222222222222222,
              "#7201a8"
             ],
             [
              0.3333333333333333,
              "#9c179e"
             ],
             [
              0.4444444444444444,
              "#bd3786"
             ],
             [
              0.5555555555555556,
              "#d8576b"
             ],
             [
              0.6666666666666666,
              "#ed7953"
             ],
             [
              0.7777777777777778,
              "#fb9f3a"
             ],
             [
              0.8888888888888888,
              "#fdca26"
             ],
             [
              1,
              "#f0f921"
             ]
            ],
            "type": "histogram2d"
           }
          ],
          "histogram2dcontour": [
           {
            "colorbar": {
             "outlinewidth": 0,
             "ticks": ""
            },
            "colorscale": [
             [
              0,
              "#0d0887"
             ],
             [
              0.1111111111111111,
              "#46039f"
             ],
             [
              0.2222222222222222,
              "#7201a8"
             ],
             [
              0.3333333333333333,
              "#9c179e"
             ],
             [
              0.4444444444444444,
              "#bd3786"
             ],
             [
              0.5555555555555556,
              "#d8576b"
             ],
             [
              0.6666666666666666,
              "#ed7953"
             ],
             [
              0.7777777777777778,
              "#fb9f3a"
             ],
             [
              0.8888888888888888,
              "#fdca26"
             ],
             [
              1,
              "#f0f921"
             ]
            ],
            "type": "histogram2dcontour"
           }
          ],
          "mesh3d": [
           {
            "colorbar": {
             "outlinewidth": 0,
             "ticks": ""
            },
            "type": "mesh3d"
           }
          ],
          "parcoords": [
           {
            "line": {
             "colorbar": {
              "outlinewidth": 0,
              "ticks": ""
             }
            },
            "type": "parcoords"
           }
          ],
          "pie": [
           {
            "automargin": true,
            "type": "pie"
           }
          ],
          "scatter": [
           {
            "fillpattern": {
             "fillmode": "overlay",
             "size": 10,
             "solidity": 0.2
            },
            "type": "scatter"
           }
          ],
          "scatter3d": [
           {
            "line": {
             "colorbar": {
              "outlinewidth": 0,
              "ticks": ""
             }
            },
            "marker": {
             "colorbar": {
              "outlinewidth": 0,
              "ticks": ""
             }
            },
            "type": "scatter3d"
           }
          ],
          "scattercarpet": [
           {
            "marker": {
             "colorbar": {
              "outlinewidth": 0,
              "ticks": ""
             }
            },
            "type": "scattercarpet"
           }
          ],
          "scattergeo": [
           {
            "marker": {
             "colorbar": {
              "outlinewidth": 0,
              "ticks": ""
             }
            },
            "type": "scattergeo"
           }
          ],
          "scattergl": [
           {
            "marker": {
             "colorbar": {
              "outlinewidth": 0,
              "ticks": ""
             }
            },
            "type": "scattergl"
           }
          ],
          "scattermapbox": [
           {
            "marker": {
             "colorbar": {
              "outlinewidth": 0,
              "ticks": ""
             }
            },
            "type": "scattermapbox"
           }
          ],
          "scatterpolar": [
           {
            "marker": {
             "colorbar": {
              "outlinewidth": 0,
              "ticks": ""
             }
            },
            "type": "scatterpolar"
           }
          ],
          "scatterpolargl": [
           {
            "marker": {
             "colorbar": {
              "outlinewidth": 0,
              "ticks": ""
             }
            },
            "type": "scatterpolargl"
           }
          ],
          "scatterternary": [
           {
            "marker": {
             "colorbar": {
              "outlinewidth": 0,
              "ticks": ""
             }
            },
            "type": "scatterternary"
           }
          ],
          "surface": [
           {
            "colorbar": {
             "outlinewidth": 0,
             "ticks": ""
            },
            "colorscale": [
             [
              0,
              "#0d0887"
             ],
             [
              0.1111111111111111,
              "#46039f"
             ],
             [
              0.2222222222222222,
              "#7201a8"
             ],
             [
              0.3333333333333333,
              "#9c179e"
             ],
             [
              0.4444444444444444,
              "#bd3786"
             ],
             [
              0.5555555555555556,
              "#d8576b"
             ],
             [
              0.6666666666666666,
              "#ed7953"
             ],
             [
              0.7777777777777778,
              "#fb9f3a"
             ],
             [
              0.8888888888888888,
              "#fdca26"
             ],
             [
              1,
              "#f0f921"
             ]
            ],
            "type": "surface"
           }
          ],
          "table": [
           {
            "cells": {
             "fill": {
              "color": "#EBF0F8"
             },
             "line": {
              "color": "white"
             }
            },
            "header": {
             "fill": {
              "color": "#C8D4E3"
             },
             "line": {
              "color": "white"
             }
            },
            "type": "table"
           }
          ]
         },
         "layout": {
          "annotationdefaults": {
           "arrowcolor": "#2a3f5f",
           "arrowhead": 0,
           "arrowwidth": 1
          },
          "autotypenumbers": "strict",
          "coloraxis": {
           "colorbar": {
            "outlinewidth": 0,
            "ticks": ""
           }
          },
          "colorscale": {
           "diverging": [
            [
             0,
             "#8e0152"
            ],
            [
             0.1,
             "#c51b7d"
            ],
            [
             0.2,
             "#de77ae"
            ],
            [
             0.3,
             "#f1b6da"
            ],
            [
             0.4,
             "#fde0ef"
            ],
            [
             0.5,
             "#f7f7f7"
            ],
            [
             0.6,
             "#e6f5d0"
            ],
            [
             0.7,
             "#b8e186"
            ],
            [
             0.8,
             "#7fbc41"
            ],
            [
             0.9,
             "#4d9221"
            ],
            [
             1,
             "#276419"
            ]
           ],
           "sequential": [
            [
             0,
             "#0d0887"
            ],
            [
             0.1111111111111111,
             "#46039f"
            ],
            [
             0.2222222222222222,
             "#7201a8"
            ],
            [
             0.3333333333333333,
             "#9c179e"
            ],
            [
             0.4444444444444444,
             "#bd3786"
            ],
            [
             0.5555555555555556,
             "#d8576b"
            ],
            [
             0.6666666666666666,
             "#ed7953"
            ],
            [
             0.7777777777777778,
             "#fb9f3a"
            ],
            [
             0.8888888888888888,
             "#fdca26"
            ],
            [
             1,
             "#f0f921"
            ]
           ],
           "sequentialminus": [
            [
             0,
             "#0d0887"
            ],
            [
             0.1111111111111111,
             "#46039f"
            ],
            [
             0.2222222222222222,
             "#7201a8"
            ],
            [
             0.3333333333333333,
             "#9c179e"
            ],
            [
             0.4444444444444444,
             "#bd3786"
            ],
            [
             0.5555555555555556,
             "#d8576b"
            ],
            [
             0.6666666666666666,
             "#ed7953"
            ],
            [
             0.7777777777777778,
             "#fb9f3a"
            ],
            [
             0.8888888888888888,
             "#fdca26"
            ],
            [
             1,
             "#f0f921"
            ]
           ]
          },
          "colorway": [
           "#636efa",
           "#EF553B",
           "#00cc96",
           "#ab63fa",
           "#FFA15A",
           "#19d3f3",
           "#FF6692",
           "#B6E880",
           "#FF97FF",
           "#FECB52"
          ],
          "font": {
           "color": "#2a3f5f"
          },
          "geo": {
           "bgcolor": "white",
           "lakecolor": "white",
           "landcolor": "#E5ECF6",
           "showlakes": true,
           "showland": true,
           "subunitcolor": "white"
          },
          "hoverlabel": {
           "align": "left"
          },
          "hovermode": "closest",
          "mapbox": {
           "style": "light"
          },
          "paper_bgcolor": "white",
          "plot_bgcolor": "#E5ECF6",
          "polar": {
           "angularaxis": {
            "gridcolor": "white",
            "linecolor": "white",
            "ticks": ""
           },
           "bgcolor": "#E5ECF6",
           "radialaxis": {
            "gridcolor": "white",
            "linecolor": "white",
            "ticks": ""
           }
          },
          "scene": {
           "xaxis": {
            "backgroundcolor": "#E5ECF6",
            "gridcolor": "white",
            "gridwidth": 2,
            "linecolor": "white",
            "showbackground": true,
            "ticks": "",
            "zerolinecolor": "white"
           },
           "yaxis": {
            "backgroundcolor": "#E5ECF6",
            "gridcolor": "white",
            "gridwidth": 2,
            "linecolor": "white",
            "showbackground": true,
            "ticks": "",
            "zerolinecolor": "white"
           },
           "zaxis": {
            "backgroundcolor": "#E5ECF6",
            "gridcolor": "white",
            "gridwidth": 2,
            "linecolor": "white",
            "showbackground": true,
            "ticks": "",
            "zerolinecolor": "white"
           }
          },
          "shapedefaults": {
           "line": {
            "color": "#2a3f5f"
           }
          },
          "ternary": {
           "aaxis": {
            "gridcolor": "white",
            "linecolor": "white",
            "ticks": ""
           },
           "baxis": {
            "gridcolor": "white",
            "linecolor": "white",
            "ticks": ""
           },
           "bgcolor": "#E5ECF6",
           "caxis": {
            "gridcolor": "white",
            "linecolor": "white",
            "ticks": ""
           }
          },
          "title": {
           "x": 0.05
          },
          "xaxis": {
           "automargin": true,
           "gridcolor": "white",
           "linecolor": "white",
           "ticks": "",
           "title": {
            "standoff": 15
           },
           "zerolinecolor": "white",
           "zerolinewidth": 2
          },
          "yaxis": {
           "automargin": true,
           "gridcolor": "white",
           "linecolor": "white",
           "ticks": "",
           "title": {
            "standoff": 15
           },
           "zerolinecolor": "white",
           "zerolinewidth": 2
          }
         }
        },
        "title": {
         "text": "Optimization History Plot"
        },
        "xaxis": {
         "title": {
          "text": "Trial"
         }
        },
        "yaxis": {
         "title": {
          "text": "Objective Value"
         }
        }
       }
      },
      "text/html": [
       "<div>                            <div id=\"06009144-88b8-4bf4-af3e-92621d68847e\" class=\"plotly-graph-div\" style=\"height:525px; width:100%;\"></div>            <script type=\"text/javascript\">                require([\"plotly\"], function(Plotly) {                    window.PLOTLYENV=window.PLOTLYENV || {};                                    if (document.getElementById(\"06009144-88b8-4bf4-af3e-92621d68847e\")) {                    Plotly.newPlot(                        \"06009144-88b8-4bf4-af3e-92621d68847e\",                        [{\"mode\":\"markers\",\"name\":\"Objective Value\",\"x\":[0,1,2,3,4,10,12,14,18,25,26,29,30,31,32,34,39,40,41,42,43,44,46,49,50,51,53,55,56,58,62,71,78,84,94,98],\"y\":[0.5571405587571175,0.5562613600446124,0.5605040767695755,0.5541950169255421,0.5558071736465358,0.56544308328882,0.5608080476628761,0.5593407289869233,0.5636126284214314,0.5542978874400266,0.5591636312903292,0.5530204807788763,0.5598075220783424,0.5588781589984503,0.5560193557715358,0.5623990249922116,0.555124945391063,0.5588697497892411,0.5522449565596865,0.5571382746534193,0.5532977303913178,0.5623732044959024,0.5534480294036216,0.5502489012619268,0.5529238920399417,0.5550357365000517,0.5566382544916804,0.5599432037005703,0.5602666659835625,0.5541785312569317,0.5549551805217653,0.555150951476253,0.5573158231537287,0.5515019200055448,0.5564786816695195,0.556330393610435],\"type\":\"scatter\"},{\"name\":\"Best Value\",\"x\":[0,1,2,3,4,10,12,14,18,25,26,29,30,31,32,34,39,40,41,42,43,44,46,49,50,51,53,55,56,58,62,71,78,84,94,98],\"y\":[0.5571405587571175,0.5562613600446124,0.5562613600446124,0.5541950169255421,0.5541950169255421,0.5541950169255421,0.5541950169255421,0.5541950169255421,0.5541950169255421,0.5541950169255421,0.5541950169255421,0.5530204807788763,0.5530204807788763,0.5530204807788763,0.5530204807788763,0.5530204807788763,0.5530204807788763,0.5530204807788763,0.5522449565596865,0.5522449565596865,0.5522449565596865,0.5522449565596865,0.5522449565596865,0.5502489012619268,0.5502489012619268,0.5502489012619268,0.5502489012619268,0.5502489012619268,0.5502489012619268,0.5502489012619268,0.5502489012619268,0.5502489012619268,0.5502489012619268,0.5502489012619268,0.5502489012619268,0.5502489012619268],\"type\":\"scatter\"}],                        {\"title\":{\"text\":\"Optimization History Plot\"},\"xaxis\":{\"title\":{\"text\":\"Trial\"}},\"yaxis\":{\"title\":{\"text\":\"Objective Value\"}},\"template\":{\"data\":{\"histogram2dcontour\":[{\"type\":\"histogram2dcontour\",\"colorbar\":{\"outlinewidth\":0,\"ticks\":\"\"},\"colorscale\":[[0.0,\"#0d0887\"],[0.1111111111111111,\"#46039f\"],[0.2222222222222222,\"#7201a8\"],[0.3333333333333333,\"#9c179e\"],[0.4444444444444444,\"#bd3786\"],[0.5555555555555556,\"#d8576b\"],[0.6666666666666666,\"#ed7953\"],[0.7777777777777778,\"#fb9f3a\"],[0.8888888888888888,\"#fdca26\"],[1.0,\"#f0f921\"]]}],\"choropleth\":[{\"type\":\"choropleth\",\"colorbar\":{\"outlinewidth\":0,\"ticks\":\"\"}}],\"histogram2d\":[{\"type\":\"histogram2d\",\"colorbar\":{\"outlinewidth\":0,\"ticks\":\"\"},\"colorscale\":[[0.0,\"#0d0887\"],[0.1111111111111111,\"#46039f\"],[0.2222222222222222,\"#7201a8\"],[0.3333333333333333,\"#9c179e\"],[0.4444444444444444,\"#bd3786\"],[0.5555555555555556,\"#d8576b\"],[0.6666666666666666,\"#ed7953\"],[0.7777777777777778,\"#fb9f3a\"],[0.8888888888888888,\"#fdca26\"],[1.0,\"#f0f921\"]]}],\"heatmap\":[{\"type\":\"heatmap\",\"colorbar\":{\"outlinewidth\":0,\"ticks\":\"\"},\"colorscale\":[[0.0,\"#0d0887\"],[0.1111111111111111,\"#46039f\"],[0.2222222222222222,\"#7201a8\"],[0.3333333333333333,\"#9c179e\"],[0.4444444444444444,\"#bd3786\"],[0.5555555555555556,\"#d8576b\"],[0.6666666666666666,\"#ed7953\"],[0.7777777777777778,\"#fb9f3a\"],[0.8888888888888888,\"#fdca26\"],[1.0,\"#f0f921\"]]}],\"heatmapgl\":[{\"type\":\"heatmapgl\",\"colorbar\":{\"outlinewidth\":0,\"ticks\":\"\"},\"colorscale\":[[0.0,\"#0d0887\"],[0.1111111111111111,\"#46039f\"],[0.2222222222222222,\"#7201a8\"],[0.3333333333333333,\"#9c179e\"],[0.4444444444444444,\"#bd3786\"],[0.5555555555555556,\"#d8576b\"],[0.6666666666666666,\"#ed7953\"],[0.7777777777777778,\"#fb9f3a\"],[0.8888888888888888,\"#fdca26\"],[1.0,\"#f0f921\"]]}],\"contourcarpet\":[{\"type\":\"contourcarpet\",\"colorbar\":{\"outlinewidth\":0,\"ticks\":\"\"}}],\"contour\":[{\"type\":\"contour\",\"colorbar\":{\"outlinewidth\":0,\"ticks\":\"\"},\"colorscale\":[[0.0,\"#0d0887\"],[0.1111111111111111,\"#46039f\"],[0.2222222222222222,\"#7201a8\"],[0.3333333333333333,\"#9c179e\"],[0.4444444444444444,\"#bd3786\"],[0.5555555555555556,\"#d8576b\"],[0.6666666666666666,\"#ed7953\"],[0.7777777777777778,\"#fb9f3a\"],[0.8888888888888888,\"#fdca26\"],[1.0,\"#f0f921\"]]}],\"surface\":[{\"type\":\"surface\",\"colorbar\":{\"outlinewidth\":0,\"ticks\":\"\"},\"colorscale\":[[0.0,\"#0d0887\"],[0.1111111111111111,\"#46039f\"],[0.2222222222222222,\"#7201a8\"],[0.3333333333333333,\"#9c179e\"],[0.4444444444444444,\"#bd3786\"],[0.5555555555555556,\"#d8576b\"],[0.6666666666666666,\"#ed7953\"],[0.7777777777777778,\"#fb9f3a\"],[0.8888888888888888,\"#fdca26\"],[1.0,\"#f0f921\"]]}],\"mesh3d\":[{\"type\":\"mesh3d\",\"colorbar\":{\"outlinewidth\":0,\"ticks\":\"\"}}],\"scatter\":[{\"fillpattern\":{\"fillmode\":\"overlay\",\"size\":10,\"solidity\":0.2},\"type\":\"scatter\"}],\"parcoords\":[{\"type\":\"parcoords\",\"line\":{\"colorbar\":{\"outlinewidth\":0,\"ticks\":\"\"}}}],\"scatterpolargl\":[{\"type\":\"scatterpolargl\",\"marker\":{\"colorbar\":{\"outlinewidth\":0,\"ticks\":\"\"}}}],\"bar\":[{\"error_x\":{\"color\":\"#2a3f5f\"},\"error_y\":{\"color\":\"#2a3f5f\"},\"marker\":{\"line\":{\"color\":\"#E5ECF6\",\"width\":0.5},\"pattern\":{\"fillmode\":\"overlay\",\"size\":10,\"solidity\":0.2}},\"type\":\"bar\"}],\"scattergeo\":[{\"type\":\"scattergeo\",\"marker\":{\"colorbar\":{\"outlinewidth\":0,\"ticks\":\"\"}}}],\"scatterpolar\":[{\"type\":\"scatterpolar\",\"marker\":{\"colorbar\":{\"outlinewidth\":0,\"ticks\":\"\"}}}],\"histogram\":[{\"marker\":{\"pattern\":{\"fillmode\":\"overlay\",\"size\":10,\"solidity\":0.2}},\"type\":\"histogram\"}],\"scattergl\":[{\"type\":\"scattergl\",\"marker\":{\"colorbar\":{\"outlinewidth\":0,\"ticks\":\"\"}}}],\"scatter3d\":[{\"type\":\"scatter3d\",\"line\":{\"colorbar\":{\"outlinewidth\":0,\"ticks\":\"\"}},\"marker\":{\"colorbar\":{\"outlinewidth\":0,\"ticks\":\"\"}}}],\"scattermapbox\":[{\"type\":\"scattermapbox\",\"marker\":{\"colorbar\":{\"outlinewidth\":0,\"ticks\":\"\"}}}],\"scatterternary\":[{\"type\":\"scatterternary\",\"marker\":{\"colorbar\":{\"outlinewidth\":0,\"ticks\":\"\"}}}],\"scattercarpet\":[{\"type\":\"scattercarpet\",\"marker\":{\"colorbar\":{\"outlinewidth\":0,\"ticks\":\"\"}}}],\"carpet\":[{\"aaxis\":{\"endlinecolor\":\"#2a3f5f\",\"gridcolor\":\"white\",\"linecolor\":\"white\",\"minorgridcolor\":\"white\",\"startlinecolor\":\"#2a3f5f\"},\"baxis\":{\"endlinecolor\":\"#2a3f5f\",\"gridcolor\":\"white\",\"linecolor\":\"white\",\"minorgridcolor\":\"white\",\"startlinecolor\":\"#2a3f5f\"},\"type\":\"carpet\"}],\"table\":[{\"cells\":{\"fill\":{\"color\":\"#EBF0F8\"},\"line\":{\"color\":\"white\"}},\"header\":{\"fill\":{\"color\":\"#C8D4E3\"},\"line\":{\"color\":\"white\"}},\"type\":\"table\"}],\"barpolar\":[{\"marker\":{\"line\":{\"color\":\"#E5ECF6\",\"width\":0.5},\"pattern\":{\"fillmode\":\"overlay\",\"size\":10,\"solidity\":0.2}},\"type\":\"barpolar\"}],\"pie\":[{\"automargin\":true,\"type\":\"pie\"}]},\"layout\":{\"autotypenumbers\":\"strict\",\"colorway\":[\"#636efa\",\"#EF553B\",\"#00cc96\",\"#ab63fa\",\"#FFA15A\",\"#19d3f3\",\"#FF6692\",\"#B6E880\",\"#FF97FF\",\"#FECB52\"],\"font\":{\"color\":\"#2a3f5f\"},\"hovermode\":\"closest\",\"hoverlabel\":{\"align\":\"left\"},\"paper_bgcolor\":\"white\",\"plot_bgcolor\":\"#E5ECF6\",\"polar\":{\"bgcolor\":\"#E5ECF6\",\"angularaxis\":{\"gridcolor\":\"white\",\"linecolor\":\"white\",\"ticks\":\"\"},\"radialaxis\":{\"gridcolor\":\"white\",\"linecolor\":\"white\",\"ticks\":\"\"}},\"ternary\":{\"bgcolor\":\"#E5ECF6\",\"aaxis\":{\"gridcolor\":\"white\",\"linecolor\":\"white\",\"ticks\":\"\"},\"baxis\":{\"gridcolor\":\"white\",\"linecolor\":\"white\",\"ticks\":\"\"},\"caxis\":{\"gridcolor\":\"white\",\"linecolor\":\"white\",\"ticks\":\"\"}},\"coloraxis\":{\"colorbar\":{\"outlinewidth\":0,\"ticks\":\"\"}},\"colorscale\":{\"sequential\":[[0.0,\"#0d0887\"],[0.1111111111111111,\"#46039f\"],[0.2222222222222222,\"#7201a8\"],[0.3333333333333333,\"#9c179e\"],[0.4444444444444444,\"#bd3786\"],[0.5555555555555556,\"#d8576b\"],[0.6666666666666666,\"#ed7953\"],[0.7777777777777778,\"#fb9f3a\"],[0.8888888888888888,\"#fdca26\"],[1.0,\"#f0f921\"]],\"sequentialminus\":[[0.0,\"#0d0887\"],[0.1111111111111111,\"#46039f\"],[0.2222222222222222,\"#7201a8\"],[0.3333333333333333,\"#9c179e\"],[0.4444444444444444,\"#bd3786\"],[0.5555555555555556,\"#d8576b\"],[0.6666666666666666,\"#ed7953\"],[0.7777777777777778,\"#fb9f3a\"],[0.8888888888888888,\"#fdca26\"],[1.0,\"#f0f921\"]],\"diverging\":[[0,\"#8e0152\"],[0.1,\"#c51b7d\"],[0.2,\"#de77ae\"],[0.3,\"#f1b6da\"],[0.4,\"#fde0ef\"],[0.5,\"#f7f7f7\"],[0.6,\"#e6f5d0\"],[0.7,\"#b8e186\"],[0.8,\"#7fbc41\"],[0.9,\"#4d9221\"],[1,\"#276419\"]]},\"xaxis\":{\"gridcolor\":\"white\",\"linecolor\":\"white\",\"ticks\":\"\",\"title\":{\"standoff\":15},\"zerolinecolor\":\"white\",\"automargin\":true,\"zerolinewidth\":2},\"yaxis\":{\"gridcolor\":\"white\",\"linecolor\":\"white\",\"ticks\":\"\",\"title\":{\"standoff\":15},\"zerolinecolor\":\"white\",\"automargin\":true,\"zerolinewidth\":2},\"scene\":{\"xaxis\":{\"backgroundcolor\":\"#E5ECF6\",\"gridcolor\":\"white\",\"linecolor\":\"white\",\"showbackground\":true,\"ticks\":\"\",\"zerolinecolor\":\"white\",\"gridwidth\":2},\"yaxis\":{\"backgroundcolor\":\"#E5ECF6\",\"gridcolor\":\"white\",\"linecolor\":\"white\",\"showbackground\":true,\"ticks\":\"\",\"zerolinecolor\":\"white\",\"gridwidth\":2},\"zaxis\":{\"backgroundcolor\":\"#E5ECF6\",\"gridcolor\":\"white\",\"linecolor\":\"white\",\"showbackground\":true,\"ticks\":\"\",\"zerolinecolor\":\"white\",\"gridwidth\":2}},\"shapedefaults\":{\"line\":{\"color\":\"#2a3f5f\"}},\"annotationdefaults\":{\"arrowcolor\":\"#2a3f5f\",\"arrowhead\":0,\"arrowwidth\":1},\"geo\":{\"bgcolor\":\"white\",\"landcolor\":\"#E5ECF6\",\"subunitcolor\":\"white\",\"showland\":true,\"showlakes\":true,\"lakecolor\":\"white\"},\"title\":{\"x\":0.05},\"mapbox\":{\"style\":\"light\"}}}},                        {\"responsive\": true}                    ).then(function(){\n",
       "                            \n",
       "var gd = document.getElementById('06009144-88b8-4bf4-af3e-92621d68847e');\n",
       "var x = new MutationObserver(function (mutations, observer) {{\n",
       "        var display = window.getComputedStyle(gd).display;\n",
       "        if (!display || display === 'none') {{\n",
       "            console.log([gd, 'removed!']);\n",
       "            Plotly.purge(gd);\n",
       "            observer.disconnect();\n",
       "        }}\n",
       "}});\n",
       "\n",
       "// Listen for the removal of the full notebook cells\n",
       "var notebookContainer = gd.closest('#notebook-container');\n",
       "if (notebookContainer) {{\n",
       "    x.observe(notebookContainer, {childList: true});\n",
       "}}\n",
       "\n",
       "// Listen for the clearing of the current output cell\n",
       "var outputEl = gd.closest('.output');\n",
       "if (outputEl) {{\n",
       "    x.observe(outputEl, {childList: true});\n",
       "}}\n",
       "\n",
       "                        })                };                });            </script>        </div>"
      ]
     },
     "metadata": {},
     "output_type": "display_data"
    }
   ],
   "source": [
    "optuna.visualization.plot_optimization_history(study)"
   ]
  },
  {
   "cell_type": "markdown",
   "id": "e8ca15e4",
   "metadata": {},
   "source": [
    "# **Multi-Class Classification with XGBoost**"
   ]
  },
  {
   "cell_type": "code",
   "execution_count": null,
   "id": "44666c11",
   "metadata": {},
   "outputs": [],
   "source": []
  },
  {
   "cell_type": "markdown",
   "id": "ae067cb7",
   "metadata": {},
   "source": [
    "# **Create Model**"
   ]
  },
  {
   "cell_type": "code",
   "execution_count": null,
   "id": "8c9a39aa",
   "metadata": {},
   "outputs": [],
   "source": [
    "\"\"\"\n",
    "Experiments:\n",
    "#Zon's dataset (no ordinal features)\n",
    "1. n_estimators = 5000 (overfit beyond 3900), early_stopping_rounds = 50, learning_rate = 0.001, max_depth = 12, tree_method = 'approx',booster = 'gbtree',enable_categorical=True\n",
    "logloss:0.55598, Accuracy:0.7742663656884876, F1 Score:[0.76760563 0.4822695  0.86767896]\n",
    "2. Training Time of Several Hours: n_estimators = 3900 (overfit beyond 2990), early_stopping_rounds = 50, learning_rate = 0.001, max_depth = 12, tree_method = 'approx',booster = 'dart',enable_categorical=True\n",
    "logloss:0.59134, Accuracy:0.7652370203160271, F1 Score:[0.79856115 0.49350649 0.83700441]\n",
    "#Wynette's dataset (ordinal features)\n",
    "3. n_estimators = 3900 (overfit beyond 3400), early_stopping_rounds = 50, learning_rate = 0.001, max_depth = 12, tree_method = 'approx',booster = 'gbtree',enable_categorical=True\n",
    "logloss:0.55960, Accuracy:0.77, F1 Score:[0.77 0.45  0.85]\n",
    "4. # drop features with lowest feature_importance score: Previous qualification, Daytime/evening attendance, International\n",
    "n_estimators = 3900 (overfit beyond 2920), early_stopping_rounds = 50, learning_rate = 0.001, max_depth = 12, tree_method = 'approx',booster = 'gbtree',enable_categorical=True\n",
    "logloss:0.61181, Accuracy:0.78, F1 Score:[0.76 0.48  0.87]\n",
    "\n",
    "5. # drop features + scaling of numerical features\n",
    "n_estimators = 5000 (overfit beyond 3980), early_stopping_rounds = 50, learning_rate = 0.001, max_depth = 12, tree_method = 'approx',booster = 'gbtree',enable_categorical=True\n",
    "logloss:0.53519, Accuracy:0.77, F1 Score:[0.78 0.43  0.86]\n",
    "\n",
    "6. # scaling of numerical features\n",
    "n_estimators = 5000 (overfit beyond 2700), early_stopping_rounds = 50, learning_rate = 0.001, max_depth = 12, tree_method = 'approx',booster = 'gbtree',enable_categorical=True\n",
    "logloss:0.61050, Accuracy:0.71, F1 Score:[0.71 0.41  0.83]\n",
    "\n",
    "7. # feature engineering w FeatureTools\n",
    "n_estimators = 5000 (overfit beyond 3860), early_stopping_rounds = 50, learning_rate = 0.001, max_depth = 12, tree_method = 'approx',booster = 'gbtree',enable_categorical=True\n",
    "logloss:0.52097, Accuracy:0.75, F1 Score:[0.77 0.39  0.83]\n",
    "\"\"\"\n",
    "# Logloss better metric for training than accuracy/F1 score. \n",
    "# Logloss measures model skill, accuracy/F1 score measures performance on test set, which varies.\n",
    "model = xgb.XGBClassifier(n_estimators = 5000, early_stopping_rounds = 50, learning_rate = 0.001, max_depth = 12, tree_method = 'approx',booster = 'gbtree',enable_categorical=True)\n",
    "#model.load_model('model_1.json')\n",
    "model.fit(X_train, y_train, eval_set = [(X_val,y_val)], verbose = 10)"
   ]
  },
  {
   "cell_type": "code",
   "execution_count": 59,
   "id": "68f6a612",
   "metadata": {},
   "outputs": [],
   "source": [
    "model.save_model('model_3.json')"
   ]
  },
  {
   "cell_type": "code",
   "execution_count": 58,
   "id": "01bdc312",
   "metadata": {},
   "outputs": [
    {
     "data": {
      "text/html": [
       "<div>\n",
       "<style scoped>\n",
       "    .dataframe tbody tr th:only-of-type {\n",
       "        vertical-align: middle;\n",
       "    }\n",
       "\n",
       "    .dataframe tbody tr th {\n",
       "        vertical-align: top;\n",
       "    }\n",
       "\n",
       "    .dataframe thead th {\n",
       "        text-align: right;\n",
       "    }\n",
       "</style>\n",
       "<table border=\"1\" class=\"dataframe\">\n",
       "  <thead>\n",
       "    <tr style=\"text-align: right;\">\n",
       "      <th></th>\n",
       "      <th>Importance</th>\n",
       "    </tr>\n",
       "  </thead>\n",
       "  <tbody>\n",
       "    <tr>\n",
       "      <th>Tuition fees up to date</th>\n",
       "      <td>0.106407</td>\n",
       "    </tr>\n",
       "    <tr>\n",
       "      <th>Curricular units 2nd sem (approved)</th>\n",
       "      <td>0.086541</td>\n",
       "    </tr>\n",
       "    <tr>\n",
       "      <th>Curricular units 1st sem (approved)</th>\n",
       "      <td>0.078598</td>\n",
       "    </tr>\n",
       "    <tr>\n",
       "      <th>Curricular units 2nd sem (grade)</th>\n",
       "      <td>0.052596</td>\n",
       "    </tr>\n",
       "    <tr>\n",
       "      <th>Scholarship holder</th>\n",
       "      <td>0.036215</td>\n",
       "    </tr>\n",
       "    <tr>\n",
       "      <th>Curricular units 1st sem (evaluations)</th>\n",
       "      <td>0.035013</td>\n",
       "    </tr>\n",
       "    <tr>\n",
       "      <th>Curricular units 2nd sem (enrolled)</th>\n",
       "      <td>0.034551</td>\n",
       "    </tr>\n",
       "    <tr>\n",
       "      <th>Course</th>\n",
       "      <td>0.034456</td>\n",
       "    </tr>\n",
       "    <tr>\n",
       "      <th>Debtor</th>\n",
       "      <td>0.034421</td>\n",
       "    </tr>\n",
       "    <tr>\n",
       "      <th>Curricular units 1st sem (enrolled)</th>\n",
       "      <td>0.033152</td>\n",
       "    </tr>\n",
       "    <tr>\n",
       "      <th>Curricular units 2nd sem (evaluations)</th>\n",
       "      <td>0.026578</td>\n",
       "    </tr>\n",
       "    <tr>\n",
       "      <th>Curricular units 1st sem (grade)</th>\n",
       "      <td>0.026182</td>\n",
       "    </tr>\n",
       "    <tr>\n",
       "      <th>Curricular units 1st sem (credited)</th>\n",
       "      <td>0.024986</td>\n",
       "    </tr>\n",
       "    <tr>\n",
       "      <th>Curricular units 2nd sem (credited)</th>\n",
       "      <td>0.024322</td>\n",
       "    </tr>\n",
       "    <tr>\n",
       "      <th>Gender</th>\n",
       "      <td>0.023550</td>\n",
       "    </tr>\n",
       "    <tr>\n",
       "      <th>Age at enrollment</th>\n",
       "      <td>0.021803</td>\n",
       "    </tr>\n",
       "    <tr>\n",
       "      <th>Application mode</th>\n",
       "      <td>0.021403</td>\n",
       "    </tr>\n",
       "    <tr>\n",
       "      <th>Mother's occupation</th>\n",
       "      <td>0.020546</td>\n",
       "    </tr>\n",
       "    <tr>\n",
       "      <th>GDP</th>\n",
       "      <td>0.019571</td>\n",
       "    </tr>\n",
       "    <tr>\n",
       "      <th>Previous qualification</th>\n",
       "      <td>0.019444</td>\n",
       "    </tr>\n",
       "    <tr>\n",
       "      <th>Father's occupation</th>\n",
       "      <td>0.019316</td>\n",
       "    </tr>\n",
       "    <tr>\n",
       "      <th>Daytime/evening attendance</th>\n",
       "      <td>0.018691</td>\n",
       "    </tr>\n",
       "    <tr>\n",
       "      <th>Father's qualification</th>\n",
       "      <td>0.018001</td>\n",
       "    </tr>\n",
       "    <tr>\n",
       "      <th>Curricular units 2nd sem (without evaluations)</th>\n",
       "      <td>0.017971</td>\n",
       "    </tr>\n",
       "    <tr>\n",
       "      <th>Marital status</th>\n",
       "      <td>0.017818</td>\n",
       "    </tr>\n",
       "    <tr>\n",
       "      <th>Unemployment rate</th>\n",
       "      <td>0.017768</td>\n",
       "    </tr>\n",
       "    <tr>\n",
       "      <th>Mother's qualification</th>\n",
       "      <td>0.017629</td>\n",
       "    </tr>\n",
       "    <tr>\n",
       "      <th>Tracker</th>\n",
       "      <td>0.017127</td>\n",
       "    </tr>\n",
       "    <tr>\n",
       "      <th>Displaced</th>\n",
       "      <td>0.016935</td>\n",
       "    </tr>\n",
       "    <tr>\n",
       "      <th>Inflation rate</th>\n",
       "      <td>0.016838</td>\n",
       "    </tr>\n",
       "    <tr>\n",
       "      <th>Application order</th>\n",
       "      <td>0.016814</td>\n",
       "    </tr>\n",
       "    <tr>\n",
       "      <th>Curricular units 1st sem (without evaluations)</th>\n",
       "      <td>0.016302</td>\n",
       "    </tr>\n",
       "    <tr>\n",
       "      <th>International</th>\n",
       "      <td>0.014459</td>\n",
       "    </tr>\n",
       "    <tr>\n",
       "      <th>Nationality</th>\n",
       "      <td>0.013995</td>\n",
       "    </tr>\n",
       "    <tr>\n",
       "      <th>Educational special needs</th>\n",
       "      <td>0.000000</td>\n",
       "    </tr>\n",
       "  </tbody>\n",
       "</table>\n",
       "</div>"
      ],
      "text/plain": [
       "                                                Importance\n",
       "Tuition fees up to date                           0.106407\n",
       "Curricular units 2nd sem (approved)               0.086541\n",
       "Curricular units 1st sem (approved)               0.078598\n",
       "Curricular units 2nd sem (grade)                  0.052596\n",
       "Scholarship holder                                0.036215\n",
       "Curricular units 1st sem (evaluations)            0.035013\n",
       "Curricular units 2nd sem (enrolled)               0.034551\n",
       "Course                                            0.034456\n",
       "Debtor                                            0.034421\n",
       "Curricular units 1st sem (enrolled)               0.033152\n",
       "Curricular units 2nd sem (evaluations)            0.026578\n",
       "Curricular units 1st sem (grade)                  0.026182\n",
       "Curricular units 1st sem (credited)               0.024986\n",
       "Curricular units 2nd sem (credited)               0.024322\n",
       "Gender                                            0.023550\n",
       "Age at enrollment                                 0.021803\n",
       "Application mode                                  0.021403\n",
       "Mother's occupation                               0.020546\n",
       "GDP                                               0.019571\n",
       "Previous qualification                            0.019444\n",
       "Father's occupation                               0.019316\n",
       "Daytime/evening attendance                        0.018691\n",
       "Father's qualification                            0.018001\n",
       "Curricular units 2nd sem (without evaluations)    0.017971\n",
       "Marital status                                    0.017818\n",
       "Unemployment rate                                 0.017768\n",
       "Mother's qualification                            0.017629\n",
       "Tracker                                           0.017127\n",
       "Displaced                                         0.016935\n",
       "Inflation rate                                    0.016838\n",
       "Application order                                 0.016814\n",
       "Curricular units 1st sem (without evaluations)    0.016302\n",
       "International                                     0.014459\n",
       "Nationality                                       0.013995\n",
       "Educational special needs                         0.000000"
      ]
     },
     "execution_count": 58,
     "metadata": {},
     "output_type": "execute_result"
    }
   ],
   "source": [
    "# Rank features by importance\n",
    "df_feature_importance = pd.DataFrame(index = model.get_booster().feature_names, data = model.feature_importances_, columns = ['Importance'])\n",
    "df_feature_importance.sort_values('Importance',ascending=False)"
   ]
  },
  {
   "cell_type": "markdown",
   "id": "f8878579",
   "metadata": {},
   "source": [
    "If a feature has a low feature_importance, it doesn’t mean that this feature is uninformative. It only means that the feature was not picked by the tree, likely because another feature encodes the same information."
   ]
  },
  {
   "cell_type": "markdown",
   "id": "827494e9",
   "metadata": {},
   "source": [
    "Drop features with no importance\n",
    "Train model on new dataset and evaluate"
   ]
  },
  {
   "cell_type": "code",
   "execution_count": null,
   "id": "c06c072e",
   "metadata": {},
   "outputs": [],
   "source": []
  },
  {
   "cell_type": "markdown",
   "id": "cbbdc3b0",
   "metadata": {},
   "source": [
    "# **Predict and Evaluate Performance**"
   ]
  },
  {
   "cell_type": "code",
   "execution_count": null,
   "id": "44415134",
   "metadata": {},
   "outputs": [],
   "source": [
    "# Use model to predict on test data\n",
    "y_test_pred = model.predict(X_test)\n",
    "df.head()\n",
    "\n",
    "# Print the Classification Accuracy\n",
    "print(\"Test Data\")\n",
    "\n",
    "#print(\"Accuracy  :\\t\", model.score(X_test, y_test))\n",
    "# Dropout, Enrolled, Graduate\n",
    "#print(\"F1 Score  :\\t\",f1_score(y_test, y_test_pred, average=None))\n",
    "\n",
    "print(classification_report(y_test, y_test_pred))\n",
    "\n",
    "# Plot the two-way Confusion Matrix\n",
    "plt.ylabel('Actual')\n",
    "plt.xlabel('Predicted')\n",
    "sb.heatmap(confusion_matrix(y_test, y_test_pred), \n",
    "           annot = True, fmt=\".0f\", annot_kws={\"size\": 18})\n",
    "plt.ylabel('Actual')\n",
    "plt.xlabel('Predicted')\n",
    "plt.show()"
   ]
  },
  {
   "cell_type": "markdown",
   "id": "6d825c2e",
   "metadata": {},
   "source": [
    "# **Visualise Tree**"
   ]
  },
  {
   "cell_type": "code",
   "execution_count": null,
   "id": "ebdc61fd",
   "metadata": {},
   "outputs": [],
   "source": [
    "# Visualise first tree of model\n",
    "fig = xgb.plot_tree(model)\n",
    "plt.savefig('XGB_tree_3.png', dpi = 4800)"
   ]
  },
  {
   "cell_type": "markdown",
   "id": "9d08e3c4",
   "metadata": {},
   "source": [
    "# **Anomaly Detection with Isolation Forest**"
   ]
  },
  {
   "cell_type": "code",
   "execution_count": null,
   "id": "b91d4d98",
   "metadata": {},
   "outputs": [],
   "source": [
    "from sklearn.ensemble import IsolationForest"
   ]
  },
  {
   "cell_type": "code",
   "execution_count": null,
   "id": "58c5ff95",
   "metadata": {},
   "outputs": [],
   "source": [
    "df = pd.read_csv('dataset.csv')"
   ]
  },
  {
   "cell_type": "markdown",
   "id": "38969047",
   "metadata": {},
   "source": [
    "# **Create Model**"
   ]
  },
  {
   "cell_type": "code",
   "execution_count": null,
   "id": "9dfb6fe2",
   "metadata": {},
   "outputs": [],
   "source": [
    "model_IF = IsolationForest(n_estimators=5000, contamination = 0.32, max_features= 34, verbose = 10, bootstrap=True)\n",
    "model_IF.fit(X.values)"
   ]
  },
  {
   "cell_type": "markdown",
   "id": "a860c7fa",
   "metadata": {},
   "source": [
    "# **Predict and Evaluate Performance**"
   ]
  },
  {
   "cell_type": "code",
   "execution_count": null,
   "id": "371d1400",
   "metadata": {},
   "outputs": [],
   "source": [
    "# model.load_model('model_IF_1.json')\n",
    "# predict on testset\n",
    "y_test_pred = model_IF.predict(X_test.values)\n",
    "y_test_pred = pd.Series(y_test_pred)\n",
    "\n",
    "# merge 'Graduate' and 'Enrolled' classes in y_test\n",
    "y_test = pd.Series(y_test).replace(to_replace=2, value=1)\n",
    "# 0:outlier (Dropout), 1: inlier\n",
    "y_test_pred = y_test_pred.map({1: 1, -1: 0})\n",
    "\n",
    "print(classification_report(y_test, y_test_pred))\n",
    "# Plot the two-way Confusion Matrix\n",
    "sb.heatmap(confusion_matrix(y_test, y_test_pred),annot = True, fmt=\".0f\", annot_kws={\"size\": 18})\n",
    "plt.ylabel('Actual')\n",
    "plt.xlabel('Predicted')\n",
    "plt.show()    "
   ]
  },
  {
   "cell_type": "code",
   "execution_count": null,
   "id": "21eb4f5f",
   "metadata": {},
   "outputs": [],
   "source": [
    "model.save_model('model_IF_1.json')"
   ]
  },
  {
   "cell_type": "code",
   "execution_count": null,
   "id": "1ad5ef50",
   "metadata": {},
   "outputs": [],
   "source": []
  },
  {
   "cell_type": "code",
   "execution_count": null,
   "id": "4d2a82b3",
   "metadata": {},
   "outputs": [],
   "source": []
  }
 ],
 "metadata": {
  "kernelspec": {
   "display_name": "Python 3 (ipykernel)",
   "language": "python",
   "name": "python3"
  },
  "language_info": {
   "codemirror_mode": {
    "name": "ipython",
    "version": 3
   },
   "file_extension": ".py",
   "mimetype": "text/x-python",
   "name": "python",
   "nbconvert_exporter": "python",
   "pygments_lexer": "ipython3",
   "version": "3.9.13"
  }
 },
 "nbformat": 4,
 "nbformat_minor": 5
}
